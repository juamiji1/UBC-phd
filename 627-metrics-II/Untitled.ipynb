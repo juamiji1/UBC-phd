{
 "cells": [
  {
   "cell_type": "code",
   "execution_count": 1,
   "id": "22f4af95",
   "metadata": {},
   "outputs": [],
   "source": [
    "#using Pkg\n",
    "#Pkg.add([\"JuMP\", \"StatsPlots\",\"Clp\",\"HiGHS\"])\n",
    "using Distributions, Random, PrettyTables, QuadGK, Plots, Roots, JLD2, Optim, Plots, Clp, StatsPlots, JuMP, HiGHS, LinearAlgebra"
   ]
  },
  {
   "cell_type": "markdown",
   "id": "7dd65383",
   "metadata": {},
   "source": [
    "### (b)."
   ]
  },
  {
   "cell_type": "code",
   "execution_count": 2,
   "id": "f6d3c316",
   "metadata": {},
   "outputs": [
    {
     "data": {
      "text/plain": [
       "dgp (generic function with 1 method)"
      ]
     },
     "execution_count": 2,
     "metadata": {},
     "output_type": "execute_result"
    }
   ],
   "source": [
    "#DGP \n",
    "function dgp(n,π1,ρ,c)\n",
    "     \n",
    "    u= rand(Uniform(0,1),n)\n",
    "    e= randn(n,1)\n",
    "    v= ρ*u+e\n",
    "    \n",
    "    Z= randn(n,1)\n",
    "    α=c*u\n",
    "    \n",
    "    D= ones(n,1)+Z.*π+v\n",
    "    Y= ones(n,1)+α.*D\n",
    "       \n",
    "   return Y, D, Z\n",
    "    \n",
    "end"
   ]
  },
  {
   "cell_type": "markdown",
   "id": "2f24f829",
   "metadata": {},
   "source": [
    "### (c)."
   ]
  },
  {
   "cell_type": "code",
   "execution_count": null,
   "id": "c22bccda",
   "metadata": {},
   "outputs": [],
   "source": [
    "function qreg(;Y,X,τ)\n",
    "    \n",
    "    QR=Model(HiGHS.Optimizer)\n",
    "    set_silent(QR)\n",
    "    n=length(Y)\n",
    "    \n",
    "    c=[τ*ones(n,1);(1-τ)*ones(n,1);];\n",
    "    @variable(QR,x[1:2*n]>=0.0); #this includes the non-negativity constraint on z^{+} and z^{-}\n",
    "    @variable(QR,-100.0<=b<=100.0); #if you want to estimate vector b you use @variable(QR,-100.0<=b[1:k]<=100.0) where k is dimension\n",
    "    @objective(QR,Min,sum(c[i]*x[i] for i in 1:(2*n)));\n",
    "    @constraint(QR,constraint[i in 1:n],x[i]-x[n+i]+sum(X[i,:].*b)+sum(Z[i,:].*g)==Y[i]); #the equality constraint\n",
    "    optimize!(QR);\n",
    "    estr=value.(b)\n",
    "    \n",
    "end"
   ]
  }
 ],
 "metadata": {
  "kernelspec": {
   "display_name": "Julia 1.8.2",
   "language": "julia",
   "name": "julia-1.8"
  },
  "language_info": {
   "file_extension": ".jl",
   "mimetype": "application/julia",
   "name": "julia",
   "version": "1.8.2"
  }
 },
 "nbformat": 4,
 "nbformat_minor": 5
}
