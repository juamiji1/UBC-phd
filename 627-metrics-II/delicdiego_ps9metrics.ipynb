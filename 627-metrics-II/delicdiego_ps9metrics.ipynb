{
 "cells": [
  {
   "cell_type": "code",
   "execution_count": 1,
   "id": "b7f49126-eadc-4aad-ae75-1c2f86270f60",
   "metadata": {},
   "outputs": [],
   "source": [
    "# Set working directory\n",
    "cd(\"C:/Users/54116/OneDrive - UBC/PhD - UBC/1. Metrics II/4. psets/9\")"
   ]
  },
  {
   "cell_type": "code",
   "execution_count": 2,
   "id": "f828b9b3-ddb0-4773-9f9c-8a22befb0dce",
   "metadata": {},
   "outputs": [],
   "source": [
    "using Parameters, Optim, ForwardDiff, LinearAlgebra, Distributions, Random, PrettyTables, Plots, LaTeXStrings, QuadGK, Roots, JLD2, Statistics"
   ]
  },
  {
   "cell_type": "code",
   "execution_count": 3,
   "id": "c6bde823-f32e-472b-8469-d723ee1bb82c",
   "metadata": {},
   "outputs": [],
   "source": [
    "Random.seed!(1405);"
   ]
  },
  {
   "cell_type": "markdown",
   "id": "e590d748-51bc-46f1-bc84-b81e26ace7bb",
   "metadata": {},
   "source": [
    "#### Question 2 - Monte Carlo experiments for ATE in a 2-step estimation model"
   ]
  },
  {
   "cell_type": "code",
   "execution_count": 4,
   "id": "6a7db47f-bc02-48c9-a137-2abaa941bc7d",
   "metadata": {},
   "outputs": [],
   "source": [
    "F(w)=cdf(Normal(0,1),w);\n",
    "G(w)=pdf(Normal(0,1),w);"
   ]
  },
  {
   "cell_type": "code",
   "execution_count": 6,
   "id": "d76ca2c3-0a73-4007-b56c-1027c1934eb5",
   "metadata": {},
   "outputs": [],
   "source": [
    "function dgp(n,τ0,α0,β0,γ0,δ0,μ0) # τ0 must be 2x1\n",
    "    dist1 = Normal(μ0, 1)\n",
    "    X2 = rand(dist1,n)\n",
    "    v0 = randn(n)\n",
    "    v1 = randn(n)\n",
    "    X1 = ones(n)\n",
    "    X = [X1 X2]\n",
    "    ϵ = randn(n)\n",
    "    D = ((X*τ0 .>= ϵ).*1.0)[:,1] #this way D is a vector{float} instead of matrix - and CF provides float which optmin likes\n",
    "    Px = F.(X*τ0)\n",
    "    Y0 = α0 .+ β0*Px .+ v0\n",
    "    Y1 = γ0 .+ δ0*Px .+ v1\n",
    "    Y = (D .>= 0).*(D .<= 0).*Y0 + (D.>=1) .* (D.<=1) .*Y1\n",
    "    return (X1=X1, X2=X2, X=X, D=D, Y=Y)\n",
    "end;"
   ]
  },
  {
   "cell_type": "code",
   "execution_count": 7,
   "id": "f37ed390-e6b4-42b2-ae1d-a3df15f2c0f9",
   "metadata": {},
   "outputs": [
    {
     "data": {
      "text/plain": [
       "cf_probit (generic function with 1 method)"
      ]
     },
     "execution_count": 7,
     "metadata": {},
     "output_type": "execute_result"
    }
   ],
   "source": [
    "function cf_probit(τ,X1,X2,D)\n",
    "n = length(D)    \n",
    "Qn = - (1/n) * D'*log.(F(τ[1]*X1 .+ τ[2]*X2)) - (1/n) * (1 .- D)' * log.(1 .- F(τ[1]*X1 .+ τ[2]*X2))\n",
    "    return (Qn = Qn)\n",
    "end"
   ]
  },
  {
   "cell_type": "code",
   "execution_count": 8,
   "id": "f1e34f2d-5457-4a58-ba77-87fad5886b79",
   "metadata": {},
   "outputs": [
    {
     "data": {
      "text/plain": [
       "mle_probit (generic function with 1 method)"
      ]
     },
     "execution_count": 8,
     "metadata": {},
     "output_type": "execute_result"
    }
   ],
   "source": [
    "function mle_probit(X1,X2,D)\n",
    "n = length(D)\n",
    "result = optimize(τ->cf_probit(τ,X1,X2,D),[0.0;0.0;])\n",
    "τ_n = Optim.minimizer(result)\n",
    "    return (τ_n = τ_n)\n",
    "end"
   ]
  },
  {
   "cell_type": "code",
   "execution_count": 97,
   "id": "098f3f3b-261d-4834-91f0-d90b27585610",
   "metadata": {},
   "outputs": [
    {
     "data": {
      "text/plain": [
       "twostep (generic function with 1 method)"
      ]
     },
     "execution_count": 97,
     "metadata": {},
     "output_type": "execute_result"
    }
   ],
   "source": [
    "function twostep(X1,X2,X,D,Y)\n",
    "#first, estimate parameters\n",
    "n = length(D)\n",
    "τ_n = mle_probit(X1,X2,D)\n",
    "Z = [ones(n) F.(X*τ_n) D (F.(X*τ_n).-Statistics.mean(F.(X*τ_n))).*D]\n",
    "θ_n = inv(Z'Z)*Z'Y\n",
    "β_n = θ_n[2]\n",
    "δβ_n = θ_n[4]    \n",
    "\n",
    "#now for the standard error\n",
    "B_n = (Z'*Z)/n #4x4\n",
    "Ω_n = (Z'*(((Y - Z*θ_n).^2).*Z))/n  #4x4 - need to broadcast residuals nx1 to the Z matrix nx4\n",
    "s_n = (D.*(G.(X*τ_n)./F.(X*τ_n)) - (1 .- D).*(G.(X*τ_n)./(1 .- F.(X*τ_n)))).*X # nx2\n",
    "C_n = (s_n'*s_n)/n # 2x2\n",
    "meanvector = [Statistics.mean(G.(X*τ_n).*X[:,1]) Statistics.mean(G.(X*τ_n).*X[:,2])]\n",
    "Δ_n = (Z'*(β_n * G.(X*τ_n) .* X + δβ_n * (G.(X*τ_n).*X .- meanvector)))/n #4x2\n",
    "V_θ = inv(B_n)*(Ω_n+Δ_n*inv(C_n)*Δ_n')*inv(B_n)\n",
    "se_θ = sqrt(V_θ[3,3]/n)\n",
    "V_not_adjusted = inv(B_n)*(Ω_n)*inv(B_n)\n",
    "se_not = sqrt(V_not_adjusted[3,3]/n)\n",
    "    \n",
    "#intervals\n",
    "ci_lower_θ = quantile(Normal(), 0.1 / 2) .* se_θ .+ θ_n[3]\n",
    "ci_upper_θ = quantile(Normal(), 1 - 0.1 / 2) .* se_θ .+ θ_n[3]\n",
    "ci_lower_not = quantile(Normal(), 0.1 / 2) .* se_not .+ θ_n[3]\n",
    "ci_upper_not = quantile(Normal(), 1 - 0.1 / 2) .* se_not .+ θ_n[3]    \n",
    "        \n",
    "    return (θ_n=θ_n[3], se_θ=se_θ, se_not=se_not, ci_upper_θ, ci_lower_θ, ci_upper_not, ci_lower_not) #\n",
    "end"
   ]
  },
  {
   "cell_type": "code",
   "execution_count": 218,
   "id": "78b5807c-0127-4fac-ac36-f07002b2228e",
   "metadata": {},
   "outputs": [
    {
     "data": {
      "text/plain": [
       "(θ_n = 0.16937039222064915, se_θ = 0.6422678366268927, se_not = 0.6368502244755219, ci_upper_θ = 1.2258069727706689, ci_lower_θ = -0.8870661883293711, ci_upper_not = 1.21689579377407, ci_lower_not = -0.8781550093327724)"
      ]
     },
     "execution_count": 218,
     "metadata": {},
     "output_type": "execute_result"
    }
   ],
   "source": [
    "#X1,X2,X,D,Y=dgp(100,[-0.5 2]',1,1,1,1,1);\n",
    "#cf_probit([-0.5, 2],X1,X2,D)\n",
    "#n = length(D)\n",
    "#result = optimize(τ->cf_probit(τ,X1,X2,D),[0.0;0.0;])\n",
    "#mle_probit(X1,X2,D)\n",
    "twostep(X1,X2,X,D,Y)"
   ]
  },
  {
   "cell_type": "code",
   "execution_count": 473,
   "id": "7c9fdb17-ea39-488c-bef0-02ba0490774f",
   "metadata": {},
   "outputs": [
    {
     "data": {
      "text/plain": [
       "boostrap (generic function with 1 method)"
      ]
     },
     "execution_count": 473,
     "metadata": {},
     "output_type": "execute_result"
    }
   ],
   "source": [
    "function boostrap(X1,X2,D,Y,B,η)\n",
    "n=length(D)\n",
    "θ_boot = zeros(B)\n",
    "    \n",
    "for i=1:B\n",
    "        \n",
    "sampling = sample([1:n;],n,replace=true)\n",
    "X2_b = X2[sampling]\n",
    "D_b = D[sampling]\n",
    "Y_b = Y[sampling]\n",
    "X = [ones(n) X2_b]\n",
    "        \n",
    "@unpack θ_n = twostep(X1,X2_b,X,D_b,Y_b)\n",
    "        \n",
    "θ_boot[i] = θ_n\n",
    "end\n",
    "    \n",
    "se_boot = sqrt((sum((θ_boot .- Statistics.mean(θ_boot)).^2))/B)\n",
    "    \n",
    "θ_range = sort(θ_boot)    \n",
    "\n",
    "boot_lower_ci = θ_range[Int(η/2*(B+1))]\n",
    " \n",
    "boot_upper_ci = θ_range[Int((1-η/2)*(B+1))]\n",
    "    \n",
    "return (θ_boot=θ_boot, se_boot=se_boot, boot_lower_ci=boot_lower_ci, boot_upper_ci=boot_upper_ci)\n",
    "end"
   ]
  },
  {
   "cell_type": "code",
   "execution_count": 604,
   "id": "fb3f7b88-7733-40a5-b5f7-d29f8854fd71",
   "metadata": {},
   "outputs": [],
   "source": [
    "B = 999\n",
    "n=length(D)\n",
    "θ_boot = zeros(B)\n",
    "    \n",
    "for i=1:B\n",
    "    \n",
    "sampling = sample([1:n;],n,replace=true)\n",
    "X2_b = X2[sampling]\n",
    "D_b = D[sampling]\n",
    "Y_b = Y[sampling]\n",
    "X = [ones(n) X2_b]\n",
    "        \n",
    "@unpack θ_n = twostep(X1,X2_b,X,D_b,Y_b)\n",
    "        \n",
    "θ_boot[i] = θ_n\n",
    "end\n",
    "    \n",
    "se_boot = sqrt((sum((θ_boot .- Statistics.mean(θ_boot)).^2))/B)\n",
    "    \n",
    "θ_range = sort(θ_boot)    \n",
    "\n",
    "boot_lower_ci = θ_range[Int(0.1/2*(B+1))]\n",
    " \n",
    "boot_upper_ci = θ_range[Int((1-0.1/2)*(B+1))];"
   ]
  },
  {
   "cell_type": "code",
   "execution_count": 600,
   "id": "595e1450-d964-4c2f-a8b4-df6100b6ee74",
   "metadata": {},
   "outputs": [
    {
     "data": {
      "text/plain": [
       "(θ_n = -0.18547091578576413, se_θ = 0.8876267085483491, se_not = 0.878026105518953, ci_upper_θ = 1.274545095148985, ci_lower_θ = -1.6454869267205137, ci_upper_not = 1.2587535084351613, ci_lower_not = -1.6296953400066903)"
      ]
     },
     "execution_count": 600,
     "metadata": {},
     "output_type": "execute_result"
    }
   ],
   "source": [
    "# esto lo corre bien - el problema está en el loop\n",
    "sampling = sample([1:n;],n,replace=true)\n",
    "X2_b = X2[sampling]\n",
    "D_b = D[sampling]\n",
    "Y_b = Y[sampling]\n",
    "X = [ones(n) X2_b]\n",
    "        \n",
    "@unpack θ_n = twostep(X1,X2_b,X,D_b,Y_b)"
   ]
  },
  {
   "cell_type": "code",
   "execution_count": 602,
   "id": "c47c3d25-dc02-4453-8d18-5bd55d75fdc1",
   "metadata": {},
   "outputs": [
    {
     "data": {
      "text/plain": [
       "2.8776727198724075"
      ]
     },
     "execution_count": 602,
     "metadata": {},
     "output_type": "execute_result"
    }
   ],
   "source": [
    "#se_boot, boot_lower_ci, boot_upper_ci\n",
    "θ_boot\n",
    "θ_range\n",
    "θ_range[Int(0.1/2*(B+1))]\n",
    "θ_range[Int((1-0.1/2)*(B+1))]"
   ]
  },
  {
   "cell_type": "code",
   "execution_count": 459,
   "id": "8759f40d-7fd3-4761-8000-1816ace7170b",
   "metadata": {},
   "outputs": [
    {
     "data": {
      "text/plain": [
       "0.0"
      ]
     },
     "execution_count": 459,
     "metadata": {},
     "output_type": "execute_result"
    }
   ],
   "source": [
    "α = 1\n",
    "γ = 1\n",
    "β = 1\n",
    "δ = 1\n",
    "ATE = γ-α+(δ-β)*(quadgk(z->F(1*(-0.5)+2*z)*G(z),-Inf,Inf,atol=1e-8)[1])"
   ]
  },
  {
   "cell_type": "code",
   "execution_count": 460,
   "id": "dd7c6642-1fed-483b-ad94-05c244d86b3f",
   "metadata": {},
   "outputs": [
    {
     "data": {
      "text/plain": [
       "intervals (generic function with 1 method)"
      ]
     },
     "execution_count": 460,
     "metadata": {},
     "output_type": "execute_result"
    }
   ],
   "source": [
    "# coverage probabilities\n",
    "\n",
    "function intervals(r,b)\n",
    "\n",
    "R = r # put 1,000\n",
    "    \n",
    "InsideCI_2step = 0\n",
    "InsideCI_not = 0\n",
    "InsideCI_boot = 0\n",
    "    \n",
    "for i=1:R\n",
    "    X1,X2,X,D,Y = dgp(100,[-0.5,2],1,1,1,1,1)\n",
    "    \n",
    "    @unpack θ_n, se_θ, se_not, ci_lower_θ, ci_upper_θ, ci_lower_not, ci_upper_not = twostep(X1,X2,X,D,Y);\n",
    "    InsideCI_2step += ci_upper_θ > 0 && ci_lower_θ < 0 ? 1.0 : 0.0 ### true value of theta[3], ATE, is 0\n",
    "    InsideCI_not += ci_upper_not > 0 && ci_lower_not < 0 ? 1.0 : 0.0 ###\n",
    "        \n",
    "    @unpack boot_lower_ci, boot_upper_ci = boostrap(X1,X2,D,Y,b,0.1)  ### b plays here\n",
    "    InsideCI_boot += boot_upper_ci > 0 && boot_lower_ci < 0 ? 1.0 : 0.0 ###   \n",
    "        \n",
    "end\n",
    "    return (twostep = InsideCI_2step/R, not_adjusted = InsideCI_not/R, bootstrap = InsideCI_boot/R)\n",
    "end"
   ]
  },
  {
   "cell_type": "code",
   "execution_count": 472,
   "id": "9bcda926-b9b6-42c3-949c-958512902fd9",
   "metadata": {},
   "outputs": [
    {
     "data": {
      "text/plain": [
       "(twostep = 0.92, not_adjusted = 0.9, bootstrap = 1.0)"
      ]
     },
     "execution_count": 472,
     "metadata": {},
     "output_type": "execute_result"
    }
   ],
   "source": [
    "intervals(100,999)"
   ]
  }
 ],
 "metadata": {
  "kernelspec": {
   "display_name": "Julia 1.8.2",
   "language": "julia",
   "name": "julia-1.8"
  },
  "language_info": {
   "file_extension": ".jl",
   "mimetype": "application/julia",
   "name": "julia",
   "version": "1.8.2"
  }
 },
 "nbformat": 4,
 "nbformat_minor": 5
}
