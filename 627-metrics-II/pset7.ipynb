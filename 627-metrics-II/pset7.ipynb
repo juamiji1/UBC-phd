{
 "cells": [
  {
   "cell_type": "markdown",
   "id": "7c8e8e3e",
   "metadata": {},
   "source": [
    "## Problem set 7"
   ]
  },
  {
   "cell_type": "code",
   "execution_count": 1,
   "id": "18a85b47",
   "metadata": {},
   "outputs": [],
   "source": [
    "using Pkg\n",
    "#Pkg.add([\"Latexify\", \"Optim\"])\n",
    "using Distributions, Optim, Plots"
   ]
  },
  {
   "cell_type": "markdown",
   "id": "476d78d4",
   "metadata": {},
   "source": [
    "### 1. Monte Carlo simulations for Probit Model\n",
    "\n",
    "$$\n",
    "Y_i = 1(X'_i\\beta + U_i >= 0) \\\\\n",
    "Y_i = 1(\\beta_{10} + \\beta_{20} x_i + U_i >= 0) \\\\\n",
    "U_i|x_i ~ N(0,1) \\\\\n",
    "x_i ~ N(0,1) \\\\\n",
    "\\beta_{10} = -0.5 \\\\\n",
    "\\beta_{20} = 1.0\n",
    "$$\n",
    "    "
   ]
  },
  {
   "cell_type": "code",
   "execution_count": 2,
   "id": "690e40a4",
   "metadata": {},
   "outputs": [
    {
     "data": {
      "text/plain": [
       "1.9599639845400576"
      ]
     },
     "execution_count": 2,
     "metadata": {},
     "output_type": "execute_result"
    }
   ],
   "source": [
    "const n=1000;\n",
    "const β₁=-.5;\n",
    "const β₂=1.0;\n",
    "const R=100; #number of MC replications\n",
    "\n",
    "Φ(v)=cdf(Normal(0,1),v)\n",
    "ϕ(v)=pdf(Normal(0,1),v)\n",
    "\n",
    "cv=quantile(Normal(0,1),0.975)"
   ]
  },
  {
   "cell_type": "code",
   "execution_count": 3,
   "id": "67292988",
   "metadata": {},
   "outputs": [
    {
     "data": {
      "text/plain": [
       "gen_data (generic function with 1 method)"
      ]
     },
     "execution_count": 3,
     "metadata": {},
     "output_type": "execute_result"
    }
   ],
   "source": [
    "function gen_data(n,b₁,b₂)\n",
    "    u=randn(n,1);\n",
    "    x=randn(n,1);\n",
    "    y=(β₁ .+ β₂*x +u .>0.0)*1.0;\n",
    "    return x, y\n",
    "end"
   ]
  },
  {
   "cell_type": "markdown",
   "id": "77f52f48",
   "metadata": {},
   "source": [
    "#### a. Generating observations"
   ]
  },
  {
   "cell_type": "code",
   "execution_count": 4,
   "id": "035075d8",
   "metadata": {},
   "outputs": [
    {
     "data": {
      "text/plain": [
       "357.0"
      ]
     },
     "execution_count": 4,
     "metadata": {},
     "output_type": "execute_result"
    }
   ],
   "source": [
    "x,y=gen_data(n,β₁,β₂);\n",
    "sum(y)"
   ]
  },
  {
   "cell_type": "markdown",
   "id": "2d48ab2a",
   "metadata": {},
   "source": [
    "#### b. Probit Log-likelihood\n",
    "$$\n",
    "Define: \\\\\n",
    " \\beta = (\\beta_1, \\beta_2)' \\\\\n",
    " X_i = (1, x_i)' \\\\\n",
    "Q_n(\\beta) = -\\frac{1}{n}\\sum_{n=1}^{\\infty}Y_i log(\\Phi(X'_i\\beta) -\\frac{1}{n}\\sum_{n=1}^{\\infty}(1-Y_i)log(1-\\Phi(X'_i\\beta))\n",
    "$$"
   ]
  },
  {
   "cell_type": "code",
   "execution_count": 5,
   "id": "7921fdef",
   "metadata": {},
   "outputs": [
    {
     "data": {
      "text/plain": [
       "LogL (generic function with 1 method)"
      ]
     },
     "execution_count": 5,
     "metadata": {},
     "output_type": "execute_result"
    }
   ],
   "source": [
    "function LogL(b,x,y)\n",
    "    n=length(y)\n",
    "    L=0.0\n",
    "    for i=1:n\n",
    "        indx=b[1]+x[i]*b[2]\n",
    "        L -=y[i]*log(Φ(indx))+(1-y[i])*log(1-Φ(indx))\n",
    "    end\n",
    "    return L/n\n",
    "end"
   ]
  },
  {
   "cell_type": "markdown",
   "id": "f8aba4e9",
   "metadata": {},
   "source": [
    "#### d. Logit likelihood"
   ]
  },
  {
   "cell_type": "code",
   "execution_count": 6,
   "id": "61a5446b",
   "metadata": {},
   "outputs": [
    {
     "data": {
      "text/plain": [
       "Λ (generic function with 1 method)"
      ]
     },
     "execution_count": 6,
     "metadata": {},
     "output_type": "execute_result"
    }
   ],
   "source": [
    "## Logit CDF\n",
    "Λ(x)=exp(x)/(1+exp(x))"
   ]
  },
  {
   "cell_type": "code",
   "execution_count": 7,
   "id": "95ffa9a3",
   "metadata": {},
   "outputs": [
    {
     "data": {
      "text/plain": [
       "LogL_logit (generic function with 1 method)"
      ]
     },
     "execution_count": 7,
     "metadata": {},
     "output_type": "execute_result"
    }
   ],
   "source": [
    "##Likelihood\n",
    "function LogL_logit(b,x,y)\n",
    "    n=length(y)\n",
    "    L=0.0\n",
    "    for i=1:n\n",
    "        indx=b[1]+x[i]*b[2]\n",
    "        L -=y[i]*log(Λ(indx))+(1-y[i])*log(1-Λ(indx))\n",
    "    end\n",
    "    return L/n\n",
    "end"
   ]
  },
  {
   "cell_type": "markdown",
   "id": "93369224",
   "metadata": {},
   "source": [
    "#### e. Linear Probability Model "
   ]
  },
  {
   "cell_type": "code",
   "execution_count": 8,
   "id": "61b5ddb2",
   "metadata": {},
   "outputs": [
    {
     "data": {
      "text/plain": [
       "linprob (generic function with 1 method)"
      ]
     },
     "execution_count": 8,
     "metadata": {},
     "output_type": "execute_result"
    }
   ],
   "source": [
    "function linprob(x,y)\n",
    "    n=length(x)\n",
    "    X=[ones(n,1) x]\n",
    "    b=inv(X'*X)*X'*y\n",
    "    return b\n",
    "end\n",
    " "
   ]
  },
  {
   "cell_type": "markdown",
   "id": "c9852473",
   "metadata": {},
   "source": [
    "#### c, d. Estimation  n = 100"
   ]
  },
  {
   "cell_type": "code",
   "execution_count": 9,
   "id": "dc6fd4db",
   "metadata": {},
   "outputs": [
    {
     "name": "stderr",
     "output_type": "stream",
     "text": [
      "WARNING: redefinition of constant n. This may fail, cause incorrect answers, or produce other errors.\n",
      "WARNING: redefinition of constant R. This may fail, cause incorrect answers, or produce other errors.\n"
     ]
    }
   ],
   "source": [
    "const n=100\n",
    "const R=1000\n",
    "β̂2_ML=zeros(R,1)\n",
    "b2_LP=zeros(R,1)\n",
    "b2_logit=zeros(R,1)\n",
    "\n",
    "\n",
    "for j=1:R\n",
    "    x,y=gen_data(n,β₁,β₂);\n",
    "    #MLE\n",
    "    result=optimize(b->LogL(b,x,y),[0.0;0.0;])\n",
    "    β̂=Optim.minimizer(result)\n",
    "    β̂2_ML[j,1]=β̂[2]\n",
    "    \n",
    "    #Logit\n",
    "    result=optimize(b->LogL_logit(b,x,y),[0.0;0.0;])\n",
    "    β̂=Optim.minimizer(result)\n",
    "    b2_logit[j,1]=β̂[2]\n",
    "    \n",
    "    #LIN.Prob\n",
    "    b=linprob(x,y)\n",
    "    b2_LP[j,1]=b[2]\n",
    "end"
   ]
  },
  {
   "cell_type": "markdown",
   "id": "4cf39d21",
   "metadata": {},
   "source": [
    "##### c., d. Bias and RMSE n =100"
   ]
  },
  {
   "cell_type": "code",
   "execution_count": 10,
   "id": "30f18420",
   "metadata": {},
   "outputs": [
    {
     "name": "stdout",
     "output_type": "stream",
     "text": [
      "Simulated Bias\n",
      "ML      Logit       LP\n",
      "0.0557   0.806   -0.7345\n",
      "----------------------\n",
      "Simulated RMSE\n",
      "ML     Logit     LP\n",
      "0.2401    0.9099    0.7352\n"
     ]
    }
   ],
   "source": [
    "Bias_ML=mean(β̂2_ML .- β₂);\n",
    "Bias_logit=mean(b2_logit .- β₂);\n",
    "Bias_LP=mean(b2_LP .- β₂);\n",
    "\n",
    "\n",
    "println(\"Simulated Bias\")\n",
    "println(\"ML      Logit       LP\")\n",
    "println(round(Bias_ML,digits=4),\"   \", round(Bias_logit,digits=4),\n",
    "    \"   \",round(Bias_LP,digits=4))\n",
    "println(\"----------------------\")\n",
    "\n",
    "RMSE_ML=sqrt(mean( (β̂2_ML .- β₂).^2) );\n",
    "RMSE_logit=sqrt(mean( (b2_logit .- β₂).^2) );\n",
    "RMSE_LP=sqrt(mean( (b2_LP .- β₂).^2) );\n",
    "\n",
    "println(\"Simulated RMSE\")\n",
    "println(\"ML     Logit     LP\")\n",
    "println(round(RMSE_ML,digits=4),\"    \", round(RMSE_logit,digits=4),\n",
    "    \"    \", round(RMSE_LP,digits=4))"
   ]
  },
  {
   "cell_type": "markdown",
   "id": "3cf214a4",
   "metadata": {},
   "source": [
    "##### f. g. h., Estimation, Bias and RMSE for  𝑛=1000"
   ]
  },
  {
   "cell_type": "code",
   "execution_count": 11,
   "id": "de466d70",
   "metadata": {},
   "outputs": [
    {
     "name": "stdout",
     "output_type": "stream",
     "text": [
      "Simulated Bias\n",
      "ML      Logit       LP\n",
      "0.0028   0.7173   -0.7353\n",
      "----------------------\n",
      "Simulated RMSE\n",
      "ML     Logit     LP\n",
      "0.0633    0.7265    0.7353\n"
     ]
    },
    {
     "name": "stderr",
     "output_type": "stream",
     "text": [
      "WARNING: redefinition of constant n. This may fail, cause incorrect answers, or produce other errors.\n"
     ]
    }
   ],
   "source": [
    "const n=1000\n",
    "\n",
    "β̂2_ML=zeros(R,1)\n",
    "b2_logit=zeros(R,1)\n",
    "b2_LP=zeros(R,1)\n",
    "\n",
    "\n",
    "\n",
    "for j=1:R\n",
    "    x,y=gen_data(n,β₁,β₂);\n",
    "    #MLE\n",
    "    result=optimize(b->LogL(b,x,y),[0.0;0.0;])\n",
    "    β̂=Optim.minimizer(result)\n",
    "    β̂2_ML[j,1]=β̂[2]\n",
    "    \n",
    "    #Logit\n",
    "    result=optimize(b->LogL_logit(b,x,y),[0.0;0.0;])\n",
    "    β̂=Optim.minimizer(result)\n",
    "    b2_logit[j,1]=β̂[2]\n",
    "    \n",
    "    #LIN.Prob\n",
    "    b=linprob(x,y)\n",
    "    b2_LP[j,1]=b[2]\n",
    "end\n",
    "\n",
    "Bias_ML=mean(β̂2_ML .- β₂);\n",
    "Bias_logit=mean(b2_logit .- β₂);\n",
    "Bias_LP=mean(b2_LP .- β₂);\n",
    "\n",
    "\n",
    "println(\"Simulated Bias\")\n",
    "println(\"ML      Logit       LP\")\n",
    "println(round(Bias_ML,digits=4),\"   \", round(Bias_logit,digits=4),\n",
    "    \"   \",round(Bias_LP,digits=4))\n",
    "println(\"----------------------\")\n",
    "\n",
    "RMSE_ML=sqrt(mean( (β̂2_ML .- β₂).^2) );\n",
    "RMSE_logit=sqrt(mean( (b2_logit .- β₂).^2) );\n",
    "RMSE_LP=sqrt(mean( (b2_LP .- β₂).^2) );\n",
    "\n",
    "println(\"Simulated RMSE\")\n",
    "println(\"ML     Logit     LP\")\n",
    "println(round(RMSE_ML,digits=4),\"    \", round(RMSE_logit,digits=4),\n",
    "    \"    \", round(RMSE_LP,digits=4))"
   ]
  },
  {
   "cell_type": "markdown",
   "id": "8aa7acb6",
   "metadata": {},
   "source": [
    "### 3. Monte Carlo simulations for the efficient two-step GMM estimator\n",
    "DGP :\n",
    "$$ \n",
    "Y_i = \\Lambda(X_i, \\theta_0) + U_i \\\\\n",
    "\\Lambda(x, \\theta) = \\frac{2}{1 + exp(5-\\theta x)} \\\\\n",
    "X_i = exp(Z_{i,1} + Z_{1,2}) + V_i \\\\\n",
    "U_i = \\lambda V_i + \\epsilon_i \\\\\n",
    "$$\n",
    "Given:\n",
    "$$\n",
    "Z_{i,1} ∼ N(2,1), Z_{i,2} ∼ N(−2,1), V_i ∼ N(0,1), ε_i ∼ N(0,1), \\\\\n",
    "Z_{i,1},Z_{i,2},V_i,ε_i\n",
    "\\\\\n",
    "$$\n",
    "are independent."
   ]
  },
  {
   "cell_type": "code",
   "execution_count": 12,
   "id": "6138cfbc",
   "metadata": {},
   "outputs": [],
   "source": [
    "using Pkg\n",
    "#Pkg.add([\"Statistics\", \"ForwardDiff\",\"Random\"])\n",
    "using LinearAlgebra, Plots, Statistics, Optim, ForwardDiff, Distributions, Random"
   ]
  },
  {
   "cell_type": "markdown",
   "id": "b543e817",
   "metadata": {},
   "source": [
    "#### Part (a): Data Generating Process (DGP)"
   ]
  },
  {
   "cell_type": "code",
   "execution_count": 13,
   "id": "bd23e6da",
   "metadata": {},
   "outputs": [
    {
     "data": {
      "text/plain": [
       "DGP (generic function with 1 method)"
      ]
     },
     "execution_count": 13,
     "metadata": {},
     "output_type": "execute_result"
    }
   ],
   "source": [
    "Λ(x)=2/(1 + exp(5-x))\n",
    "\n",
    "\n",
    "const θ₀=5.0;\n",
    "const λ=0.9;\n",
    "\n",
    "function DGP(n)\n",
    "    \n",
    "    Z₁=randn(n) .+ 2\n",
    "    Z₂=randn(n) .- 2\n",
    "    V=randn(n)\n",
    "    ϵ=randn(n)\n",
    "    \n",
    "    X=exp.(Z₁+Z₂) +V\n",
    "    U=λ*V+ϵ\n",
    "    Y=Λ.(θ₀*X) +U\n",
    "    \n",
    "    return Y,X,Z₁,Z₂\n",
    "end"
   ]
  },
  {
   "cell_type": "markdown",
   "id": "a5cf9b6c",
   "metadata": {},
   "source": [
    "#### Part (b): GMM criterion function"
   ]
  },
  {
   "cell_type": "code",
   "execution_count": 14,
   "id": "9be59aa2",
   "metadata": {},
   "outputs": [
    {
     "data": {
      "text/plain": [
       "Qₙ (generic function with 1 method)"
      ]
     },
     "execution_count": 14,
     "metadata": {},
     "output_type": "execute_result"
    }
   ],
   "source": [
    "function Qₙ(θ,Y,X,Z₁,Z₂,WeightMatrix)\n",
    "    n=length(Y)\n",
    "    Z=[Z₁ Z₂]\n",
    "    Error=Y-Λ.(θ.*X)\n",
    "    M=Z' * Error/n\n",
    "    return M'*WeightMatrix*M/2\n",
    "end"
   ]
  },
  {
   "cell_type": "markdown",
   "id": "74580a78",
   "metadata": {},
   "source": [
    "#### Part (c): Plotting the criterion function for n = 100,000"
   ]
  },
  {
   "cell_type": "code",
   "execution_count": 15,
   "id": "85b3fc15",
   "metadata": {},
   "outputs": [
    {
     "data": {
      "image/svg+xml": [
       "<?xml version=\"1.0\" encoding=\"utf-8\"?>\n",
       "<svg xmlns=\"http://www.w3.org/2000/svg\" xmlns:xlink=\"http://www.w3.org/1999/xlink\" width=\"600\" height=\"400\" viewBox=\"0 0 2400 1600\">\n",
       "<defs>\n",
       "  <clipPath id=\"clip730\">\n",
       "    <rect x=\"0\" y=\"0\" width=\"2400\" height=\"1600\"/>\n",
       "  </clipPath>\n",
       "</defs>\n",
       "<path clip-path=\"url(#clip730)\" d=\"\n",
       "M0 1600 L2400 1600 L2400 0 L0 0  Z\n",
       "  \" fill=\"#ffffff\" fill-rule=\"evenodd\" fill-opacity=\"1\"/>\n",
       "<defs>\n",
       "  <clipPath id=\"clip731\">\n",
       "    <rect x=\"480\" y=\"0\" width=\"1681\" height=\"1600\"/>\n",
       "  </clipPath>\n",
       "</defs>\n",
       "<path clip-path=\"url(#clip730)\" d=\"\n",
       "M112.177 1486.45 L2352.76 1486.45 L2352.76 47.2441 L112.177 47.2441  Z\n",
       "  \" fill=\"#ffffff\" fill-rule=\"evenodd\" fill-opacity=\"1\"/>\n",
       "<defs>\n",
       "  <clipPath id=\"clip732\">\n",
       "    <rect x=\"112\" y=\"47\" width=\"2242\" height=\"1440\"/>\n",
       "  </clipPath>\n",
       "</defs>\n",
       "<polyline clip-path=\"url(#clip732)\" style=\"stroke:#000000; stroke-linecap:round; stroke-linejoin:round; stroke-width:2; stroke-opacity:0.1; fill:none\" points=\"\n",
       "  175.59,1486.45 175.59,47.2441 \n",
       "  \"/>\n",
       "<polyline clip-path=\"url(#clip732)\" style=\"stroke:#000000; stroke-linecap:round; stroke-linejoin:round; stroke-width:2; stroke-opacity:0.1; fill:none\" points=\"\n",
       "  704.028,1486.45 704.028,47.2441 \n",
       "  \"/>\n",
       "<polyline clip-path=\"url(#clip732)\" style=\"stroke:#000000; stroke-linecap:round; stroke-linejoin:round; stroke-width:2; stroke-opacity:0.1; fill:none\" points=\"\n",
       "  1232.47,1486.45 1232.47,47.2441 \n",
       "  \"/>\n",
       "<polyline clip-path=\"url(#clip732)\" style=\"stroke:#000000; stroke-linecap:round; stroke-linejoin:round; stroke-width:2; stroke-opacity:0.1; fill:none\" points=\"\n",
       "  1760.9,1486.45 1760.9,47.2441 \n",
       "  \"/>\n",
       "<polyline clip-path=\"url(#clip732)\" style=\"stroke:#000000; stroke-linecap:round; stroke-linejoin:round; stroke-width:2; stroke-opacity:0.1; fill:none\" points=\"\n",
       "  2289.34,1486.45 2289.34,47.2441 \n",
       "  \"/>\n",
       "<polyline clip-path=\"url(#clip730)\" style=\"stroke:#000000; stroke-linecap:round; stroke-linejoin:round; stroke-width:4; stroke-opacity:1; fill:none\" points=\"\n",
       "  112.177,1486.45 2352.76,1486.45 \n",
       "  \"/>\n",
       "<polyline clip-path=\"url(#clip730)\" style=\"stroke:#000000; stroke-linecap:round; stroke-linejoin:round; stroke-width:4; stroke-opacity:1; fill:none\" points=\"\n",
       "  175.59,1486.45 175.59,1467.55 \n",
       "  \"/>\n",
       "<polyline clip-path=\"url(#clip730)\" style=\"stroke:#000000; stroke-linecap:round; stroke-linejoin:round; stroke-width:4; stroke-opacity:1; fill:none\" points=\"\n",
       "  704.028,1486.45 704.028,1467.55 \n",
       "  \"/>\n",
       "<polyline clip-path=\"url(#clip730)\" style=\"stroke:#000000; stroke-linecap:round; stroke-linejoin:round; stroke-width:4; stroke-opacity:1; fill:none\" points=\"\n",
       "  1232.47,1486.45 1232.47,1467.55 \n",
       "  \"/>\n",
       "<polyline clip-path=\"url(#clip730)\" style=\"stroke:#000000; stroke-linecap:round; stroke-linejoin:round; stroke-width:4; stroke-opacity:1; fill:none\" points=\"\n",
       "  1760.9,1486.45 1760.9,1467.55 \n",
       "  \"/>\n",
       "<polyline clip-path=\"url(#clip730)\" style=\"stroke:#000000; stroke-linecap:round; stroke-linejoin:round; stroke-width:4; stroke-opacity:1; fill:none\" points=\"\n",
       "  2289.34,1486.45 2289.34,1467.55 \n",
       "  \"/>\n",
       "<path clip-path=\"url(#clip730)\" d=\"M129.653 1532.02 L159.328 1532.02 L159.328 1535.95 L129.653 1535.95 L129.653 1532.02 Z\" fill=\"#000000\" fill-rule=\"evenodd\" fill-opacity=\"1\" /><path clip-path=\"url(#clip730)\" d=\"M173.449 1544.91 L189.768 1544.91 L189.768 1548.85 L167.824 1548.85 L167.824 1544.91 Q170.486 1542.16 175.069 1537.53 Q179.675 1532.88 180.856 1531.53 Q183.101 1529.01 183.981 1527.27 Q184.884 1525.51 184.884 1523.82 Q184.884 1521.07 182.939 1519.33 Q181.018 1517.6 177.916 1517.6 Q175.717 1517.6 173.263 1518.36 Q170.833 1519.13 168.055 1520.68 L168.055 1515.95 Q170.879 1514.82 173.333 1514.24 Q175.787 1513.66 177.824 1513.66 Q183.194 1513.66 186.388 1516.35 Q189.583 1519.03 189.583 1523.52 Q189.583 1525.65 188.773 1527.57 Q187.986 1529.47 185.879 1532.07 Q185.3 1532.74 182.199 1535.95 Q179.097 1539.15 173.449 1544.91 Z\" fill=\"#000000\" fill-rule=\"evenodd\" fill-opacity=\"1\" /><path clip-path=\"url(#clip730)\" d=\"M209.583 1517.37 Q205.972 1517.37 204.143 1520.93 Q202.337 1524.47 202.337 1531.6 Q202.337 1538.71 204.143 1542.27 Q205.972 1545.82 209.583 1545.82 Q213.217 1545.82 215.022 1542.27 Q216.851 1538.71 216.851 1531.6 Q216.851 1524.47 215.022 1520.93 Q213.217 1517.37 209.583 1517.37 M209.583 1513.66 Q215.393 1513.66 218.448 1518.27 Q221.527 1522.85 221.527 1531.6 Q221.527 1540.33 218.448 1544.94 Q215.393 1549.52 209.583 1549.52 Q203.773 1549.52 200.694 1544.94 Q197.638 1540.33 197.638 1531.6 Q197.638 1522.85 200.694 1518.27 Q203.773 1513.66 209.583 1513.66 Z\" fill=\"#000000\" fill-rule=\"evenodd\" fill-opacity=\"1\" /><path clip-path=\"url(#clip730)\" d=\"M658.091 1532.02 L687.767 1532.02 L687.767 1535.95 L658.091 1535.95 L658.091 1532.02 Z\" fill=\"#000000\" fill-rule=\"evenodd\" fill-opacity=\"1\" /><path clip-path=\"url(#clip730)\" d=\"M698.669 1544.91 L706.308 1544.91 L706.308 1518.55 L697.998 1520.21 L697.998 1515.95 L706.262 1514.29 L710.938 1514.29 L710.938 1544.91 L718.577 1544.91 L718.577 1548.85 L698.669 1548.85 L698.669 1544.91 Z\" fill=\"#000000\" fill-rule=\"evenodd\" fill-opacity=\"1\" /><path clip-path=\"url(#clip730)\" d=\"M738.021 1517.37 Q734.41 1517.37 732.581 1520.93 Q730.776 1524.47 730.776 1531.6 Q730.776 1538.71 732.581 1542.27 Q734.41 1545.82 738.021 1545.82 Q741.655 1545.82 743.461 1542.27 Q745.29 1538.71 745.29 1531.6 Q745.29 1524.47 743.461 1520.93 Q741.655 1517.37 738.021 1517.37 M738.021 1513.66 Q743.831 1513.66 746.887 1518.27 Q749.965 1522.85 749.965 1531.6 Q749.965 1540.33 746.887 1544.94 Q743.831 1549.52 738.021 1549.52 Q732.211 1549.52 729.132 1544.94 Q726.077 1540.33 726.077 1531.6 Q726.077 1522.85 729.132 1518.27 Q732.211 1513.66 738.021 1513.66 Z\" fill=\"#000000\" fill-rule=\"evenodd\" fill-opacity=\"1\" /><path clip-path=\"url(#clip730)\" d=\"M1232.47 1517.37 Q1228.86 1517.37 1227.03 1520.93 Q1225.22 1524.47 1225.22 1531.6 Q1225.22 1538.71 1227.03 1542.27 Q1228.86 1545.82 1232.47 1545.82 Q1236.1 1545.82 1237.91 1542.27 Q1239.74 1538.71 1239.74 1531.6 Q1239.74 1524.47 1237.91 1520.93 Q1236.1 1517.37 1232.47 1517.37 M1232.47 1513.66 Q1238.28 1513.66 1241.33 1518.27 Q1244.41 1522.85 1244.41 1531.6 Q1244.41 1540.33 1241.33 1544.94 Q1238.28 1549.52 1232.47 1549.52 Q1226.66 1549.52 1223.58 1544.94 Q1220.52 1540.33 1220.52 1531.6 Q1220.52 1522.85 1223.58 1518.27 Q1226.66 1513.66 1232.47 1513.66 Z\" fill=\"#000000\" fill-rule=\"evenodd\" fill-opacity=\"1\" /><path clip-path=\"url(#clip730)\" d=\"M1735.59 1544.91 L1743.23 1544.91 L1743.23 1518.55 L1734.92 1520.21 L1734.92 1515.95 L1743.19 1514.29 L1747.86 1514.29 L1747.86 1544.91 L1755.5 1544.91 L1755.5 1548.85 L1735.59 1548.85 L1735.59 1544.91 Z\" fill=\"#000000\" fill-rule=\"evenodd\" fill-opacity=\"1\" /><path clip-path=\"url(#clip730)\" d=\"M1774.94 1517.37 Q1771.33 1517.37 1769.5 1520.93 Q1767.7 1524.47 1767.7 1531.6 Q1767.7 1538.71 1769.5 1542.27 Q1771.33 1545.82 1774.94 1545.82 Q1778.58 1545.82 1780.38 1542.27 Q1782.21 1538.71 1782.21 1531.6 Q1782.21 1524.47 1780.38 1520.93 Q1778.58 1517.37 1774.94 1517.37 M1774.94 1513.66 Q1780.75 1513.66 1783.81 1518.27 Q1786.89 1522.85 1786.89 1531.6 Q1786.89 1540.33 1783.81 1544.94 Q1780.75 1549.52 1774.94 1549.52 Q1769.13 1549.52 1766.06 1544.94 Q1763 1540.33 1763 1531.6 Q1763 1522.85 1766.06 1518.27 Q1769.13 1513.66 1774.94 1513.66 Z\" fill=\"#000000\" fill-rule=\"evenodd\" fill-opacity=\"1\" /><path clip-path=\"url(#clip730)\" d=\"M2268.12 1544.91 L2284.44 1544.91 L2284.44 1548.85 L2262.49 1548.85 L2262.49 1544.91 Q2265.15 1542.16 2269.74 1537.53 Q2274.34 1532.88 2275.52 1531.53 Q2277.77 1529.01 2278.65 1527.27 Q2279.55 1525.51 2279.55 1523.82 Q2279.55 1521.07 2277.61 1519.33 Q2275.69 1517.6 2272.58 1517.6 Q2270.39 1517.6 2267.93 1518.36 Q2265.5 1519.13 2262.72 1520.68 L2262.72 1515.95 Q2265.55 1514.82 2268 1514.24 Q2270.45 1513.66 2272.49 1513.66 Q2277.86 1513.66 2281.06 1516.35 Q2284.25 1519.03 2284.25 1523.52 Q2284.25 1525.65 2283.44 1527.57 Q2282.65 1529.47 2280.55 1532.07 Q2279.97 1532.74 2276.87 1535.95 Q2273.76 1539.15 2268.12 1544.91 Z\" fill=\"#000000\" fill-rule=\"evenodd\" fill-opacity=\"1\" /><path clip-path=\"url(#clip730)\" d=\"M2304.25 1517.37 Q2300.64 1517.37 2298.81 1520.93 Q2297.01 1524.47 2297.01 1531.6 Q2297.01 1538.71 2298.81 1542.27 Q2300.64 1545.82 2304.25 1545.82 Q2307.88 1545.82 2309.69 1542.27 Q2311.52 1538.71 2311.52 1531.6 Q2311.52 1524.47 2309.69 1520.93 Q2307.88 1517.37 2304.25 1517.37 M2304.25 1513.66 Q2310.06 1513.66 2313.12 1518.27 Q2316.2 1522.85 2316.2 1531.6 Q2316.2 1540.33 2313.12 1544.94 Q2310.06 1549.52 2304.25 1549.52 Q2298.44 1549.52 2295.36 1544.94 Q2292.31 1540.33 2292.31 1531.6 Q2292.31 1522.85 2295.36 1518.27 Q2298.44 1513.66 2304.25 1513.66 Z\" fill=\"#000000\" fill-rule=\"evenodd\" fill-opacity=\"1\" /><polyline clip-path=\"url(#clip732)\" style=\"stroke:#000000; stroke-linecap:round; stroke-linejoin:round; stroke-width:2; stroke-opacity:0.1; fill:none\" points=\"\n",
       "  112.177,1445.73 2352.76,1445.73 \n",
       "  \"/>\n",
       "<polyline clip-path=\"url(#clip732)\" style=\"stroke:#000000; stroke-linecap:round; stroke-linejoin:round; stroke-width:2; stroke-opacity:0.1; fill:none\" points=\"\n",
       "  112.177,1194.85 2352.76,1194.85 \n",
       "  \"/>\n",
       "<polyline clip-path=\"url(#clip732)\" style=\"stroke:#000000; stroke-linecap:round; stroke-linejoin:round; stroke-width:2; stroke-opacity:0.1; fill:none\" points=\"\n",
       "  112.177,943.964 2352.76,943.964 \n",
       "  \"/>\n",
       "<polyline clip-path=\"url(#clip732)\" style=\"stroke:#000000; stroke-linecap:round; stroke-linejoin:round; stroke-width:2; stroke-opacity:0.1; fill:none\" points=\"\n",
       "  112.177,693.081 2352.76,693.081 \n",
       "  \"/>\n",
       "<polyline clip-path=\"url(#clip732)\" style=\"stroke:#000000; stroke-linecap:round; stroke-linejoin:round; stroke-width:2; stroke-opacity:0.1; fill:none\" points=\"\n",
       "  112.177,442.197 2352.76,442.197 \n",
       "  \"/>\n",
       "<polyline clip-path=\"url(#clip732)\" style=\"stroke:#000000; stroke-linecap:round; stroke-linejoin:round; stroke-width:2; stroke-opacity:0.1; fill:none\" points=\"\n",
       "  112.177,191.314 2352.76,191.314 \n",
       "  \"/>\n",
       "<polyline clip-path=\"url(#clip730)\" style=\"stroke:#000000; stroke-linecap:round; stroke-linejoin:round; stroke-width:4; stroke-opacity:1; fill:none\" points=\"\n",
       "  112.177,1486.45 112.177,47.2441 \n",
       "  \"/>\n",
       "<polyline clip-path=\"url(#clip730)\" style=\"stroke:#000000; stroke-linecap:round; stroke-linejoin:round; stroke-width:4; stroke-opacity:1; fill:none\" points=\"\n",
       "  112.177,1445.73 131.075,1445.73 \n",
       "  \"/>\n",
       "<polyline clip-path=\"url(#clip730)\" style=\"stroke:#000000; stroke-linecap:round; stroke-linejoin:round; stroke-width:4; stroke-opacity:1; fill:none\" points=\"\n",
       "  112.177,1194.85 131.075,1194.85 \n",
       "  \"/>\n",
       "<polyline clip-path=\"url(#clip730)\" style=\"stroke:#000000; stroke-linecap:round; stroke-linejoin:round; stroke-width:4; stroke-opacity:1; fill:none\" points=\"\n",
       "  112.177,943.964 131.075,943.964 \n",
       "  \"/>\n",
       "<polyline clip-path=\"url(#clip730)\" style=\"stroke:#000000; stroke-linecap:round; stroke-linejoin:round; stroke-width:4; stroke-opacity:1; fill:none\" points=\"\n",
       "  112.177,693.081 131.075,693.081 \n",
       "  \"/>\n",
       "<polyline clip-path=\"url(#clip730)\" style=\"stroke:#000000; stroke-linecap:round; stroke-linejoin:round; stroke-width:4; stroke-opacity:1; fill:none\" points=\"\n",
       "  112.177,442.197 131.075,442.197 \n",
       "  \"/>\n",
       "<polyline clip-path=\"url(#clip730)\" style=\"stroke:#000000; stroke-linecap:round; stroke-linejoin:round; stroke-width:4; stroke-opacity:1; fill:none\" points=\"\n",
       "  112.177,191.314 131.075,191.314 \n",
       "  \"/>\n",
       "<path clip-path=\"url(#clip730)\" d=\"M64.2328 1431.53 Q60.6217 1431.53 58.793 1435.09 Q56.9875 1438.64 56.9875 1445.77 Q56.9875 1452.87 58.793 1456.44 Q60.6217 1459.98 64.2328 1459.98 Q67.867 1459.98 69.6726 1456.44 Q71.5013 1452.87 71.5013 1445.77 Q71.5013 1438.64 69.6726 1435.09 Q67.867 1431.53 64.2328 1431.53 M64.2328 1427.83 Q70.0429 1427.83 73.0985 1432.43 Q76.1772 1437.02 76.1772 1445.77 Q76.1772 1454.49 73.0985 1459.1 Q70.0429 1463.68 64.2328 1463.68 Q58.4226 1463.68 55.344 1459.1 Q52.2884 1454.49 52.2884 1445.77 Q52.2884 1437.02 55.344 1432.43 Q58.4226 1427.83 64.2328 1427.83 Z\" fill=\"#000000\" fill-rule=\"evenodd\" fill-opacity=\"1\" /><path clip-path=\"url(#clip730)\" d=\"M56.2699 1208.19 L63.9087 1208.19 L63.9087 1181.83 L55.5986 1183.49 L55.5986 1179.23 L63.8624 1177.57 L68.5383 1177.57 L68.5383 1208.19 L76.1772 1208.19 L76.1772 1212.13 L56.2699 1212.13 L56.2699 1208.19 Z\" fill=\"#000000\" fill-rule=\"evenodd\" fill-opacity=\"1\" /><path clip-path=\"url(#clip730)\" d=\"M59.8578 957.309 L76.1772 957.309 L76.1772 961.244 L54.2328 961.244 L54.2328 957.309 Q56.8949 954.554 61.4782 949.925 Q66.0846 945.272 67.2652 943.929 Q69.5105 941.406 70.3902 939.67 Q71.2929 937.911 71.2929 936.221 Q71.2929 933.466 69.3485 931.73 Q67.4272 929.994 64.3254 929.994 Q62.1263 929.994 59.6726 930.758 Q57.2421 931.522 54.4643 933.073 L54.4643 928.351 Q57.2884 927.217 59.7421 926.638 Q62.1958 926.059 64.2328 926.059 Q69.6031 926.059 72.7976 928.744 Q75.992 931.429 75.992 935.92 Q75.992 938.05 75.1818 939.971 Q74.3948 941.869 72.2883 944.462 Q71.7096 945.133 68.6078 948.351 Q65.5059 951.545 59.8578 957.309 Z\" fill=\"#000000\" fill-rule=\"evenodd\" fill-opacity=\"1\" /><path clip-path=\"url(#clip730)\" d=\"M69.0476 691.726 Q72.404 692.444 74.279 694.713 Q76.1772 696.981 76.1772 700.314 Q76.1772 705.43 72.6587 708.231 Q69.1402 711.032 62.6587 711.032 Q60.4828 711.032 58.168 710.592 Q55.8764 710.175 53.4227 709.319 L53.4227 704.805 Q55.3671 705.939 57.6819 706.518 Q59.9967 707.097 62.5198 707.097 Q66.918 707.097 69.2096 705.361 Q71.5244 703.625 71.5244 700.314 Q71.5244 697.259 69.3717 695.546 Q67.242 693.81 63.4226 693.81 L59.3949 693.81 L59.3949 689.967 L63.6078 689.967 Q67.0569 689.967 68.8855 688.602 Q70.7142 687.213 70.7142 684.62 Q70.7142 681.958 68.8161 680.546 Q66.9411 679.111 63.4226 679.111 Q61.5013 679.111 59.3023 679.527 Q57.1032 679.944 54.4643 680.824 L54.4643 676.657 Q57.1264 675.916 59.4412 675.546 Q61.7791 675.176 63.8393 675.176 Q69.1633 675.176 72.2652 677.606 Q75.367 680.014 75.367 684.134 Q75.367 687.004 73.7235 688.995 Q72.08 690.963 69.0476 691.726 Z\" fill=\"#000000\" fill-rule=\"evenodd\" fill-opacity=\"1\" /><path clip-path=\"url(#clip730)\" d=\"M66.5939 428.991 L54.7884 447.44 L66.5939 447.44 L66.5939 428.991 M65.367 424.917 L71.2466 424.917 L71.2466 447.44 L76.1772 447.44 L76.1772 451.329 L71.2466 451.329 L71.2466 459.477 L66.5939 459.477 L66.5939 451.329 L50.9921 451.329 L50.9921 446.815 L65.367 424.917 Z\" fill=\"#000000\" fill-rule=\"evenodd\" fill-opacity=\"1\" /><path clip-path=\"url(#clip730)\" d=\"M55.2745 174.034 L73.6309 174.034 L73.6309 177.969 L59.5569 177.969 L59.5569 186.441 Q60.5754 186.094 61.5939 185.932 Q62.6124 185.747 63.6309 185.747 Q69.418 185.747 72.7976 188.918 Q76.1772 192.089 76.1772 197.506 Q76.1772 203.084 72.705 206.186 Q69.2328 209.265 62.9134 209.265 Q60.7374 209.265 58.4689 208.895 Q56.2236 208.524 53.8162 207.784 L53.8162 203.084 Q55.8995 204.219 58.1217 204.774 Q60.3439 205.33 62.8208 205.33 Q66.8254 205.33 69.1633 203.223 Q71.5013 201.117 71.5013 197.506 Q71.5013 193.895 69.1633 191.788 Q66.8254 189.682 62.8208 189.682 Q60.9458 189.682 59.0708 190.098 Q57.2189 190.515 55.2745 191.395 L55.2745 174.034 Z\" fill=\"#000000\" fill-rule=\"evenodd\" fill-opacity=\"1\" /><polyline clip-path=\"url(#clip732)\" style=\"stroke:#009af9; stroke-linecap:round; stroke-linejoin:round; stroke-width:4; stroke-opacity:1; fill:none\" points=\"\n",
       "  175.59,598.908 180.874,598.213 186.159,597.511 191.443,596.802 196.727,596.085 202.012,595.362 207.296,594.631 212.58,593.893 217.865,593.147 223.149,592.394 \n",
       "  228.434,591.632 233.718,590.864 239.002,590.087 244.287,589.302 249.571,588.508 254.856,587.707 260.14,586.897 265.424,586.078 270.709,585.251 275.993,584.415 \n",
       "  281.277,583.57 286.562,582.716 291.846,581.852 297.131,580.98 302.415,580.097 307.699,579.205 312.984,578.304 318.268,577.392 323.553,576.47 328.837,575.538 \n",
       "  334.121,574.595 339.406,573.642 344.69,572.678 349.974,571.703 355.259,570.717 360.543,569.72 365.828,568.711 371.112,567.691 376.396,566.659 381.681,565.614 \n",
       "  386.965,564.558 392.25,563.489 397.534,562.408 402.818,561.313 408.103,560.206 413.387,559.086 418.671,557.952 423.956,556.804 429.24,555.642 434.525,554.467 \n",
       "  439.809,553.277 445.093,552.072 450.378,550.852 455.662,549.618 460.947,548.368 466.231,547.102 471.515,545.82 476.8,544.523 482.084,543.208 487.368,541.877 \n",
       "  492.653,540.529 497.937,539.164 503.222,537.78 508.506,536.379 513.79,534.96 519.075,533.522 524.359,532.064 529.643,530.588 534.928,529.091 540.212,527.575 \n",
       "  545.497,526.038 550.781,524.48 556.065,522.902 561.35,521.301 566.634,519.678 571.919,518.033 577.203,516.365 582.487,514.673 587.772,512.957 593.056,511.218 \n",
       "  598.34,509.453 603.625,507.663 608.909,505.847 614.194,504.005 619.478,502.136 624.762,500.239 630.047,498.315 635.331,496.361 640.616,494.379 645.9,492.367 \n",
       "  651.184,490.324 656.469,488.251 661.753,486.146 667.037,484.008 672.322,481.837 677.606,479.633 682.891,477.394 688.175,475.12 693.459,472.81 698.744,470.463 \n",
       "  704.028,468.079 709.313,465.657 714.597,463.196 719.881,460.694 725.166,458.152 730.45,455.569 735.734,452.943 741.019,450.274 746.303,447.56 751.588,444.801 \n",
       "  756.872,441.997 762.156,439.145 767.441,436.245 772.725,433.297 778.01,430.298 783.294,427.249 788.578,424.147 793.863,420.993 799.147,417.785 804.431,414.521 \n",
       "  809.716,411.202 815,407.826 820.285,404.391 825.569,400.897 830.853,397.343 836.138,393.727 841.422,390.049 846.707,386.307 851.991,382.5 857.275,378.627 \n",
       "  862.56,374.688 867.844,370.68 873.128,366.603 878.413,362.456 883.697,358.237 888.982,353.946 894.266,349.581 899.55,345.141 904.835,340.626 910.119,336.035 \n",
       "  915.404,331.366 920.688,326.619 925.972,321.794 931.257,316.889 936.541,311.905 941.825,306.84 947.11,301.696 952.394,296.472 957.679,291.168 962.963,285.786 \n",
       "  968.247,280.326 973.532,274.79 978.816,269.18 984.101,263.497 989.385,257.745 994.669,251.927 999.954,246.046 1005.24,240.108 1010.52,234.117 1015.81,228.08 \n",
       "  1021.09,222.002 1026.38,215.892 1031.66,209.759 1036.94,203.612 1042.23,197.461 1047.51,191.318 1052.8,185.196 1058.08,179.109 1063.37,173.072 1068.65,167.101 \n",
       "  1073.94,161.213 1079.22,155.428 1084.5,149.764 1089.79,144.242 1095.07,138.882 1100.36,133.708 1105.64,128.741 1110.93,124.002 1116.21,119.514 1121.49,115.296 \n",
       "  1126.78,111.365 1132.06,107.738 1137.35,104.426 1142.63,101.434 1147.92,98.766 1153.2,96.419 1158.49,94.3862 1163.77,92.6571 1169.05,91.2189 1174.34,90.0577 \n",
       "  1179.62,89.1601 1184.91,88.516 1190.19,88.1204 1195.48,87.9763 1200.76,88.0978 1206.04,88.5162 1211.33,89.2884 1216.61,90.5169 1221.9,92.3955 1227.18,95.3511 \n",
       "  1232.47,100.897 1237.75,133.099 1243.04,195.84 1248.32,269.612 1253.6,346.855 1258.89,423.681 1264.17,497.972 1269.46,568.98 1274.74,636.429 1280.03,700.211 \n",
       "  1285.31,760.318 1290.59,816.819 1295.88,869.834 1301.16,919.499 1306.45,965.94 1311.73,1009.27 1317.02,1049.59 1322.3,1087.02 1327.59,1121.67 1332.87,1153.66 \n",
       "  1338.15,1183.12 1343.44,1210.18 1348.72,1234.98 1354.01,1257.67 1359.29,1278.36 1364.58,1297.21 1369.86,1314.33 1375.14,1329.85 1380.43,1343.89 1385.71,1356.57 \n",
       "  1391,1367.99 1396.28,1378.26 1401.57,1387.46 1406.85,1395.68 1412.14,1403.02 1417.42,1409.53 1422.7,1415.3 1427.99,1420.39 1433.27,1424.85 1438.56,1428.74 \n",
       "  1443.84,1432.11 1449.13,1435.01 1454.41,1437.48 1459.7,1439.55 1464.98,1441.27 1470.26,1442.67 1475.55,1443.76 1480.83,1444.59 1486.12,1445.18 1491.4,1445.55 \n",
       "  1496.69,1445.72 1501.97,1445.7 1507.25,1445.52 1512.54,1445.2 1517.82,1444.74 1523.11,1444.16 1528.39,1443.47 1533.68,1442.69 1538.96,1441.82 1544.25,1440.87 \n",
       "  1549.53,1439.85 1554.81,1438.77 1560.1,1437.63 1565.38,1436.44 1570.67,1435.21 1575.95,1433.95 1581.24,1432.65 1586.52,1431.32 1591.8,1429.97 1597.09,1428.59 \n",
       "  1602.37,1427.2 1607.66,1425.8 1612.94,1424.38 1618.23,1422.95 1623.51,1421.52 1628.8,1420.08 1634.08,1418.64 1639.36,1417.2 1644.65,1415.75 1649.93,1414.31 \n",
       "  1655.22,1412.88 1660.5,1411.44 1665.79,1410.02 1671.07,1408.6 1676.35,1407.18 1681.64,1405.78 1686.92,1404.38 1692.21,1402.99 1697.49,1401.61 1702.78,1400.25 \n",
       "  1708.06,1398.89 1713.35,1397.54 1718.63,1396.21 1723.91,1394.89 1729.2,1393.58 1734.48,1392.28 1739.77,1390.99 1745.05,1389.72 1750.34,1388.46 1755.62,1387.21 \n",
       "  1760.9,1385.98 1766.19,1384.76 1771.47,1383.55 1776.76,1382.36 1782.04,1381.17 1787.33,1380 1792.61,1378.85 1797.9,1377.7 1803.18,1376.57 1808.46,1375.46 \n",
       "  1813.75,1374.35 1819.03,1373.26 1824.32,1372.18 1829.6,1371.11 1834.89,1370.05 1840.17,1369.01 1845.46,1367.98 1850.74,1366.96 1856.02,1365.95 1861.31,1364.95 \n",
       "  1866.59,1363.97 1871.88,1362.99 1877.16,1362.03 1882.45,1361.08 1887.73,1360.14 1893.01,1359.21 1898.3,1358.29 1903.58,1357.38 1908.87,1356.48 1914.15,1355.59 \n",
       "  1919.44,1354.71 1924.72,1353.84 1930.01,1352.98 1935.29,1352.13 1940.57,1351.29 1945.86,1350.46 1951.14,1349.64 1956.43,1348.83 1961.71,1348.03 1967,1347.23 \n",
       "  1972.28,1346.44 1977.56,1345.67 1982.85,1344.9 1988.13,1344.14 1993.42,1343.38 1998.7,1342.64 2003.99,1341.9 2009.27,1341.17 2014.56,1340.45 2019.84,1339.74 \n",
       "  2025.12,1339.03 2030.41,1338.33 2035.69,1337.64 2040.98,1336.96 2046.26,1336.28 2051.55,1335.61 2056.83,1334.95 2062.11,1334.29 2067.4,1333.64 2072.68,1333 \n",
       "  2077.97,1332.36 2083.25,1331.73 2088.54,1331.11 2093.82,1330.49 2099.11,1329.88 2104.39,1329.27 2109.67,1328.67 2114.96,1328.08 2120.24,1327.49 2125.53,1326.91 \n",
       "  2130.81,1326.33 2136.1,1325.76 2141.38,1325.19 2146.66,1324.63 2151.95,1324.08 2157.23,1323.53 2162.52,1322.99 2167.8,1322.45 2173.09,1321.91 2178.37,1321.38 \n",
       "  2183.66,1320.86 2188.94,1320.34 2194.22,1319.83 2199.51,1319.32 2204.79,1318.81 2210.08,1318.31 2215.36,1317.82 2220.65,1317.32 2225.93,1316.84 2231.22,1316.35 \n",
       "  2236.5,1315.88 2241.78,1315.4 2247.07,1314.93 2252.35,1314.47 2257.64,1314.01 2262.92,1313.55 2268.21,1313.1 2273.49,1312.65 2278.77,1312.2 2284.06,1311.76 \n",
       "  2289.34,1311.32 \n",
       "  \"/>\n",
       "<polyline clip-path=\"url(#clip732)\" style=\"stroke:#0000ff; stroke-linecap:round; stroke-linejoin:round; stroke-width:4; stroke-opacity:1; fill:none\" stroke-dasharray=\"16, 10\" points=\"\n",
       "  1195.48,2925.65 1195.48,-1391.96 \n",
       "  \"/>\n",
       "<polyline clip-path=\"url(#clip732)\" style=\"stroke:#808080; stroke-linecap:round; stroke-linejoin:round; stroke-width:4; stroke-opacity:1; fill:none\" points=\"\n",
       "  1496.69,2925.65 1496.69,-1391.96 \n",
       "  \"/>\n",
       "<polyline clip-path=\"url(#clip732)\" style=\"stroke:#ff0000; stroke-linecap:round; stroke-linejoin:round; stroke-width:4; stroke-opacity:1; fill:none\" stroke-dasharray=\"16, 10\" points=\"\n",
       "  1496.69,2925.65 1496.69,-1391.96 \n",
       "  \"/>\n",
       "<path clip-path=\"url(#clip730)\" d=\"\n",
       "M1389.64 354.418 L2278.07 354.418 L2278.07 95.2176 L1389.64 95.2176  Z\n",
       "  \" fill=\"#ffffff\" fill-rule=\"evenodd\" fill-opacity=\"1\"/>\n",
       "<polyline clip-path=\"url(#clip730)\" style=\"stroke:#000000; stroke-linecap:round; stroke-linejoin:round; stroke-width:4; stroke-opacity:1; fill:none\" points=\"\n",
       "  1389.64,354.418 2278.07,354.418 2278.07,95.2176 1389.64,95.2176 1389.64,354.418 \n",
       "  \"/>\n",
       "<polyline clip-path=\"url(#clip730)\" style=\"stroke:#009af9; stroke-linecap:round; stroke-linejoin:round; stroke-width:4; stroke-opacity:1; fill:none\" points=\"\n",
       "  1414.54,147.058 1563.91,147.058 \n",
       "  \"/>\n",
       "<path clip-path=\"url(#clip730)\" d=\"M1614.36 159.407 L1614.36 150.125 L1606.72 150.125 L1606.72 146.282 L1618.99 146.282 L1618.99 161.12 Q1616.28 163.041 1613.02 164.037 Q1609.75 165.009 1606.05 165.009 Q1597.95 165.009 1593.36 160.287 Q1588.8 155.541 1588.8 147.092 Q1588.8 138.62 1593.36 133.898 Q1597.95 129.153 1606.05 129.153 Q1609.43 129.153 1612.46 129.986 Q1615.52 130.819 1618.09 132.44 L1618.09 137.416 Q1615.49 135.217 1612.58 134.106 Q1609.66 132.995 1606.44 132.995 Q1600.1 132.995 1596.9 136.537 Q1593.73 140.078 1593.73 147.092 Q1593.73 154.083 1596.9 157.625 Q1600.1 161.166 1606.44 161.166 Q1608.92 161.166 1610.86 160.75 Q1612.81 160.31 1614.36 159.407 Z\" fill=\"#000000\" fill-rule=\"evenodd\" fill-opacity=\"1\" /><path clip-path=\"url(#clip730)\" d=\"M1627.53 129.778 L1634.5 129.778 L1643.32 153.296 L1652.18 129.778 L1659.15 129.778 L1659.15 164.338 L1654.59 164.338 L1654.59 133.99 L1645.68 157.694 L1640.98 157.694 L1632.07 133.99 L1632.07 164.338 L1627.53 164.338 L1627.53 129.778 Z\" fill=\"#000000\" fill-rule=\"evenodd\" fill-opacity=\"1\" /><path clip-path=\"url(#clip730)\" d=\"M1668.43 129.778 L1675.4 129.778 L1684.22 153.296 L1693.09 129.778 L1700.05 129.778 L1700.05 164.338 L1695.49 164.338 L1695.49 133.99 L1686.58 157.694 L1681.88 157.694 L1672.97 133.99 L1672.97 164.338 L1668.43 164.338 L1668.43 129.778 Z\" fill=\"#000000\" fill-rule=\"evenodd\" fill-opacity=\"1\" /><path clip-path=\"url(#clip730)\" d=\"M1742.88 139.407 L1742.88 143.389 Q1741.07 142.393 1739.24 141.907 Q1737.44 141.398 1735.58 141.398 Q1731.44 141.398 1729.15 144.037 Q1726.86 146.652 1726.86 151.398 Q1726.86 156.143 1729.15 158.782 Q1731.44 161.398 1735.58 161.398 Q1737.44 161.398 1739.24 160.912 Q1741.07 160.402 1742.88 159.407 L1742.88 163.342 Q1741.09 164.176 1739.17 164.592 Q1737.27 165.009 1735.12 165.009 Q1729.27 165.009 1725.82 161.328 Q1722.37 157.648 1722.37 151.398 Q1722.37 145.055 1725.84 141.421 Q1729.33 137.787 1735.4 137.787 Q1737.37 137.787 1739.24 138.203 Q1741.12 138.597 1742.88 139.407 Z\" fill=\"#000000\" fill-rule=\"evenodd\" fill-opacity=\"1\" /><path clip-path=\"url(#clip730)\" d=\"M1765.31 142.393 Q1764.59 141.977 1763.73 141.791 Q1762.9 141.583 1761.88 141.583 Q1758.27 141.583 1756.33 143.944 Q1754.4 146.282 1754.4 150.68 L1754.4 164.338 L1750.12 164.338 L1750.12 138.412 L1754.4 138.412 L1754.4 142.44 Q1755.75 140.078 1757.9 138.944 Q1760.05 137.787 1763.13 137.787 Q1763.57 137.787 1764.1 137.856 Q1764.64 137.903 1765.28 138.018 L1765.31 142.393 Z\" fill=\"#000000\" fill-rule=\"evenodd\" fill-opacity=\"1\" /><path clip-path=\"url(#clip730)\" d=\"M1769.77 138.412 L1774.03 138.412 L1774.03 164.338 L1769.77 164.338 L1769.77 138.412 M1769.77 128.319 L1774.03 128.319 L1774.03 133.713 L1769.77 133.713 L1769.77 128.319 Z\" fill=\"#000000\" fill-rule=\"evenodd\" fill-opacity=\"1\" /><path clip-path=\"url(#clip730)\" d=\"M1787.16 131.051 L1787.16 138.412 L1795.93 138.412 L1795.93 141.722 L1787.16 141.722 L1787.16 155.796 Q1787.16 158.967 1788.02 159.87 Q1788.89 160.773 1791.56 160.773 L1795.93 160.773 L1795.93 164.338 L1791.56 164.338 Q1786.63 164.338 1784.75 162.509 Q1782.88 160.657 1782.88 155.796 L1782.88 141.722 L1779.75 141.722 L1779.75 138.412 L1782.88 138.412 L1782.88 131.051 L1787.16 131.051 Z\" fill=\"#000000\" fill-rule=\"evenodd\" fill-opacity=\"1\" /><path clip-path=\"url(#clip730)\" d=\"M1823.71 150.31 L1823.71 152.393 L1804.13 152.393 Q1804.4 156.791 1806.76 159.106 Q1809.15 161.398 1813.39 161.398 Q1815.84 161.398 1818.13 160.796 Q1820.45 160.194 1822.71 158.99 L1822.71 163.018 Q1820.42 163.99 1818.01 164.5 Q1815.61 165.009 1813.13 165.009 Q1806.93 165.009 1803.29 161.398 Q1799.68 157.787 1799.68 151.629 Q1799.68 145.264 1803.11 141.537 Q1806.56 137.787 1812.39 137.787 Q1817.62 137.787 1820.65 141.166 Q1823.71 144.523 1823.71 150.31 M1819.45 149.06 Q1819.4 145.565 1817.48 143.481 Q1815.58 141.398 1812.44 141.398 Q1808.87 141.398 1806.72 143.412 Q1804.59 145.426 1804.26 149.083 L1819.45 149.06 Z\" fill=\"#000000\" fill-rule=\"evenodd\" fill-opacity=\"1\" /><path clip-path=\"url(#clip730)\" d=\"M1845.72 142.393 Q1845.01 141.977 1844.15 141.791 Q1843.32 141.583 1842.3 141.583 Q1838.69 141.583 1836.74 143.944 Q1834.82 146.282 1834.82 150.68 L1834.82 164.338 L1830.54 164.338 L1830.54 138.412 L1834.82 138.412 L1834.82 142.44 Q1836.16 140.078 1838.32 138.944 Q1840.47 137.787 1843.55 137.787 Q1843.99 137.787 1844.52 137.856 Q1845.05 137.903 1845.7 138.018 L1845.72 142.393 Z\" fill=\"#000000\" fill-rule=\"evenodd\" fill-opacity=\"1\" /><path clip-path=\"url(#clip730)\" d=\"M1850.19 138.412 L1854.45 138.412 L1854.45 164.338 L1850.19 164.338 L1850.19 138.412 M1850.19 128.319 L1854.45 128.319 L1854.45 133.713 L1850.19 133.713 L1850.19 128.319 Z\" fill=\"#000000\" fill-rule=\"evenodd\" fill-opacity=\"1\" /><path clip-path=\"url(#clip730)\" d=\"M1873.41 141.398 Q1869.98 141.398 1867.99 144.083 Q1866 146.745 1866 151.398 Q1866 156.051 1867.97 158.736 Q1869.96 161.398 1873.41 161.398 Q1876.81 161.398 1878.8 158.713 Q1880.79 156.027 1880.79 151.398 Q1880.79 146.791 1878.8 144.106 Q1876.81 141.398 1873.41 141.398 M1873.41 137.787 Q1878.96 137.787 1882.13 141.398 Q1885.31 145.009 1885.31 151.398 Q1885.31 157.764 1882.13 161.398 Q1878.96 165.009 1873.41 165.009 Q1867.83 165.009 1864.66 161.398 Q1861.51 157.764 1861.51 151.398 Q1861.51 145.009 1864.66 141.398 Q1867.83 137.787 1873.41 137.787 Z\" fill=\"#000000\" fill-rule=\"evenodd\" fill-opacity=\"1\" /><path clip-path=\"url(#clip730)\" d=\"M1913.92 148.689 L1913.92 164.338 L1909.66 164.338 L1909.66 148.828 Q1909.66 145.148 1908.22 143.319 Q1906.79 141.49 1903.92 141.49 Q1900.47 141.49 1898.48 143.69 Q1896.49 145.889 1896.49 149.685 L1896.49 164.338 L1892.2 164.338 L1892.2 138.412 L1896.49 138.412 L1896.49 142.44 Q1898.01 140.102 1900.07 138.944 Q1902.16 137.787 1904.87 137.787 Q1909.33 137.787 1911.63 140.565 Q1913.92 143.319 1913.92 148.689 Z\" fill=\"#000000\" fill-rule=\"evenodd\" fill-opacity=\"1\" /><path clip-path=\"url(#clip730)\" d=\"M1950.61 128.319 L1950.61 131.861 L1946.53 131.861 Q1944.24 131.861 1943.34 132.787 Q1942.46 133.713 1942.46 136.12 L1942.46 138.412 L1949.47 138.412 L1949.47 141.722 L1942.46 141.722 L1942.46 164.338 L1938.18 164.338 L1938.18 141.722 L1934.1 141.722 L1934.1 138.412 L1938.18 138.412 L1938.18 136.606 Q1938.18 132.278 1940.19 130.31 Q1942.2 128.319 1946.58 128.319 L1950.61 128.319 Z\" fill=\"#000000\" fill-rule=\"evenodd\" fill-opacity=\"1\" /><path clip-path=\"url(#clip730)\" d=\"M1953.73 154.106 L1953.73 138.412 L1957.99 138.412 L1957.99 153.944 Q1957.99 157.625 1959.43 159.476 Q1960.86 161.305 1963.73 161.305 Q1967.18 161.305 1969.17 159.106 Q1971.19 156.907 1971.19 153.111 L1971.19 138.412 L1975.44 138.412 L1975.44 164.338 L1971.19 164.338 L1971.19 160.356 Q1969.63 162.717 1967.57 163.875 Q1965.54 165.009 1962.83 165.009 Q1958.36 165.009 1956.05 162.231 Q1953.73 159.453 1953.73 154.106 M1964.45 137.787 L1964.45 137.787 Z\" fill=\"#000000\" fill-rule=\"evenodd\" fill-opacity=\"1\" /><path clip-path=\"url(#clip730)\" d=\"M2005.77 148.689 L2005.77 164.338 L2001.51 164.338 L2001.51 148.828 Q2001.51 145.148 2000.07 143.319 Q1998.64 141.49 1995.77 141.49 Q1992.32 141.49 1990.33 143.69 Q1988.34 145.889 1988.34 149.685 L1988.34 164.338 L1984.06 164.338 L1984.06 138.412 L1988.34 138.412 L1988.34 142.44 Q1989.87 140.102 1991.93 138.944 Q1994.01 137.787 1996.72 137.787 Q2001.19 137.787 2003.48 140.565 Q2005.77 143.319 2005.77 148.689 Z\" fill=\"#000000\" fill-rule=\"evenodd\" fill-opacity=\"1\" /><path clip-path=\"url(#clip730)\" d=\"M2032.92 139.407 L2032.92 143.389 Q2031.12 142.393 2029.29 141.907 Q2027.48 141.398 2025.63 141.398 Q2021.49 141.398 2019.19 144.037 Q2016.9 146.652 2016.9 151.398 Q2016.9 156.143 2019.19 158.782 Q2021.49 161.398 2025.63 161.398 Q2027.48 161.398 2029.29 160.912 Q2031.12 160.402 2032.92 159.407 L2032.92 163.342 Q2031.14 164.176 2029.22 164.592 Q2027.32 165.009 2025.17 165.009 Q2019.31 165.009 2015.86 161.328 Q2012.41 157.648 2012.41 151.398 Q2012.41 145.055 2015.88 141.421 Q2019.38 137.787 2025.44 137.787 Q2027.41 137.787 2029.29 138.203 Q2031.16 138.597 2032.92 139.407 Z\" fill=\"#000000\" fill-rule=\"evenodd\" fill-opacity=\"1\" /><path clip-path=\"url(#clip730)\" d=\"M2044.54 131.051 L2044.54 138.412 L2053.31 138.412 L2053.31 141.722 L2044.54 141.722 L2044.54 155.796 Q2044.54 158.967 2045.4 159.87 Q2046.28 160.773 2048.94 160.773 L2053.31 160.773 L2053.31 164.338 L2048.94 164.338 Q2044.01 164.338 2042.13 162.509 Q2040.26 160.657 2040.26 155.796 L2040.26 141.722 L2037.13 141.722 L2037.13 138.412 L2040.26 138.412 L2040.26 131.051 L2044.54 131.051 Z\" fill=\"#000000\" fill-rule=\"evenodd\" fill-opacity=\"1\" /><path clip-path=\"url(#clip730)\" d=\"M2058.92 138.412 L2063.18 138.412 L2063.18 164.338 L2058.92 164.338 L2058.92 138.412 M2058.92 128.319 L2063.18 128.319 L2063.18 133.713 L2058.92 133.713 L2058.92 128.319 Z\" fill=\"#000000\" fill-rule=\"evenodd\" fill-opacity=\"1\" /><path clip-path=\"url(#clip730)\" d=\"M2082.13 141.398 Q2078.71 141.398 2076.72 144.083 Q2074.73 146.745 2074.73 151.398 Q2074.73 156.051 2076.69 158.736 Q2078.68 161.398 2082.13 161.398 Q2085.54 161.398 2087.53 158.713 Q2089.52 156.027 2089.52 151.398 Q2089.52 146.791 2087.53 144.106 Q2085.54 141.398 2082.13 141.398 M2082.13 137.787 Q2087.69 137.787 2090.86 141.398 Q2094.03 145.009 2094.03 151.398 Q2094.03 157.764 2090.86 161.398 Q2087.69 165.009 2082.13 165.009 Q2076.56 165.009 2073.38 161.398 Q2070.24 157.764 2070.24 151.398 Q2070.24 145.009 2073.38 141.398 Q2076.56 137.787 2082.13 137.787 Z\" fill=\"#000000\" fill-rule=\"evenodd\" fill-opacity=\"1\" /><path clip-path=\"url(#clip730)\" d=\"M2122.64 148.689 L2122.64 164.338 L2118.38 164.338 L2118.38 148.828 Q2118.38 145.148 2116.95 143.319 Q2115.51 141.49 2112.64 141.49 Q2109.19 141.49 2107.2 143.69 Q2105.21 145.889 2105.21 149.685 L2105.21 164.338 L2100.93 164.338 L2100.93 138.412 L2105.21 138.412 L2105.21 142.44 Q2106.74 140.102 2108.8 138.944 Q2110.88 137.787 2113.59 137.787 Q2118.06 137.787 2120.35 140.565 Q2122.64 143.319 2122.64 148.689 Z\" fill=\"#000000\" fill-rule=\"evenodd\" fill-opacity=\"1\" /><polyline clip-path=\"url(#clip730)\" style=\"stroke:#0000ff; stroke-linecap:round; stroke-linejoin:round; stroke-width:4; stroke-opacity:1; fill:none\" stroke-dasharray=\"16, 10\" points=\"\n",
       "  1414.54,198.898 1563.91,198.898 \n",
       "  \"/>\n",
       "<path clip-path=\"url(#clip730)\" d=\"M1588.8 181.618 L1595.77 181.618 L1604.59 205.136 L1613.46 181.618 L1620.42 181.618 L1620.42 216.178 L1615.86 216.178 L1615.86 185.83 L1606.95 209.534 L1602.25 209.534 L1593.34 185.83 L1593.34 216.178 L1588.8 216.178 L1588.8 181.618 Z\" fill=\"#000000\" fill-rule=\"evenodd\" fill-opacity=\"1\" /><path clip-path=\"url(#clip730)\" d=\"M1641.3 203.145 Q1636.14 203.145 1634.15 204.326 Q1632.16 205.506 1632.16 208.354 Q1632.16 210.622 1633.64 211.965 Q1635.15 213.284 1637.71 213.284 Q1641.26 213.284 1643.39 210.784 Q1645.54 208.261 1645.54 204.094 L1645.54 203.145 L1641.3 203.145 M1649.8 201.386 L1649.8 216.178 L1645.54 216.178 L1645.54 212.242 Q1644.08 214.603 1641.9 215.738 Q1639.73 216.849 1636.58 216.849 Q1632.6 216.849 1630.24 214.627 Q1627.9 212.381 1627.9 208.631 Q1627.9 204.256 1630.82 202.034 Q1633.76 199.812 1639.57 199.812 L1645.54 199.812 L1645.54 199.395 Q1645.54 196.455 1643.59 194.858 Q1641.67 193.238 1638.18 193.238 Q1635.96 193.238 1633.85 193.77 Q1631.74 194.303 1629.8 195.367 L1629.8 191.432 Q1632.14 190.53 1634.34 190.09 Q1636.53 189.627 1638.62 189.627 Q1644.24 189.627 1647.02 192.543 Q1649.8 195.46 1649.8 201.386 Z\" fill=\"#000000\" fill-rule=\"evenodd\" fill-opacity=\"1\" /><path clip-path=\"url(#clip730)\" d=\"M1680.12 190.252 L1670.75 202.867 L1680.61 216.178 L1675.59 216.178 L1668.04 205.992 L1660.49 216.178 L1655.47 216.178 L1665.54 202.613 L1656.33 190.252 L1661.35 190.252 L1668.22 199.488 L1675.1 190.252 L1680.12 190.252 Z\" fill=\"#000000\" fill-rule=\"evenodd\" fill-opacity=\"1\" /><path clip-path=\"url(#clip730)\" d=\"M1686.63 190.252 L1690.89 190.252 L1690.89 216.178 L1686.63 216.178 L1686.63 190.252 M1686.63 180.159 L1690.89 180.159 L1690.89 185.553 L1686.63 185.553 L1686.63 180.159 Z\" fill=\"#000000\" fill-rule=\"evenodd\" fill-opacity=\"1\" /><path clip-path=\"url(#clip730)\" d=\"M1719.98 195.229 Q1721.58 192.358 1723.8 190.993 Q1726.02 189.627 1729.03 189.627 Q1733.08 189.627 1735.28 192.474 Q1737.48 195.298 1737.48 200.529 L1737.48 216.178 L1733.2 216.178 L1733.2 200.668 Q1733.2 196.942 1731.88 195.136 Q1730.56 193.33 1727.85 193.33 Q1724.54 193.33 1722.62 195.53 Q1720.7 197.729 1720.7 201.525 L1720.7 216.178 L1716.42 216.178 L1716.42 200.668 Q1716.42 196.918 1715.1 195.136 Q1713.78 193.33 1711.02 193.33 Q1707.76 193.33 1705.84 195.553 Q1703.92 197.752 1703.92 201.525 L1703.92 216.178 L1699.64 216.178 L1699.64 190.252 L1703.92 190.252 L1703.92 194.28 Q1705.38 191.895 1707.41 190.761 Q1709.45 189.627 1712.25 189.627 Q1715.08 189.627 1717.04 191.062 Q1719.03 192.497 1719.98 195.229 Z\" fill=\"#000000\" fill-rule=\"evenodd\" fill-opacity=\"1\" /><path clip-path=\"url(#clip730)\" d=\"M1745.54 205.946 L1745.54 190.252 L1749.8 190.252 L1749.8 205.784 Q1749.8 209.465 1751.23 211.316 Q1752.67 213.145 1755.54 213.145 Q1758.99 213.145 1760.98 210.946 Q1762.99 208.747 1762.99 204.951 L1762.99 190.252 L1767.25 190.252 L1767.25 216.178 L1762.99 216.178 L1762.99 212.196 Q1761.44 214.557 1759.38 215.715 Q1757.34 216.849 1754.64 216.849 Q1750.17 216.849 1747.85 214.071 Q1745.54 211.293 1745.54 205.946 M1756.26 189.627 L1756.26 189.627 Z\" fill=\"#000000\" fill-rule=\"evenodd\" fill-opacity=\"1\" /><path clip-path=\"url(#clip730)\" d=\"M1796.21 195.229 Q1797.81 192.358 1800.03 190.993 Q1802.25 189.627 1805.26 189.627 Q1809.31 189.627 1811.51 192.474 Q1813.71 195.298 1813.71 200.529 L1813.71 216.178 L1809.43 216.178 L1809.43 200.668 Q1809.43 196.942 1808.11 195.136 Q1806.79 193.33 1804.08 193.33 Q1800.77 193.33 1798.85 195.53 Q1796.93 197.729 1796.93 201.525 L1796.93 216.178 L1792.64 216.178 L1792.64 200.668 Q1792.64 196.918 1791.33 195.136 Q1790.01 193.33 1787.25 193.33 Q1783.99 193.33 1782.07 195.553 Q1780.14 197.752 1780.14 201.525 L1780.14 216.178 L1775.86 216.178 L1775.86 190.252 L1780.14 190.252 L1780.14 194.28 Q1781.6 191.895 1783.64 190.761 Q1785.68 189.627 1788.48 189.627 Q1791.3 189.627 1793.27 191.062 Q1795.26 192.497 1796.21 195.229 Z\" fill=\"#000000\" fill-rule=\"evenodd\" fill-opacity=\"1\" /><polyline clip-path=\"url(#clip730)\" style=\"stroke:#808080; stroke-linecap:round; stroke-linejoin:round; stroke-width:4; stroke-opacity:1; fill:none\" points=\"\n",
       "  1414.54,250.738 1563.91,250.738 \n",
       "  \"/>\n",
       "<path clip-path=\"url(#clip730)\" d=\"M1588.8 233.458 L1595.77 233.458 L1604.59 256.976 L1613.46 233.458 L1620.42 233.458 L1620.42 268.018 L1615.86 268.018 L1615.86 237.67 L1606.95 261.374 L1602.25 261.374 L1593.34 237.67 L1593.34 268.018 L1588.8 268.018 L1588.8 233.458 Z\" fill=\"#000000\" fill-rule=\"evenodd\" fill-opacity=\"1\" /><path clip-path=\"url(#clip730)\" d=\"M1629.52 242.092 L1633.78 242.092 L1633.78 268.018 L1629.52 268.018 L1629.52 242.092 M1629.52 231.999 L1633.78 231.999 L1633.78 237.393 L1629.52 237.393 L1629.52 231.999 Z\" fill=\"#000000\" fill-rule=\"evenodd\" fill-opacity=\"1\" /><path clip-path=\"url(#clip730)\" d=\"M1664.24 252.369 L1664.24 268.018 L1659.98 268.018 L1659.98 252.508 Q1659.98 248.828 1658.55 246.999 Q1657.11 245.17 1654.24 245.17 Q1650.79 245.17 1648.8 247.37 Q1646.81 249.569 1646.81 253.365 L1646.81 268.018 L1642.53 268.018 L1642.53 242.092 L1646.81 242.092 L1646.81 246.12 Q1648.34 243.782 1650.4 242.624 Q1652.48 241.467 1655.19 241.467 Q1659.66 241.467 1661.95 244.245 Q1664.24 246.999 1664.24 252.369 Z\" fill=\"#000000\" fill-rule=\"evenodd\" fill-opacity=\"1\" /><path clip-path=\"url(#clip730)\" d=\"M1672.74 242.092 L1677 242.092 L1677 268.018 L1672.74 268.018 L1672.74 242.092 M1672.74 231.999 L1677 231.999 L1677 237.393 L1672.74 237.393 L1672.74 231.999 Z\" fill=\"#000000\" fill-rule=\"evenodd\" fill-opacity=\"1\" /><path clip-path=\"url(#clip730)\" d=\"M1706.09 247.069 Q1707.69 244.198 1709.91 242.833 Q1712.14 241.467 1715.15 241.467 Q1719.2 241.467 1721.4 244.314 Q1723.59 247.138 1723.59 252.369 L1723.59 268.018 L1719.31 268.018 L1719.31 252.508 Q1719.31 248.782 1717.99 246.976 Q1716.67 245.17 1713.96 245.17 Q1710.65 245.17 1708.73 247.37 Q1706.81 249.569 1706.81 253.365 L1706.81 268.018 L1702.53 268.018 L1702.53 252.508 Q1702.53 248.758 1701.21 246.976 Q1699.89 245.17 1697.14 245.17 Q1693.87 245.17 1691.95 247.393 Q1690.03 249.592 1690.03 253.365 L1690.03 268.018 L1685.75 268.018 L1685.75 242.092 L1690.03 242.092 L1690.03 246.12 Q1691.49 243.735 1693.52 242.601 Q1695.56 241.467 1698.36 241.467 Q1701.19 241.467 1703.15 242.902 Q1705.15 244.337 1706.09 247.069 Z\" fill=\"#000000\" fill-rule=\"evenodd\" fill-opacity=\"1\" /><path clip-path=\"url(#clip730)\" d=\"M1731.65 257.786 L1731.65 242.092 L1735.91 242.092 L1735.91 257.624 Q1735.91 261.305 1737.34 263.156 Q1738.78 264.985 1741.65 264.985 Q1745.1 264.985 1747.09 262.786 Q1749.1 260.587 1749.1 256.791 L1749.1 242.092 L1753.36 242.092 L1753.36 268.018 L1749.1 268.018 L1749.1 264.036 Q1747.55 266.397 1745.49 267.555 Q1743.46 268.689 1740.75 268.689 Q1736.28 268.689 1733.96 265.911 Q1731.65 263.133 1731.65 257.786 M1742.37 241.467 L1742.37 241.467 Z\" fill=\"#000000\" fill-rule=\"evenodd\" fill-opacity=\"1\" /><path clip-path=\"url(#clip730)\" d=\"M1782.32 247.069 Q1783.92 244.198 1786.14 242.833 Q1788.36 241.467 1791.37 241.467 Q1795.42 241.467 1797.62 244.314 Q1799.82 247.138 1799.82 252.369 L1799.82 268.018 L1795.54 268.018 L1795.54 252.508 Q1795.54 248.782 1794.22 246.976 Q1792.9 245.17 1790.19 245.17 Q1786.88 245.17 1784.96 247.37 Q1783.04 249.569 1783.04 253.365 L1783.04 268.018 L1778.76 268.018 L1778.76 252.508 Q1778.76 248.758 1777.44 246.976 Q1776.12 245.17 1773.36 245.17 Q1770.1 245.17 1768.18 247.393 Q1766.26 249.592 1766.26 253.365 L1766.26 268.018 L1761.97 268.018 L1761.97 242.092 L1766.26 242.092 L1766.26 246.12 Q1767.71 243.735 1769.75 242.601 Q1771.79 241.467 1774.59 241.467 Q1777.41 241.467 1779.38 242.902 Q1781.37 244.337 1782.32 247.069 Z\" fill=\"#000000\" fill-rule=\"evenodd\" fill-opacity=\"1\" /><polyline clip-path=\"url(#clip730)\" style=\"stroke:#ff0000; stroke-linecap:round; stroke-linejoin:round; stroke-width:4; stroke-opacity:1; fill:none\" stroke-dasharray=\"16, 10\" points=\"\n",
       "  1414.54,302.578 1563.91,302.578 \n",
       "  \"/>\n",
       "<path clip-path=\"url(#clip730)\" d=\"M1588.8 285.298 L1618.04 285.298 L1618.04 289.233 L1605.77 289.233 L1605.77 319.858 L1601.07 319.858 L1601.07 289.233 L1588.8 289.233 L1588.8 285.298 Z\" fill=\"#000000\" fill-rule=\"evenodd\" fill-opacity=\"1\" /><path clip-path=\"url(#clip730)\" d=\"M1630.42 297.913 Q1629.71 297.497 1628.85 297.311 Q1628.02 297.103 1627 297.103 Q1623.39 297.103 1621.44 299.464 Q1619.52 301.802 1619.52 306.2 L1619.52 319.858 L1615.24 319.858 L1615.24 293.932 L1619.52 293.932 L1619.52 297.96 Q1620.86 295.598 1623.02 294.464 Q1625.17 293.307 1628.25 293.307 Q1628.69 293.307 1629.22 293.376 Q1629.75 293.423 1630.4 293.538 L1630.42 297.913 Z\" fill=\"#000000\" fill-rule=\"evenodd\" fill-opacity=\"1\" /><path clip-path=\"url(#clip730)\" d=\"M1634.45 309.626 L1634.45 293.932 L1638.71 293.932 L1638.71 309.464 Q1638.71 313.145 1640.15 314.996 Q1641.58 316.825 1644.45 316.825 Q1647.9 316.825 1649.89 314.626 Q1651.9 312.427 1651.9 308.631 L1651.9 293.932 L1656.16 293.932 L1656.16 319.858 L1651.9 319.858 L1651.9 315.876 Q1650.35 318.237 1648.29 319.395 Q1646.26 320.529 1643.55 320.529 Q1639.08 320.529 1636.77 317.751 Q1634.45 314.973 1634.45 309.626 M1645.17 293.307 L1645.17 293.307 Z\" fill=\"#000000\" fill-rule=\"evenodd\" fill-opacity=\"1\" /><path clip-path=\"url(#clip730)\" d=\"M1687.11 305.83 L1687.11 307.913 L1667.53 307.913 Q1667.81 312.311 1670.17 314.626 Q1672.55 316.918 1676.79 316.918 Q1679.24 316.918 1681.53 316.316 Q1683.85 315.714 1686.12 314.51 L1686.12 318.538 Q1683.83 319.51 1681.42 320.02 Q1679.01 320.529 1676.53 320.529 Q1670.33 320.529 1666.7 316.918 Q1663.09 313.307 1663.09 307.149 Q1663.09 300.784 1666.51 297.057 Q1669.96 293.307 1675.79 293.307 Q1681.02 293.307 1684.06 296.686 Q1687.11 300.043 1687.11 305.83 M1682.85 304.58 Q1682.81 301.085 1680.89 299.001 Q1678.99 296.918 1675.84 296.918 Q1672.27 296.918 1670.12 298.932 Q1667.99 300.946 1667.67 304.603 L1682.85 304.58 Z\" fill=\"#000000\" fill-rule=\"evenodd\" fill-opacity=\"1\" /><path clip-path=\"url(#clip730)\" d=\"M1706.12 293.932 L1710.63 293.932 L1718.73 315.691 L1726.83 293.932 L1731.35 293.932 L1721.63 319.858 L1715.84 319.858 L1706.12 293.932 Z\" fill=\"#000000\" fill-rule=\"evenodd\" fill-opacity=\"1\" /><path clip-path=\"url(#clip730)\" d=\"M1749.01 306.825 Q1743.85 306.825 1741.86 308.006 Q1739.87 309.186 1739.87 312.034 Q1739.87 314.302 1741.35 315.645 Q1742.85 316.964 1745.42 316.964 Q1748.96 316.964 1751.09 314.464 Q1753.25 311.941 1753.25 307.774 L1753.25 306.825 L1749.01 306.825 M1757.51 305.066 L1757.51 319.858 L1753.25 319.858 L1753.25 315.922 Q1751.79 318.283 1749.61 319.418 Q1747.44 320.529 1744.29 320.529 Q1740.31 320.529 1737.95 318.307 Q1735.61 316.061 1735.61 312.311 Q1735.61 307.936 1738.52 305.714 Q1741.46 303.492 1747.27 303.492 L1753.25 303.492 L1753.25 303.075 Q1753.25 300.135 1751.3 298.538 Q1749.38 296.918 1745.89 296.918 Q1743.66 296.918 1741.56 297.45 Q1739.45 297.983 1737.51 299.047 L1737.51 295.112 Q1739.84 294.21 1742.04 293.77 Q1744.24 293.307 1746.33 293.307 Q1751.95 293.307 1754.73 296.223 Q1757.51 299.14 1757.51 305.066 Z\" fill=\"#000000\" fill-rule=\"evenodd\" fill-opacity=\"1\" /><path clip-path=\"url(#clip730)\" d=\"M1766.28 283.839 L1770.54 283.839 L1770.54 319.858 L1766.28 319.858 L1766.28 283.839 Z\" fill=\"#000000\" fill-rule=\"evenodd\" fill-opacity=\"1\" /><path clip-path=\"url(#clip730)\" d=\"M1779.01 309.626 L1779.01 293.932 L1783.27 293.932 L1783.27 309.464 Q1783.27 313.145 1784.7 314.996 Q1786.14 316.825 1789.01 316.825 Q1792.46 316.825 1794.45 314.626 Q1796.46 312.427 1796.46 308.631 L1796.46 293.932 L1800.72 293.932 L1800.72 319.858 L1796.46 319.858 L1796.46 315.876 Q1794.91 318.237 1792.85 319.395 Q1790.82 320.529 1788.11 320.529 Q1783.64 320.529 1781.33 317.751 Q1779.01 314.973 1779.01 309.626 M1789.73 293.307 L1789.73 293.307 Z\" fill=\"#000000\" fill-rule=\"evenodd\" fill-opacity=\"1\" /><path clip-path=\"url(#clip730)\" d=\"M1831.67 305.83 L1831.67 307.913 L1812.09 307.913 Q1812.37 312.311 1814.73 314.626 Q1817.11 316.918 1821.35 316.918 Q1823.8 316.918 1826.09 316.316 Q1828.41 315.714 1830.68 314.51 L1830.68 318.538 Q1828.39 319.51 1825.98 320.02 Q1823.57 320.529 1821.09 320.529 Q1814.89 320.529 1811.26 316.918 Q1807.64 313.307 1807.64 307.149 Q1807.64 300.784 1811.07 297.057 Q1814.52 293.307 1820.35 293.307 Q1825.58 293.307 1828.62 296.686 Q1831.67 300.043 1831.67 305.83 M1827.41 304.58 Q1827.37 301.085 1825.45 299.001 Q1823.55 296.918 1820.4 296.918 Q1816.83 296.918 1814.68 298.932 Q1812.55 300.946 1812.23 304.603 L1827.41 304.58 Z\" fill=\"#000000\" fill-rule=\"evenodd\" fill-opacity=\"1\" /><path clip-path=\"url(#clip730)\" d=\"M1863.78 296.918 Q1860.35 296.918 1858.36 299.603 Q1856.37 302.265 1856.37 306.918 Q1856.37 311.571 1858.34 314.256 Q1860.33 316.918 1863.78 316.918 Q1867.18 316.918 1869.17 314.233 Q1871.16 311.547 1871.16 306.918 Q1871.16 302.311 1869.17 299.626 Q1867.18 296.918 1863.78 296.918 M1863.78 293.307 Q1869.33 293.307 1872.51 296.918 Q1875.68 300.529 1875.68 306.918 Q1875.68 313.284 1872.51 316.918 Q1869.33 320.529 1863.78 320.529 Q1858.2 320.529 1855.03 316.918 Q1851.88 313.284 1851.88 306.918 Q1851.88 300.529 1855.03 296.918 Q1858.2 293.307 1863.78 293.307 Z\" fill=\"#000000\" fill-rule=\"evenodd\" fill-opacity=\"1\" /><path clip-path=\"url(#clip730)\" d=\"M1895.86 283.839 L1895.86 287.381 L1891.79 287.381 Q1889.5 287.381 1888.59 288.307 Q1887.71 289.233 1887.71 291.64 L1887.71 293.932 L1894.73 293.932 L1894.73 297.242 L1887.71 297.242 L1887.71 319.858 L1883.43 319.858 L1883.43 297.242 L1879.36 297.242 L1879.36 293.932 L1883.43 293.932 L1883.43 292.126 Q1883.43 287.798 1885.45 285.83 Q1887.46 283.839 1891.83 283.839 L1895.86 283.839 Z\" fill=\"#000000\" fill-rule=\"evenodd\" fill-opacity=\"1\" /><path clip-path=\"url(#clip730)\" d=\"M1918.71 286.571 L1918.71 293.932 L1927.48 293.932 L1927.48 297.242 L1918.71 297.242 L1918.71 311.316 Q1918.71 314.487 1919.57 315.39 Q1920.44 316.293 1923.11 316.293 L1927.48 316.293 L1927.48 319.858 L1923.11 319.858 Q1918.18 319.858 1916.3 318.029 Q1914.43 316.177 1914.43 311.316 L1914.43 297.242 L1911.3 297.242 L1911.3 293.932 L1914.43 293.932 L1914.43 286.571 L1918.71 286.571 Z\" fill=\"#000000\" fill-rule=\"evenodd\" fill-opacity=\"1\" /><path clip-path=\"url(#clip730)\" d=\"M1954.63 304.209 L1954.63 319.858 L1950.38 319.858 L1950.38 304.348 Q1950.38 300.668 1948.94 298.839 Q1947.5 297.01 1944.63 297.01 Q1941.19 297.01 1939.19 299.21 Q1937.2 301.409 1937.2 305.205 L1937.2 319.858 L1932.92 319.858 L1932.92 283.839 L1937.2 283.839 L1937.2 297.96 Q1938.73 295.622 1940.79 294.464 Q1942.88 293.307 1945.58 293.307 Q1950.05 293.307 1952.34 296.085 Q1954.63 298.839 1954.63 304.209 Z\" fill=\"#000000\" fill-rule=\"evenodd\" fill-opacity=\"1\" /><path clip-path=\"url(#clip730)\" d=\"M1985.31 305.83 L1985.31 307.913 L1965.72 307.913 Q1966 312.311 1968.36 314.626 Q1970.75 316.918 1974.98 316.918 Q1977.44 316.918 1979.73 316.316 Q1982.04 315.714 1984.31 314.51 L1984.31 318.538 Q1982.02 319.51 1979.61 320.02 Q1977.2 320.529 1974.73 320.529 Q1968.52 320.529 1964.89 316.918 Q1961.28 313.307 1961.28 307.149 Q1961.28 300.784 1964.7 297.057 Q1968.15 293.307 1973.99 293.307 Q1979.22 293.307 1982.25 296.686 Q1985.31 300.043 1985.31 305.83 M1981.05 304.58 Q1981 301.085 1979.08 299.001 Q1977.18 296.918 1974.03 296.918 Q1970.47 296.918 1968.32 298.932 Q1966.19 300.946 1965.86 304.603 L1981.05 304.58 Z\" fill=\"#000000\" fill-rule=\"evenodd\" fill-opacity=\"1\" /><path clip-path=\"url(#clip730)\" d=\"M2011.49 315.969 L2011.49 329.719 L2007.2 329.719 L2007.2 293.932 L2011.49 293.932 L2011.49 297.867 Q2012.83 295.552 2014.87 294.441 Q2016.93 293.307 2019.77 293.307 Q2024.5 293.307 2027.44 297.057 Q2030.4 300.807 2030.4 306.918 Q2030.4 313.029 2027.44 316.779 Q2024.5 320.529 2019.77 320.529 Q2016.93 320.529 2014.87 319.418 Q2012.83 318.283 2011.49 315.969 M2025.98 306.918 Q2025.98 302.219 2024.03 299.557 Q2022.11 296.872 2018.73 296.872 Q2015.35 296.872 2013.41 299.557 Q2011.49 302.219 2011.49 306.918 Q2011.49 311.617 2013.41 314.302 Q2015.35 316.964 2018.73 316.964 Q2022.11 316.964 2024.03 314.302 Q2025.98 311.617 2025.98 306.918 Z\" fill=\"#000000\" fill-rule=\"evenodd\" fill-opacity=\"1\" /><path clip-path=\"url(#clip730)\" d=\"M2049.24 306.825 Q2044.08 306.825 2042.09 308.006 Q2040.1 309.186 2040.1 312.034 Q2040.1 314.302 2041.58 315.645 Q2043.08 316.964 2045.65 316.964 Q2049.19 316.964 2051.32 314.464 Q2053.48 311.941 2053.48 307.774 L2053.48 306.825 L2049.24 306.825 M2057.74 305.066 L2057.74 319.858 L2053.48 319.858 L2053.48 315.922 Q2052.02 318.283 2049.84 319.418 Q2047.67 320.529 2044.52 320.529 Q2040.54 320.529 2038.18 318.307 Q2035.84 316.061 2035.84 312.311 Q2035.84 307.936 2038.75 305.714 Q2041.69 303.492 2047.5 303.492 L2053.48 303.492 L2053.48 303.075 Q2053.48 300.135 2051.53 298.538 Q2049.61 296.918 2046.12 296.918 Q2043.89 296.918 2041.79 297.45 Q2039.68 297.983 2037.74 299.047 L2037.74 295.112 Q2040.07 294.21 2042.27 293.77 Q2044.47 293.307 2046.56 293.307 Q2052.18 293.307 2054.96 296.223 Q2057.74 299.14 2057.74 305.066 Z\" fill=\"#000000\" fill-rule=\"evenodd\" fill-opacity=\"1\" /><path clip-path=\"url(#clip730)\" d=\"M2081.53 297.913 Q2080.81 297.497 2079.96 297.311 Q2079.12 297.103 2078.11 297.103 Q2074.5 297.103 2072.55 299.464 Q2070.63 301.802 2070.63 306.2 L2070.63 319.858 L2066.35 319.858 L2066.35 293.932 L2070.63 293.932 L2070.63 297.96 Q2071.97 295.598 2074.12 294.464 Q2076.28 293.307 2079.36 293.307 Q2079.8 293.307 2080.33 293.376 Q2080.86 293.423 2081.51 293.538 L2081.53 297.913 Z\" fill=\"#000000\" fill-rule=\"evenodd\" fill-opacity=\"1\" /><path clip-path=\"url(#clip730)\" d=\"M2097.78 306.825 Q2092.62 306.825 2090.63 308.006 Q2088.64 309.186 2088.64 312.034 Q2088.64 314.302 2090.12 315.645 Q2091.62 316.964 2094.19 316.964 Q2097.74 316.964 2099.87 314.464 Q2102.02 311.941 2102.02 307.774 L2102.02 306.825 L2097.78 306.825 M2106.28 305.066 L2106.28 319.858 L2102.02 319.858 L2102.02 315.922 Q2100.56 318.283 2098.38 319.418 Q2096.21 320.529 2093.06 320.529 Q2089.08 320.529 2086.72 318.307 Q2084.38 316.061 2084.38 312.311 Q2084.38 307.936 2087.3 305.714 Q2090.24 303.492 2096.05 303.492 L2102.02 303.492 L2102.02 303.075 Q2102.02 300.135 2100.07 298.538 Q2098.15 296.918 2094.66 296.918 Q2092.43 296.918 2090.33 297.45 Q2088.22 297.983 2086.28 299.047 L2086.28 295.112 Q2088.62 294.21 2090.81 293.77 Q2093.01 293.307 2095.1 293.307 Q2100.72 293.307 2103.5 296.223 Q2106.28 299.14 2106.28 305.066 Z\" fill=\"#000000\" fill-rule=\"evenodd\" fill-opacity=\"1\" /><path clip-path=\"url(#clip730)\" d=\"M2135.24 298.909 Q2136.83 296.038 2139.05 294.673 Q2141.28 293.307 2144.29 293.307 Q2148.34 293.307 2150.54 296.154 Q2152.74 298.978 2152.74 304.209 L2152.74 319.858 L2148.45 319.858 L2148.45 304.348 Q2148.45 300.622 2147.13 298.816 Q2145.81 297.01 2143.11 297.01 Q2139.8 297.01 2137.87 299.21 Q2135.95 301.409 2135.95 305.205 L2135.95 319.858 L2131.67 319.858 L2131.67 304.348 Q2131.67 300.598 2130.35 298.816 Q2129.03 297.01 2126.28 297.01 Q2123.01 297.01 2121.09 299.233 Q2119.17 301.432 2119.17 305.205 L2119.17 319.858 L2114.89 319.858 L2114.89 293.932 L2119.17 293.932 L2119.17 297.96 Q2120.63 295.575 2122.67 294.441 Q2124.7 293.307 2127.5 293.307 Q2130.33 293.307 2132.3 294.742 Q2134.29 296.177 2135.24 298.909 Z\" fill=\"#000000\" fill-rule=\"evenodd\" fill-opacity=\"1\" /><path clip-path=\"url(#clip730)\" d=\"M2183.41 305.83 L2183.41 307.913 L2163.82 307.913 Q2164.1 312.311 2166.46 314.626 Q2168.85 316.918 2173.08 316.918 Q2175.54 316.918 2177.83 316.316 Q2180.14 315.714 2182.41 314.51 L2182.41 318.538 Q2180.12 319.51 2177.71 320.02 Q2175.3 320.529 2172.83 320.529 Q2166.62 320.529 2162.99 316.918 Q2159.38 313.307 2159.38 307.149 Q2159.38 300.784 2162.8 297.057 Q2166.25 293.307 2172.09 293.307 Q2177.32 293.307 2180.35 296.686 Q2183.41 300.043 2183.41 305.83 M2179.15 304.58 Q2179.1 301.085 2177.18 299.001 Q2175.28 296.918 2172.13 296.918 Q2168.57 296.918 2166.42 298.932 Q2164.29 300.946 2163.96 304.603 L2179.15 304.58 Z\" fill=\"#000000\" fill-rule=\"evenodd\" fill-opacity=\"1\" /><path clip-path=\"url(#clip730)\" d=\"M2194.61 286.571 L2194.61 293.932 L2203.38 293.932 L2203.38 297.242 L2194.61 297.242 L2194.61 311.316 Q2194.61 314.487 2195.47 315.39 Q2196.35 316.293 2199.01 316.293 L2203.38 316.293 L2203.38 319.858 L2199.01 319.858 Q2194.08 319.858 2192.2 318.029 Q2190.33 316.177 2190.33 311.316 L2190.33 297.242 L2187.2 297.242 L2187.2 293.932 L2190.33 293.932 L2190.33 286.571 L2194.61 286.571 Z\" fill=\"#000000\" fill-rule=\"evenodd\" fill-opacity=\"1\" /><path clip-path=\"url(#clip730)\" d=\"M2231.16 305.83 L2231.16 307.913 L2211.58 307.913 Q2211.86 312.311 2214.22 314.626 Q2216.6 316.918 2220.84 316.918 Q2223.29 316.918 2225.58 316.316 Q2227.9 315.714 2230.17 314.51 L2230.17 318.538 Q2227.87 319.51 2225.47 320.02 Q2223.06 320.529 2220.58 320.529 Q2214.38 320.529 2210.74 316.918 Q2207.13 313.307 2207.13 307.149 Q2207.13 300.784 2210.56 297.057 Q2214.01 293.307 2219.84 293.307 Q2225.07 293.307 2228.11 296.686 Q2231.16 300.043 2231.16 305.83 M2226.9 304.58 Q2226.86 301.085 2224.93 299.001 Q2223.04 296.918 2219.89 296.918 Q2216.32 296.918 2214.17 298.932 Q2212.04 300.946 2211.72 304.603 L2226.9 304.58 Z\" fill=\"#000000\" fill-rule=\"evenodd\" fill-opacity=\"1\" /><path clip-path=\"url(#clip730)\" d=\"M2253.17 297.913 Q2252.46 297.497 2251.6 297.311 Q2250.77 297.103 2249.75 297.103 Q2246.14 297.103 2244.19 299.464 Q2242.27 301.802 2242.27 306.2 L2242.27 319.858 L2237.99 319.858 L2237.99 293.932 L2242.27 293.932 L2242.27 297.96 Q2243.61 295.598 2245.77 294.464 Q2247.92 293.307 2251 293.307 Q2251.44 293.307 2251.97 293.376 Q2252.5 293.423 2253.15 293.538 L2253.17 297.913 Z\" fill=\"#000000\" fill-rule=\"evenodd\" fill-opacity=\"1\" /></svg>\n"
      ]
     },
     "execution_count": 15,
     "metadata": {},
     "output_type": "execute_result"
    }
   ],
   "source": [
    "Random.seed!(627)\n",
    "\n",
    "Y,X,Z₁,Z₂=DGP(10^5)\n",
    "Q_plot(x)=Qₙ(x,Y,X,Z₁,Z₂,I)\n",
    "\n",
    "grid=[-20:0.1:20;];\n",
    "maximizer=grid[argmax(Q_plot.(grid))]\n",
    "minimizer=grid[argmin(Q_plot.(grid))]\n",
    "\n",
    "plot(grid,Q_plot.(grid),label=\"GMM criterion function\")\n",
    "vline!([maximizer],label=\"Maximum\",style=:dash,color=:blue)\n",
    "vline!([minimizer],label=\"Minimum\",color=:gray)\n",
    "vline!([θ₀],label=\"True value of the parameter\", style=:dash,color=:red)"
   ]
  },
  {
   "cell_type": "markdown",
   "id": "f5c1a093",
   "metadata": {},
   "source": [
    "#### Part (d): Different starting values"
   ]
  },
  {
   "cell_type": "code",
   "execution_count": 16,
   "id": "3b8cdec5",
   "metadata": {},
   "outputs": [],
   "source": [
    "starting_m5=Optim.minimizer(optimize(θ->Qₙ(θ,Y,X,Z₁,Z₂,I),[-5.0],NewtonTrustRegion(); autodiff = :forward))[1];\n",
    "starting_0=Optim.minimizer(optimize(θ->Qₙ(θ,Y,X,Z₁,Z₂,I),[0.0],NewtonTrustRegion(); autodiff = :forward))[1];\n",
    "starting_p20=Optim.minimizer(optimize(θ->Qₙ(θ,Y,X,Z₁,Z₂,I),[20.0],NewtonTrustRegion(); autodiff = :forward))[1];"
   ]
  },
  {
   "cell_type": "code",
   "execution_count": 17,
   "id": "e697d875",
   "metadata": {},
   "outputs": [
    {
     "name": "stdout",
     "output_type": "stream",
     "text": [
      "Estimates for different starting values:\n",
      "-----------------------------------------\n",
      "Starting value    Estimate\n",
      "-5.0             -5.0\n",
      " 0.0             5.0415\n",
      "20.0             5.0415\n"
     ]
    }
   ],
   "source": [
    "println(\"Estimates for different starting values:\")\n",
    "println(\"-----------------------------------------\")\n",
    "println(\"Starting value    Estimate\")\n",
    "println(\"-5.0\", \"             \", round(starting_m5,digits=4))\n",
    "println(\" 0.0\", \"             \", round(starting_0,digits=4))\n",
    "println(\"20.0\", \"             \", round(starting_p20,digits=4))"
   ]
  },
  {
   "cell_type": "markdown",
   "id": "519edac3",
   "metadata": {},
   "source": [
    "##### Part (e): Hessian and asymptotic variance"
   ]
  },
  {
   "cell_type": "markdown",
   "id": "10734592",
   "metadata": {},
   "source": [
    "#### Part (f): Function for two-step efficient GMM"
   ]
  },
  {
   "cell_type": "code",
   "execution_count": 18,
   "id": "56c12c61",
   "metadata": {},
   "outputs": [
    {
     "data": {
      "text/plain": [
       "TSGMM (generic function with 1 method)"
      ]
     },
     "execution_count": 18,
     "metadata": {},
     "output_type": "execute_result"
    }
   ],
   "source": [
    "function TSGMM(Y,X,Z₁,Z₂)\n",
    "    \n",
    "    #first step GMM\n",
    "    Result=optimize(θ->Qₙ(θ,Y,X,Z₁,Z₂,I),[0.0],NewtonTrustRegion(); autodiff = :forward)\n",
    "    θ̂₁=Optim.minimizer(Result)\n",
    "    \n",
    "    #Efficient Weight Matrix\n",
    "    n=length(Y)\n",
    "    g=[Z₁ .*(Y-Λ.(θ̂₁ .* X))  Z₂ .*(Y-Λ.(θ̂₁ .* X)) ] \n",
    "    Variance=g'*g/n\n",
    "    WeightOptimal=inv(Variance)\n",
    "    \n",
    "    #Second step efficient GMM\n",
    "    Result2=optimize(θ->Qₙ(θ,Y,X,Z₁,Z₂,WeightOptimal),θ̂₁,NewtonTrustRegion(); autodiff = :forward)\n",
    "    θ̂₂=Optim.minimizer(Result2)\n",
    "    \n",
    "    #Standard Error\n",
    "    AsyVar=ForwardDiff.hessian(θ->Qₙ(θ,Y,X,Z₁,Z₂,WeightOptimal),θ̂₂)\n",
    "    stderr=sqrt(inv(AsyVar)/n)\n",
    "    \n",
    "    return θ̂₂[1], stderr[1]\n",
    "end"
   ]
  },
  {
   "cell_type": "markdown",
   "id": "e5e111f7",
   "metadata": {},
   "source": [
    "##### Part (g): Simulated CI coverage"
   ]
  },
  {
   "cell_type": "code",
   "execution_count": 19,
   "id": "d4613056",
   "metadata": {},
   "outputs": [
    {
     "name": "stdout",
     "output_type": "stream",
     "text": [
      " 47.717420 seconds (64.17 M allocations: 6.834 GiB, 7.54% gc time, 80.47% compilation time)\n"
     ]
    },
    {
     "name": "stderr",
     "output_type": "stream",
     "text": [
      "WARNING: redefinition of constant n. This may fail, cause incorrect answers, or produce other errors.\n",
      "WARNING: redefinition of constant R. This may fail, cause incorrect answers, or produce other errors.\n"
     ]
    }
   ],
   "source": [
    "n=200\n",
    "R=10000\n",
    "\n",
    "Random.seed!(627)\n",
    "\n",
    "Estimates=zeros(R)\n",
    "StdErrors=zeros(R)\n",
    "\n",
    "@time Threads.@threads for r=1:R\n",
    "    Y,X,Z₁,Z₂=DGP(n)\n",
    "    θ̂₂, stderr=TSGMM(Y,X,Z₁,Z₂)\n",
    "    Estimates[r,1]=θ̂₂\n",
    "    StdErrors[r,1]=stderr\n",
    "end"
   ]
  },
  {
   "cell_type": "code",
   "execution_count": 20,
   "id": "6f6dfa38",
   "metadata": {},
   "outputs": [],
   "source": [
    "# Critical values\n",
    "\n",
    "z90=quantile(Normal(),0.95);\n",
    "z95=quantile(Normal(),0.975);\n",
    "z99=quantile(Normal(),0.995);"
   ]
  },
  {
   "cell_type": "code",
   "execution_count": 21,
   "id": "1b601dac",
   "metadata": {},
   "outputs": [
    {
     "name": "stdout",
     "output_type": "stream",
     "text": [
      "CI Coverage:\n",
      "-----------------------------------------\n",
      "Nominal    Simulated\n",
      "0.90        0.9157\n",
      "0.95        0.9481\n",
      "0.99        0.9783\n"
     ]
    }
   ],
   "source": [
    "# CI coverage calculations\n",
    "\n",
    "Coverage90=sum((Estimates - z90*StdErrors .<θ₀ .< Estimates + z90*StdErrors))/R\n",
    "Coverage95=sum((Estimates - z95*StdErrors .<θ₀ .< Estimates + z95*StdErrors))/R\n",
    "Coverage99=sum((Estimates - z99*StdErrors .<θ₀ .< Estimates + z99*StdErrors))/R\n",
    "\n",
    "println(\"CI Coverage:\")\n",
    "println(\"-----------------------------------------\")\n",
    "println(\"Nominal    Simulated\")\n",
    "println(\"0.90\", \"        \", round(Coverage90,digits=4))\n",
    "println(\"0.95\", \"        \", round(Coverage95,digits=4))\n",
    "println(\"0.99\", \"        \", round(Coverage99,digits=4))"
   ]
  }
 ],
 "metadata": {
  "kernelspec": {
   "display_name": "Julia 1.8.2",
   "language": "julia",
   "name": "julia-1.8"
  },
  "language_info": {
   "file_extension": ".jl",
   "mimetype": "application/julia",
   "name": "julia",
   "version": "1.8.2"
  }
 },
 "nbformat": 4,
 "nbformat_minor": 5
}
