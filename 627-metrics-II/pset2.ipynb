{
 "cells": [
  {
   "cell_type": "markdown",
   "id": "24a7a5b2-4d95-4771-b483-c139e44dcdf2",
   "metadata": {},
   "source": [
    "# PSET 1 \n",
    "\n",
    "### Juan M Jimenez\n",
    "\n",
    "## Q2."
   ]
  },
  {
   "cell_type": "code",
   "execution_count": 1,
   "id": "a3edb03d-f686-48a2-806a-7095ae7c53d4",
   "metadata": {},
   "outputs": [],
   "source": [
    "#Pkg.add.([\"Plots\", \"Statistics\", \"Distributions\", \"LinearAlgebra\", \"PrettyTables\", \"Random\"])\n",
    "#Pkg.add.(\"Random\")\n",
    "#Pkg.add(\"PrettyTables\")"
   ]
  },
  {
   "cell_type": "code",
   "execution_count": 2,
   "id": "25cdd85f-d7e9-41e4-80d9-3745b5dd9e42",
   "metadata": {},
   "outputs": [
    {
     "name": "stderr",
     "output_type": "stream",
     "text": [
      "\u001b[32m\u001b[1m  Activating\u001b[22m\u001b[39m project at `C:\\Github\\UBC-phd`\n"
     ]
    }
   ],
   "source": [
    "cd(joinpath(pwd(),\"..\"))\n",
    "\n",
    "using Pkg\n",
    "Pkg.activate(\".\") ;"
   ]
  },
  {
   "cell_type": "code",
   "execution_count": 3,
   "id": "cf9608cd-9e30-4faf-8b15-e06d8beac51c",
   "metadata": {},
   "outputs": [],
   "source": [
    "#Pkg.add(\"PrettyTables\")\n",
    "using Plots, Statistics, Distributions, LinearAlgebra, PrettyTables, Random"
   ]
  },
  {
   "cell_type": "markdown",
   "id": "7a00f290-a7dd-44b5-8593-1bf0e0350e2c",
   "metadata": {
    "tags": []
   },
   "source": [
    "## a.\n",
    "Generate n = 500 observations for ($Y_i$;$X_i$;$Z_i$) from the following IV regression model with heteroskedastic errors."
   ]
  },
  {
   "cell_type": "code",
   "execution_count": 4,
   "id": "2e12f3ef-5a17-42db-9161-3484ea45a7c1",
   "metadata": {},
   "outputs": [
    {
     "data": {
      "text/plain": [
       "TaskLocalRNG()"
      ]
     },
     "execution_count": 4,
     "metadata": {},
     "output_type": "execute_result"
    }
   ],
   "source": [
    "#Seed for randomness\n",
    "Random.seed!(1234)"
   ]
  },
  {
   "cell_type": "code",
   "execution_count": 5,
   "id": "2e54acbf-0c08-4353-adf5-3723ceeced54",
   "metadata": {
    "tags": []
   },
   "outputs": [
    {
     "data": {
      "text/plain": [
       "sample_data (generic function with 1 method)"
      ]
     },
     "execution_count": 5,
     "metadata": {},
     "output_type": "execute_result"
    }
   ],
   "source": [
    "# Defining parameters \n",
    "β=1\n",
    "Π=[1; 1]\n",
    "ρ=0.95\n",
    "μ=[0;0]\n",
    "Σ=[1 ρ; ρ 1]\n",
    "\n",
    "function sample_data(n)\n",
    "    \n",
    "    #Joint distribution of (ϵ,v)\n",
    "    jointDist = MvNormal(μ, Σ)\n",
    "    errors=rand(jointDist,n)'\n",
    "    \n",
    "    ϵ=errors[:,1]\n",
    "    v=errors[:,2]\n",
    "    Z=randn(n,2)\n",
    "    \n",
    "    #Models\n",
    "    X=Z*Π+v\n",
    "    U=exp.(Z*Π) .* ϵ\n",
    "    Y=X*β+U\n",
    "    \n",
    "    #Outputs\n",
    "    return (Y = Y , X = X , Z = Z)\n",
    "end"
   ]
  },
  {
   "cell_type": "code",
   "execution_count": 6,
   "id": "fbdd6360-5dca-4c28-8155-f56a155541da",
   "metadata": {},
   "outputs": [],
   "source": [
    "Ys , Xs, Zs = sample_data(1000);"
   ]
  },
  {
   "cell_type": "markdown",
   "id": "5f07f99c-9da3-4539-a4a5-39b6e8230520",
   "metadata": {},
   "source": [
    "## b. \n",
    "Compute $\\beta^{2SLS}$ and its standard error."
   ]
  },
  {
   "cell_type": "code",
   "execution_count": 7,
   "id": "73c5ec22-06a6-4032-9748-ea89f7ca786b",
   "metadata": {},
   "outputs": [
    {
     "data": {
      "text/plain": [
       "est2sls (generic function with 1 method)"
      ]
     },
     "execution_count": 7,
     "metadata": {},
     "output_type": "execute_result"
    }
   ],
   "source": [
    "function est2sls(Y,X,Z)\n",
    "       \n",
    "    #Estimator\n",
    "    PZ = Z*( (Z'*Z)\\Z' )\n",
    "    β2sls = (X'*PZ*X)\\(X'*PZ*Y)\n",
    "    \n",
    "    #Calculating Ω\n",
    "    U= Y - X*β\n",
    "    n=length(U)\n",
    "    #Ω= (U'*U*Z'*Z)./n    <------------ ASK!!!!!!!!!!!!!\n",
    "    zr = Z.*U\n",
    "    Ω = (zr' * zr)/n\n",
    "    \n",
    "    #Standard error\n",
    "    Q= (Z'*X)./n\n",
    "    W= inv((Z'*Z)./n)\n",
    "    σ2_2sls= ( (Q'*W*Q)\\(Q'*W*Ω*W*Q)/(Q'*W*Q) )./n\n",
    "    σ_2sls= sqrt(σ2_2sls)\n",
    "    \n",
    "    return β2sls, σ_2sls\n",
    "end"
   ]
  },
  {
   "cell_type": "code",
   "execution_count": 8,
   "id": "76daaad3-9b29-4dcd-aa73-0c3338e7e88e",
   "metadata": {},
   "outputs": [
    {
     "data": {
      "text/plain": [
       "(1.1475087824316017, 0.23769452702587562)"
      ]
     },
     "execution_count": 8,
     "metadata": {},
     "output_type": "execute_result"
    }
   ],
   "source": [
    "beta, std = est2sls(Ys,Xs,Zs)"
   ]
  },
  {
   "cell_type": "markdown",
   "id": "dedc0d5f-160e-432e-a389-21a7f9d548e8",
   "metadata": {},
   "source": [
    "## c.\n",
    "Compute $\\beta^{GMM}$, the two-step GMM effcient estimator of $\\beta$, and its standard error.\n"
   ]
  },
  {
   "cell_type": "code",
   "execution_count": 9,
   "id": "7ae8a17e-5c42-4d88-bf50-3848021583ea",
   "metadata": {},
   "outputs": [
    {
     "data": {
      "text/plain": [
       "estgmm (generic function with 1 method)"
      ]
     },
     "execution_count": 9,
     "metadata": {},
     "output_type": "execute_result"
    }
   ],
   "source": [
    "function estgmm(Y,X,Z)\n",
    "\n",
    "    # Initial GMM estimator using W=A'A=I\n",
    "    #W0 = [1 0;0 1]\n",
    "    W0 = I\n",
    "    Q= (Z'*X)\n",
    "    β0_gmm = (Q'*W0*Q)\\(Q'*W0*Z'Y)\n",
    "    \n",
    "    # Two-step standard error\n",
    "    U= Y - β0_gmm*X\n",
    "    n=length(U)\n",
    "    #Ω2= (U2'*U2*Z'*Z)./n\n",
    "    zr = Z.*U\n",
    "    Ω = (zr' * zr)/n\n",
    "    \n",
    "    W=inv(Ω)\n",
    "    σ2_gmm=inv((Q'*W*Q)/n)\n",
    "    σ_gmm=sqrt(σ2_gmm)\n",
    "       \n",
    "    #Final estimator\n",
    "    βgmm = (Q'*W*Q)\\(Q'*W*Z'Y)\n",
    "    \n",
    "    return βgmm, σ_gmm\n",
    "end"
   ]
  },
  {
   "cell_type": "code",
   "execution_count": 10,
   "id": "9c9c3df9-e5c6-4849-8e6c-62fd0d57d444",
   "metadata": {},
   "outputs": [
    {
     "data": {
      "text/plain": [
       "(1.1178460888458592, 0.2320372531206108)"
      ]
     },
     "execution_count": 10,
     "metadata": {},
     "output_type": "execute_result"
    }
   ],
   "source": [
    "beta, std = estgmm(Ys,Xs,Zs)"
   ]
  },
  {
   "cell_type": "code",
   "execution_count": 11,
   "id": "dcaa5720-e8f6-43d0-82d9-99a50124e1a9",
   "metadata": {},
   "outputs": [
    {
     "data": {
      "text/plain": [
       "1.9599639845400576"
      ]
     },
     "execution_count": 11,
     "metadata": {},
     "output_type": "execute_result"
    }
   ],
   "source": [
    "#Setting vars to zero\n",
    "ns=10000\n",
    "\n",
    "tbias_2sls=0\n",
    "tbias_gmm=0\n",
    "\n",
    "tσ_2sls=0\n",
    "tσ_gmm=0\n",
    "\n",
    "tinci_2sls=0\n",
    "tinci_gmm=0\n",
    "\n",
    "#Using a normal distribution for testing sice n is large (otherwise t dist)\n",
    "zstat= quantile(Normal(0,1), .975)"
   ]
  },
  {
   "cell_type": "markdown",
   "id": "b8e15bbc-9668-4192-948d-7fe205d57ab3",
   "metadata": {},
   "source": [
    "## d.\n",
    "Generate 10,000 independent samples of size n from the model. For each sample\n",
    "compute the absolute bias and check whether $\\beta$ is inside the estimator's 95% CIs."
   ]
  },
  {
   "cell_type": "code",
   "execution_count": 12,
   "id": "513b8dd6-ac73-40b1-a82d-d4218392faca",
   "metadata": {},
   "outputs": [],
   "source": [
    "for s=1:ns\n",
    "    #Creating data\n",
    "    Ys , Xs, Zs = sample_data(500)\n",
    "    \n",
    "    #Estimating coefficients\n",
    "    beta_2sls, std_2sls = est2sls(Ys,Xs,Zs)\n",
    "    beta_gmm, std_gmm = estgmm(Ys,Xs,Zs)\n",
    "    \n",
    "    #Calculating total biases\n",
    "    tbias_2sls += abs(beta_2sls-β)\n",
    "    tbias_gmm += abs(beta_gmm-β)\n",
    "    tσ_2sls += std_2sls\n",
    "    tσ_gmm += std_gmm\n",
    "    tinci_2sls += (abs(β-beta_2sls)<=zstat*std_2sls)\n",
    "    tinci_gmm += (abs(β-beta_gmm)<=zstat*std_gmm)   \n",
    "    \n",
    "    # Other way for CI:\n",
    "    #tinci_2sls += (β>beta_2sls - zstat*std_2sls)*(β<beta_2sls + zstat*std_2sls)\n",
    "    #tinci_gmm += (β>beta_gmm - zstat*std_gmm)*(β<beta_gmm + zstat*std_gmm)\n",
    "end"
   ]
  },
  {
   "cell_type": "markdown",
   "id": "116cebcd-47c5-4e5e-a137-24e7b6aa22cf",
   "metadata": {},
   "source": [
    "## e. \n",
    "Report the average bias, the average standard error, and the simulated coverage for the 95% CIs."
   ]
  },
  {
   "cell_type": "code",
   "execution_count": 13,
   "id": "af3e6e72-7280-4220-823e-9f8908abd471",
   "metadata": {},
   "outputs": [],
   "source": [
    "#Calculating mean biases and coverages\n",
    "mbias_2sls=tbias_2sls/ns\n",
    "mbias_gmm=tbias_gmm/ns\n",
    "mσ_2sls=tσ_2sls/ns\n",
    "mσ_gmm=tσ_gmm/ns\n",
    "minci_2sls=tinci_2sls/ns\n",
    "minci_gmm=tinci_gmm/ns;"
   ]
  },
  {
   "cell_type": "code",
   "execution_count": 14,
   "id": "4d5a82a3-c37f-4d3e-b815-32cf33ac24d3",
   "metadata": {},
   "outputs": [
    {
     "name": "stdout",
     "output_type": "stream",
     "text": [
      "┌─────────────────────┬──────────┬────────────────────────┬────────────┐\n",
      "│\u001b[1m           Statistic \u001b[0m│\u001b[1m     2SLS \u001b[0m│\u001b[1m Two-step efficient GMM \u001b[0m│\u001b[1m Difference \u001b[0m│\n",
      "├─────────────────────┼──────────┼────────────────────────┼────────────┤\n",
      "│                Bias │ 0.450479 │               0.367889 │  0.0825905 │\n",
      "│        Ave. std.err │ 0.535834 │               0.449416 │  0.0864177 │\n",
      "│ Coverage Prob of CI │   0.9677 │                 0.9543 │     0.0134 │\n",
      "└─────────────────────┴──────────┴────────────────────────┴────────────┘\n"
     ]
    }
   ],
   "source": [
    "#Table report\n",
    "table_data = [\"Bias\" mbias_2sls mbias_gmm mbias_2sls-mbias_gmm;\n",
    "        \"Ave. std.err\" mσ_2sls mσ_gmm mσ_2sls-mσ_gmm;\n",
    "        \"Coverage Prob of CI\" minci_2sls minci_gmm minci_2sls-minci_gmm;]\n",
    "header=[\"Statistic\", \"2SLS\", \"Two-step efficient GMM\", \"Difference\"]\n",
    "pretty_table(table_data; header)"
   ]
  },
  {
   "cell_type": "markdown",
   "id": "81b21271-fa78-4841-88e0-12a5dcf9e017",
   "metadata": {},
   "source": [
    "## f.\n",
    "Compare the two methods (2SLS and two-step efficient GMM) in terms of the\n",
    "statistics listed in the previous part. Which is the preferred method?"
   ]
  },
  {
   "cell_type": "markdown",
   "id": "5a83b0e6-227e-42e1-a011-0ed7f4541ff2",
   "metadata": {},
   "source": [
    "Given N=500, I would choose the GMM method since the GMM estimator has a less average bias and a less average standard error too. Which means not only that the GMM estimates are less biased than the 2SLS ones, but also that they are more precise.  "
   ]
  },
  {
   "cell_type": "markdown",
   "id": "f5771093-4b81-4a39-b928-771028d273fe",
   "metadata": {},
   "source": [
    "## g.\n",
    "Repeat (d)-(f) for n = 100 and discuss the differences with the simulation results for n = 500."
   ]
  },
  {
   "cell_type": "code",
   "execution_count": 15,
   "id": "948d89ff-17ec-4e11-8475-254362862ef5",
   "metadata": {},
   "outputs": [],
   "source": [
    "#Setting vars to zero\n",
    "ns=10000\n",
    "\n",
    "tbias_2sls=0\n",
    "tbias_gmm=0\n",
    "tσ_2sls=0\n",
    "tσ_gmm=0\n",
    "tinci_2sls=0\n",
    "tinci_gmm=0\n",
    "\n",
    "#z-statistic\n",
    "zstat= quantile(Normal(0,1), .975)\n",
    "\n",
    "#Siulation\n",
    "for s=1:ns\n",
    "    #Creating data\n",
    "    Ys , Xs, Zs = sample_data(100)\n",
    "    \n",
    "    #Estimating coefficients\n",
    "    beta_2sls, std_2sls = est2sls(Ys,Xs,Zs)\n",
    "    beta_gmm, std_gmm = estgmm(Ys,Xs,Zs)\n",
    "    \n",
    "    #Calculating total biases\n",
    "    tbias_2sls += abs(beta_2sls-β)\n",
    "    tbias_gmm += abs(beta_gmm-β)\n",
    "    tσ_2sls += std_2sls\n",
    "    tσ_gmm += std_gmm\n",
    "    tinci_2sls += (abs(β-beta_2sls)<=zstat*std_2sls)\n",
    "    tinci_gmm += (abs(β-beta_gmm)<=zstat*std_gmm)\n",
    "    \n",
    "    #Calculating mean biases and coverages\n",
    "    mbias_2sls=tbias_2sls/ns\n",
    "    mbias_gmm=tbias_gmm/ns\n",
    "    mσ_2sls=tσ_2sls/ns\n",
    "    mσ_gmm=tσ_gmm/ns\n",
    "    minci_2sls=tinci_2sls/ns\n",
    "    minci_gmm=tinci_gmm/ns\n",
    "end"
   ]
  },
  {
   "cell_type": "code",
   "execution_count": 16,
   "id": "12495131-51a5-455e-b630-6d252458548f",
   "metadata": {},
   "outputs": [
    {
     "name": "stdout",
     "output_type": "stream",
     "text": [
      "┌─────────────────────┬──────────┬────────────────────────┬────────────┐\n",
      "│\u001b[1m           Statistic \u001b[0m│\u001b[1m     2SLS \u001b[0m│\u001b[1m Two-step efficient GMM \u001b[0m│\u001b[1m Difference \u001b[0m│\n",
      "├─────────────────────┼──────────┼────────────────────────┼────────────┤\n",
      "│                Bias │ 0.819678 │                0.62935 │   0.190328 │\n",
      "│        Ave. std.err │ 0.929378 │               0.716174 │   0.213204 │\n",
      "│ Coverage Prob of CI │   0.9766 │                 0.9362 │     0.0404 │\n",
      "└─────────────────────┴──────────┴────────────────────────┴────────────┘\n"
     ]
    }
   ],
   "source": [
    "#Table report\n",
    "table_data = [\"Bias\" mbias_2sls mbias_gmm mbias_2sls-mbias_gmm;\n",
    "        \"Ave. std.err\" mσ_2sls mσ_gmm mσ_2sls-mσ_gmm;\n",
    "        \"Coverage Prob of CI\" minci_2sls minci_gmm minci_2sls-minci_gmm;]\n",
    "header=[\"Statistic\", \"2SLS\", \"Two-step efficient GMM\", \"Difference\"]\n",
    "pretty_table(table_data; header)"
   ]
  },
  {
   "cell_type": "markdown",
   "id": "16ec2926-7aa4-42d3-9e78-c7566d1b57f8",
   "metadata": {},
   "source": [
    "Given N=100, I would choose the GMM method since the GMM estimator has a less average bias and a less average standard error too. Which means not only that the GMM estimates are less biased than the 2SLS ones, but also that they are more precise.  \n",
    "\n",
    "Furthermore, it seems the difference in the magnitud of the biases has increased in a smaller sample, which leads me to believe that GMM is even more accurate in samller samples. "
   ]
  },
  {
   "cell_type": "code",
   "execution_count": null,
   "id": "689f07c3-c53e-4a84-826c-664ab83288c2",
   "metadata": {},
   "outputs": [],
   "source": []
  }
 ],
 "metadata": {
  "kernelspec": {
   "display_name": "Julia 1.8.1",
   "language": "julia",
   "name": "julia-1.8"
  },
  "language_info": {
   "file_extension": ".jl",
   "mimetype": "application/julia",
   "name": "julia",
   "version": "1.8.1"
  }
 },
 "nbformat": 4,
 "nbformat_minor": 5
}
