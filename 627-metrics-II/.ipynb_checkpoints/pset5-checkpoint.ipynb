{
 "cells": [
  {
   "cell_type": "markdown",
   "id": "1192a844",
   "metadata": {},
   "source": [
    "# Problem Set 5"
   ]
  },
  {
   "cell_type": "markdown",
   "id": "6b487e71",
   "metadata": {},
   "source": [
    "### Felipe Sepulveda A"
   ]
  },
  {
   "cell_type": "code",
   "execution_count": 1,
   "id": "e627db03",
   "metadata": {},
   "outputs": [],
   "source": [
    "using Distributions, PrettyTables, Random, Parameters"
   ]
  },
  {
   "cell_type": "code",
   "execution_count": 2,
   "id": "baf6e384",
   "metadata": {},
   "outputs": [],
   "source": [
    "Random.seed!(537193);"
   ]
  },
  {
   "cell_type": "markdown",
   "id": "5ca498c0",
   "metadata": {},
   "source": [
    "## Question A"
   ]
  },
  {
   "cell_type": "markdown",
   "id": "6d67770a",
   "metadata": {},
   "source": [
    "Let the sample size be n = 100, and the number of IVs be l = 1. Generate the IV Zi independently across i’s according to the following model. Let $W_i∼U(0,1)$, and\n",
    "\n",
    "$$Z_i = −0.5 ×1\\{W_i < 0.2\\}−0.1 ×1\\{0.2 ≤W_i < 0.4\\} + 0.1 ×1\\{0.4 ≤W_i < 0.6\\}+ 1\\{W_i ≥.6\\}$$\n",
    "\n",
    "Hints: In Julia, vectors of dummy variables can be generated, for example, as (w .>= 0.2).*(w .< 0.4)*1.0, where w is a vector or a matrix, and the dot operators (such as .* ) are used to call the corresponding element-by-element operations."
   ]
  },
  {
   "cell_type": "code",
   "execution_count": 3,
   "id": "4cf3b752",
   "metadata": {},
   "outputs": [
    {
     "data": {
      "text/plain": [
       "data (generic function with 1 method)"
      ]
     },
     "execution_count": 3,
     "metadata": {},
     "output_type": "execute_result"
    }
   ],
   "source": [
    "Random.seed!(537193);\n",
    "function data(n)\n",
    "    \n",
    "    W=rand(Uniform(0,1),n)\n",
    "    Z = −0.5*(W.<0.2)-0.1*(0.2.<=W).*(W.<0.4)+ 0.1*(0.4.<=W).*(W.<0.6)+ (W.≥0.6)\n",
    "\n",
    "return Z\n",
    "end"
   ]
  },
  {
   "cell_type": "code",
   "execution_count": 4,
   "id": "37217326",
   "metadata": {},
   "outputs": [],
   "source": [
    "Z_100=data(100);"
   ]
  },
  {
   "cell_type": "markdown",
   "id": "129cd0a2",
   "metadata": {},
   "source": [
    "## Question B"
   ]
  },
  {
   "cell_type": "markdown",
   "id": "293dbf30",
   "metadata": {},
   "source": [
    "Let $U_i$ and $V_i$ denote the structural and first-stage errors respectively. Generate\n",
    "the errors independently across i’s according to the given formula and $U_i = (1 + Z_i)ε_i$, where $ε_i$ and $V_i$ are independent from $Z_i$. Use $ρ = 0.9$."
   ]
  },
  {
   "cell_type": "code",
   "execution_count": 5,
   "id": "a6fd9bbf",
   "metadata": {},
   "outputs": [
    {
     "data": {
      "text/plain": [
       "errors (generic function with 1 method)"
      ]
     },
     "execution_count": 5,
     "metadata": {},
     "output_type": "execute_result"
    }
   ],
   "source": [
    "ρ=0.9\n",
    "Random.seed!(537193);\n",
    "function errors(n,Z)\n",
    "    \n",
    "    # remember always use this formula for errors with autocorrelation\n",
    "    distr = MvNormal([0.0; 0.0], [1 ρ; ρ 1;]) \n",
    "    errors=rand(distr,n)'\n",
    "    ϵ=errors[:,1]\n",
    "    V=errors[:,2]  \n",
    "    U = (1.0.+Z).*ϵ\n",
    "\n",
    "return U, V\n",
    "end\n"
   ]
  },
  {
   "cell_type": "code",
   "execution_count": 6,
   "id": "14af65d3",
   "metadata": {},
   "outputs": [],
   "source": [
    "U_100, V_100=errors(100,Z_100);"
   ]
  },
  {
   "cell_type": "markdown",
   "id": "33c6ca71",
   "metadata": {},
   "source": [
    "## Question C"
   ]
  },
  {
   "cell_type": "markdown",
   "id": "62b4acb3",
   "metadata": {},
   "source": [
    "Generate the endogenous regressors $X_i$ according to: $X_i = 4Z^2_i + V_i$\n",
    "\n",
    "Hint: Using the dot syntax in Julia, a.^2 will raise every element of a vector/matrix to the power of 2. Generate the dependent variable Yi according to $Y_i = βX_i + U_i$, where the true value of $β = 0.15$."
   ]
  },
  {
   "cell_type": "code",
   "execution_count": 7,
   "id": "eb1c7dbc",
   "metadata": {},
   "outputs": [
    {
     "data": {
      "text/plain": [
       "model (generic function with 1 method)"
      ]
     },
     "execution_count": 7,
     "metadata": {},
     "output_type": "execute_result"
    }
   ],
   "source": [
    "β=0.15\n",
    "function model(n,Z,U,V)\n",
    "    \n",
    "    X=4*Z.^2+V\n",
    "    Y=β*X+U\n",
    "    \n",
    "return Y, X\n",
    "end"
   ]
  },
  {
   "cell_type": "code",
   "execution_count": 8,
   "id": "9ce56ea4",
   "metadata": {},
   "outputs": [],
   "source": [
    "Y_100,X_100=model(100,Z_100,U_100,V_100);"
   ]
  },
  {
   "cell_type": "markdown",
   "id": "bb0edbe6",
   "metadata": {},
   "source": [
    "## Question D"
   ]
  },
  {
   "cell_type": "markdown",
   "id": "6f3e2096",
   "metadata": {},
   "source": [
    "Compute the following three IV estimators:\n",
    "1. The 2SLS estimator using $Z_i$ as instruments.\n",
    "\n",
    "2. The infeasible efficient IV estimator that uses $g^*(Z_i) = E(X_i|Z_i)/E(U^2_i|Z_i)$ as an instrument. Hint: You have to compute the true conditional expectations of $X_i$ and $U^2_i$ conditional on $Z_i$ for the data generating process described in (a)-(c).\n",
    "\n",
    "3. The feasible version of the efficient IV estimator that uses as an instrument $\\hat{g}^∗_n(Z_i) = \\hat{E}_n(X_i|Z_i)/ \\hat{E}_n(U^2_i |Z_i)$ . Hints: You should estimate the efficient instrument as described in Question 1. Note that, since in practice $U_i$ are unobservable, you should use $U^ ̃_i = Y_i −X_i β^ ̃_n$, where $β^ ̃_n$ is a feasible consistent estimator of β (such as the 2SLS estimator)."
   ]
  },
  {
   "cell_type": "code",
   "execution_count": 9,
   "id": "7ab04aff",
   "metadata": {},
   "outputs": [
    {
     "data": {
      "text/plain": [
       "ols (generic function with 1 method)"
      ]
     },
     "execution_count": 9,
     "metadata": {},
     "output_type": "execute_result"
    }
   ],
   "source": [
    "function ols(Z,Y,X)\n",
    "    \n",
    "    n=length(Y)\n",
    "    β=((Z'X)^-1)*(Z'Y)\n",
    "    U=Y-X*β\n",
    "    ZU=Z.*U\n",
    "    ZX=Z'*X\n",
    "    Var=n*inv(ZX)*ZU'*ZU*inv(ZX')\n",
    "    se=sqrt.(Var)\n",
    "return β, se\n",
    "end"
   ]
  },
  {
   "cell_type": "code",
   "execution_count": 10,
   "id": "4e096938",
   "metadata": {},
   "outputs": [
    {
     "data": {
      "text/plain": [
       "estimators (generic function with 1 method)"
      ]
     },
     "execution_count": 10,
     "metadata": {},
     "output_type": "execute_result"
    }
   ],
   "source": [
    "function estimators(Z,Y,X)\n",
    "\n",
    "    #1. 2sls\n",
    "    β_iv, se_iv=ols(Z,Y,X)\n",
    "\n",
    "    #2. Infeasible \n",
    "    g_inf=(4*Z.^2)./((1.0.+Z).^2)\n",
    "    β_inf, se_inf=ols(g_inf,Y,X)\n",
    "\n",
    "\n",
    "    #3. Feasible \n",
    "    Z1=1*(Z.==-0.5)\n",
    "    Z2=1*(Z.==-0.1)\n",
    "    Z3=1*(Z.==0.1)\n",
    "    Z4=1*(Z.==1)\n",
    "    ZZ=[Z1 Z2 Z3 Z4]\n",
    "    PZ=ZZ*inv(ZZ'*ZZ)*ZZ'\n",
    "    π=PZ*X #(proyecting)\n",
    "    β=((Z'X)^-1)*(Z'Y)\n",
    "    U=Y-X*β\n",
    "    θ=PZ*(U.^2)\n",
    "    g_feas=π./θ\n",
    "    β_feas, se_feas=ols(g_feas,Y,X)\n",
    "\n",
    "return β_iv, se_iv, β_inf, se_inf, β_feas, se_feas\n",
    "end"
   ]
  },
  {
   "cell_type": "code",
   "execution_count": 11,
   "id": "d6672e6a",
   "metadata": {},
   "outputs": [
    {
     "data": {
      "text/plain": [
       "(0.16273648439874874, 0.8074822690702527, 0.1612552194857508, 0.6320620674469422, 0.160852649931673, 0.6307492009436806)"
      ]
     },
     "execution_count": 11,
     "metadata": {},
     "output_type": "execute_result"
    }
   ],
   "source": [
    "β_iv_100, se_iv_100, β_inf_100, se_inf_100, β_feas_100, se_feas_100=estimators(Z_100,Y_100,X_100)"
   ]
  },
  {
   "cell_type": "markdown",
   "id": "0d5195a1",
   "metadata": {},
   "source": [
    "## Question E"
   ]
  },
  {
   "cell_type": "markdown",
   "id": "ccb0eae7",
   "metadata": {},
   "source": [
    "Compute the confidence intervals with an asymptotic coverage probability $1−α$ corresponding to each of the three estimation methods described in (d). Use the following values $α$ = 0.10, 0.05, 0.01.\n",
    "\n",
    "Hints:\n",
    "- Let $Q^∗ = Eg^*(Z_i)X'_i$. Note that in the case of the infeasible efficient IV estimator, you can estimate $Q^∗$ using $g^∗(Z_i)$.\n",
    "- In the case of the feasible efficient IV estimator (iii) use the result from Question 1 that the asymptotic distribution of the feasible efficient IV estimator is the same as that of the infeasible estimator. However, in this case use $\\hat{g}^∗_n(Z_i)$ instead of $g^∗(Z_i)$ when estimating $Q^∗$.\n",
    "- In Julia, the $τ$-th quantile of the standard normal distribution can be computed using quantile(Normal(0,1),$τ$), which is available from the package Distributions."
   ]
  },
  {
   "cell_type": "code",
   "execution_count": 12,
   "id": "6eb09927",
   "metadata": {},
   "outputs": [],
   "source": [
    "n=100\n",
    "α=0.1\n",
    "upper_iv_1 = β_iv_100 .- se_iv_100*quantile.(Normal(), α./2)/sqrt(n)\n",
    "lower_iv_1 = β_iv_100 .+ se_iv_100*quantile.(Normal(), α./2)/sqrt(n)\n",
    "upper_inf_1 = β_inf_100 .- se_inf_100*quantile.(Normal(), α./2)/sqrt(n)\n",
    "lower_inf_1 = β_inf_100 .+ se_inf_100*quantile.(Normal(), α./2)/sqrt(n)\n",
    "upper_feas_1 = β_feas_100 .- se_feas_100*quantile.(Normal(), α./2)/sqrt(n)\n",
    "lower_feas_1 = β_feas_100 .+ se_feas_100*quantile.(Normal(), α./2)/sqrt(n)\n",
    "\n",
    "α=0.05\n",
    "upper_iv_2 = β_iv_100 .- se_iv_100*quantile.(Normal(), α./2)/sqrt(n)\n",
    "lower_iv_2 = β_iv_100 .+ se_iv_100*quantile.(Normal(), α./2)/sqrt(n)\n",
    "upper_inf_2 = β_inf_100 .- se_inf_100*quantile.(Normal(), α./2)/sqrt(n)\n",
    "lower_inf_2 = β_inf_100 .+ se_inf_100*quantile.(Normal(), α./2)/sqrt(n)\n",
    "upper_feas_2 = β_feas_100 .- se_feas_100*quantile.(Normal(), α./2)/sqrt(n)\n",
    "lower_feas_2 = β_feas_100 .+ se_feas_100*quantile.(Normal(), α./2)/sqrt(n)\n",
    "\n",
    "α=0.01\n",
    "upper_iv_3 = β_iv_100 .- se_iv_100*quantile.(Normal(), α./2)/sqrt(n)\n",
    "lower_iv_3 = β_iv_100 .+ se_iv_100*quantile.(Normal(), α./2)/sqrt(n)\n",
    "upper_inf_3 = β_inf_100 .- se_inf_100*quantile.(Normal(), α./2)/sqrt(n)\n",
    "lower_inf_3 = β_inf_100 .+ se_inf_100*quantile.(Normal(), α./2)/sqrt(n)\n",
    "upper_feas_3 = β_feas_100 .- se_feas_100*quantile.(Normal(), α./2)/sqrt(n)\n",
    "lower_feas_3 = β_feas_100 .+ se_feas_100*quantile.(Normal(), α./2)/sqrt(n);\n"
   ]
  },
  {
   "cell_type": "markdown",
   "id": "2cd0e1b9",
   "metadata": {},
   "source": [
    "## Question F"
   ]
  },
  {
   "cell_type": "markdown",
   "id": "9a5f38de",
   "metadata": {},
   "source": [
    "For each of the nine confidence intervals that you computed in (e), check whether the true value of β is included. Also compute the length of each interval, and check whether zero is included."
   ]
  },
  {
   "cell_type": "code",
   "execution_count": 13,
   "id": "d12802be",
   "metadata": {},
   "outputs": [],
   "source": [
    "function metrics(lower,upper)\n",
    "    length=upper-lower\n",
    "    sign=1*(lower.>0)\n",
    "    coverage=1*(upper.>0.15).*(lower.<0.15)\n",
    "    return length\n",
    "end\n",
    "\n",
    "length_iv_1 = metrics(lower_iv_1, upper_iv_1)\n",
    "length_iv_2 = metrics(lower_iv_2, upper_iv_2)\n",
    "length_iv_3 = metrics(lower_iv_3, upper_iv_3)\n",
    "length_inf_1 = metrics(lower_inf_1, upper_inf_1)\n",
    "length_inf_2 = metrics(lower_inf_2, upper_inf_2)\n",
    "length_inf_3 = metrics(lower_inf_3, upper_inf_3)\n",
    "length_feas_1 = metrics(lower_feas_1, upper_feas_1)\n",
    "length_feas_2 = metrics(lower_feas_2, upper_feas_2)\n",
    "length_feas_3 = metrics(lower_feas_3, upper_feas_3);\n"
   ]
  },
  {
   "cell_type": "code",
   "execution_count": 14,
   "id": "b99f4af7",
   "metadata": {},
   "outputs": [
    {
     "name": "stdout",
     "output_type": "stream",
     "text": [
      "┌──────┬────────┬─────────────┬──────────┬──────────┬──────────────────┐\n",
      "│\u001b[1m    α \u001b[0m│\u001b[1m Method \u001b[0m│\u001b[1m       Lower \u001b[0m│\u001b[1m    Upper \u001b[0m│\u001b[1m    Range \u001b[0m│\u001b[1m True β included  \u001b[0m│\n",
      "├──────┼────────┼─────────────┼──────────┼──────────┼──────────────────┤\n",
      "│  0.1 │     IV │   0.0299175 │ 0.295555 │ 0.265638 │              Yes │\n",
      "│  0.1 │    Inf │   0.0572903 │  0.26522 │  0.20793 │              Yes │\n",
      "│  0.1 │   Feas │   0.0571036 │ 0.264602 │ 0.207498 │              Yes │\n",
      "│ 0.05 │     IV │  0.00447287 │    0.321 │ 0.316527 │              Yes │\n",
      "│ 0.05 │    Inf │   0.0373733 │ 0.285137 │ 0.247764 │              Yes │\n",
      "│ 0.05 │   Feas │   0.0372281 │ 0.284477 │ 0.247249 │              Yes │\n",
      "│ 0.01 │     IV │  -0.0452572 │  0.37073 │ 0.415987 │              Yes │\n",
      "│ 0.01 │    Inf │ -0.00155318 │ 0.324064 │ 0.325617 │              Yes │\n",
      "│ 0.01 │   Feas │ -0.00161758 │ 0.323323 │  0.32494 │              Yes │\n",
      "└──────┴────────┴─────────────┴──────────┴──────────┴──────────────────┘\n"
     ]
    }
   ],
   "source": [
    "header=[\"α\", \"Method\", \"Lower\", \"Upper\", \"Range\", \"True β included \"]\n",
    "\n",
    "pretty_table([\"0.1\" \"IV\" lower_iv_1 upper_iv_1 length_iv_1 \"Yes\" ;\n",
    "              \"0.1\" \"Inf\" lower_inf_1 upper_inf_1 length_inf_1 \"Yes\"  ;\n",
    "              \"0.1\" \"Feas\" lower_feas_1 upper_feas_1 length_feas_1 \"Yes\"  ;\n",
    "              \"0.05\" \"IV\" lower_iv_2 upper_iv_2 length_iv_2 \"Yes\" ;\n",
    "              \"0.05\" \"Inf\" lower_inf_2 upper_inf_2 length_inf_2 \"Yes\" ;\n",
    "              \"0.05\" \"Feas\" lower_feas_2 upper_feas_2 length_feas_2 \"Yes\"  ;\n",
    "              \"0.01\" \"IV\" lower_iv_3 upper_iv_3 length_iv_3 \"Yes\"  ;\n",
    "              \"0.01\" \"Inf\" lower_inf_3 upper_inf_3 length_inf_3 \"Yes\" ;\n",
    "              \"0.01\" \"Feas\" lower_feas_3 upper_feas_3 length_feas_3 \"Yes\" ;\n",
    "              ];header)"
   ]
  },
  {
   "cell_type": "markdown",
   "id": "7a071237",
   "metadata": {},
   "source": [
    "## Question G"
   ]
  },
  {
   "cell_type": "markdown",
   "id": "54ffd2f0",
   "metadata": {},
   "source": [
    "Repeat (a)-(f) 10,000 times. For each confidence interval report the following:\n",
    "\n",
    "- The simulated coverage probability, i.e. the probability that the true β is included in a confidence interval;\n",
    "- the average length of the confidence intervals across the simulations;\n",
    "- the simulated probability of obtaining statistically significant results, i.e. the probability that a confidence interval excludes zero. \n",
    "\n",
    "Organize your results in tables with different nominal coverage probabilities\n",
    "(1 −α) across the rows and different estimation methods across the columns."
   ]
  },
  {
   "cell_type": "code",
   "execution_count": 15,
   "id": "9328b8d8",
   "metadata": {},
   "outputs": [],
   "source": [
    "n = 100\n",
    "R = 10000\n",
    "Random.seed!(537193);\n",
    "\n",
    "sign_iv = zeros(1,3)\n",
    "length_iv = zeros(1,3)\n",
    "cov_iv = zeros(1,3)\n",
    "sign_feas = zeros(1,3)\n",
    "length_feas = zeros(1,3)\n",
    "cov_feas = zeros(1,3)\n",
    "sign_inf = zeros(1,3)\n",
    "length_inf = zeros(1,3)\n",
    "cov_inf = zeros(1,3)\n",
    "\n",
    "α = [0.1 0.05 0.01]\n",
    "\n",
    "#FS: this setting is useful for MC analysis\n",
    "for r=1:R\n",
    "    Z = data(n)\n",
    "    U, V=errors(n,Z)\n",
    "    Y, X=model(n,Z,U,V)\n",
    "    \n",
    "    β_iv, se_iv, β_inf, se_inf, β_feas, se_feas = estimators(Z,Y,X)\n",
    "     \n",
    "    upper_iv = β_iv .- se_iv*quantile.(Normal(), α./2)/sqrt(n)\n",
    "    lower_iv = β_iv .+ se_iv*quantile.(Normal(), α./2)/sqrt(n)\n",
    "    upper_inf = β_inf .- se_inf*quantile.(Normal(), α./2)/sqrt(n)\n",
    "    lower_inf = β_inf .+ se_inf*quantile.(Normal(), α./2)/sqrt(n)\n",
    "    upper_feas = β_feas .- se_feas*quantile.(Normal(), α./2)/sqrt(n)\n",
    "    lower_feas = β_feas .+ se_feas*quantile.(Normal(), α./2)/sqrt(n)\n",
    "\n",
    "    sign_iv .+=  1*(lower_iv.>0)\n",
    "    sign_inf .+=  1*(lower_inf.>0)\n",
    "    sign_feas .+=  1*(lower_feas.>0)\n",
    "    cov_iv .+= 1*(upper_iv.>β).*(lower_iv.<β)\n",
    "    cov_inf .+= 1*(upper_inf.>β).*(lower_inf.<β)\n",
    "    cov_feas .+= 1*(upper_feas.>β).*(lower_feas.<β)\n",
    "    length_iv .+= 1*(upper_iv .- lower_iv)\n",
    "    length_inf .+= 1*(upper_inf .- lower_inf)\n",
    "    length_feas .+= 1*(upper_feas .- lower_feas)\n",
    "    \n",
    "end\n",
    "\n",
    "sign_iv = sign_iv./R\n",
    "sign_inf = sign_inf./R\n",
    "sign_feas = sign_feas./R\n",
    "cov_iv = cov_iv./R\n",
    "cov_inf = cov_inf./R\n",
    "cov_feas = cov_feas./R\n",
    "length_iv = length_iv./R\n",
    "length_inf = length_inf./R\n",
    "length_feas = length_feas./R;"
   ]
  },
  {
   "cell_type": "markdown",
   "id": "9391cb51",
   "metadata": {},
   "source": [
    "## Question G"
   ]
  },
  {
   "cell_type": "markdown",
   "id": "175bb608",
   "metadata": {},
   "source": [
    "Comment on whether the simulated coverage probabilities for each of the three methods are close to the nominal levels of 1 −α. Does the result of Question 1 seem to hold in finite samples?\n",
    "\n",
    "#### Coverage table when n=100"
   ]
  },
  {
   "cell_type": "code",
   "execution_count": 16,
   "id": "f461667c",
   "metadata": {},
   "outputs": [
    {
     "name": "stdout",
     "output_type": "stream",
     "text": [
      "┌──────┬────────┬────────┬────────┐\n",
      "│\u001b[1m  1-α \u001b[0m│\u001b[1m     IV \u001b[0m│\u001b[1m    Inf \u001b[0m│\u001b[1m   Feas \u001b[0m│\n",
      "├──────┼────────┼────────┼────────┤\n",
      "│  0.9 │ 0.8926 │ 0.8971 │  0.871 │\n",
      "│ 0.95 │ 0.9421 │ 0.9462 │  0.925 │\n",
      "│ 0.99 │ 0.9861 │ 0.9854 │ 0.9766 │\n",
      "└──────┴────────┴────────┴────────┘\n"
     ]
    }
   ],
   "source": [
    "header=[\"1-α\", \"IV\", \"Inf\", \"Feas\"]\n",
    "\n",
    "pretty_table([0.9 cov_iv[1] cov_inf[1] cov_feas[1]\n",
    "              0.95 cov_iv[2] cov_inf[2] cov_feas[2]\n",
    "              0.99 cov_iv[3] cov_inf[3] cov_feas[3]];header)\n"
   ]
  },
  {
   "cell_type": "markdown",
   "id": "cd808a6a",
   "metadata": {},
   "source": [
    "The Coverage probabilities are close to the levels of $1-\\alpha$, but are not the same. The feasible model has the more difference between the coverage prob and the nominal levels. In this case, with finite samples we can have that the result of Question 1 doesn't hold (which considers asymptothic theory, so very large n). Therefore, we have to care about the size of the sample."
   ]
  },
  {
   "cell_type": "markdown",
   "id": "1c7aa669",
   "metadata": {},
   "source": [
    "## Question H"
   ]
  },
  {
   "cell_type": "markdown",
   "id": "155677d3",
   "metadata": {},
   "source": [
    "Which of the three methods is more powerful, i.e. produces smaller confidence\n",
    "intervals and statistically significant results with a higher probability? Are there\n",
    "substantial differences between the infeasible and feasible efficient IV methods in\n",
    "terms of the length and coverage probability? Explain the observed discrepancies"
   ]
  },
  {
   "cell_type": "markdown",
   "id": "97114439",
   "metadata": {},
   "source": [
    "#### Significant results table when n=100"
   ]
  },
  {
   "cell_type": "code",
   "execution_count": 17,
   "id": "6d4cccd5",
   "metadata": {},
   "outputs": [
    {
     "name": "stdout",
     "output_type": "stream",
     "text": [
      "┌──────┬────────┬────────┬────────┐\n",
      "│\u001b[1m  1-α \u001b[0m│\u001b[1m     IV \u001b[0m│\u001b[1m    Inf \u001b[0m│\u001b[1m   Feas \u001b[0m│\n",
      "├──────┼────────┼────────┼────────┤\n",
      "│  0.9 │ 0.5586 │ 0.7143 │ 0.7661 │\n",
      "│ 0.95 │ 0.4534 │ 0.6239 │ 0.6848 │\n",
      "│ 0.99 │ 0.2647 │ 0.4442 │ 0.5059 │\n",
      "└──────┴────────┴────────┴────────┘\n"
     ]
    }
   ],
   "source": [
    "header=[\"1-α\", \"IV\", \"Inf\", \"Feas\"]\n",
    "\n",
    "pretty_table([0.9 sign_iv[1] sign_inf[1] sign_feas[1]\n",
    "              0.95 sign_iv[2] sign_inf[2] sign_feas[2]\n",
    "              0.99 sign_iv[3] sign_inf[3] sign_feas[3]];header)\n"
   ]
  },
  {
   "cell_type": "markdown",
   "id": "96d7cf90",
   "metadata": {},
   "source": [
    "The Feasibility model is the one that is more powerful, since it has a higher probability to produce significant results for any level of $\\alpha$.\n",
    "\n",
    "Also we can notice that both methods, the infeasible and feasible efficent IV give similar resultad compared to IV. We also can notice that from the coverage table (previous question) and the length table."
   ]
  },
  {
   "cell_type": "markdown",
   "id": "417a6d9c",
   "metadata": {},
   "source": [
    "#### Length table when n=100"
   ]
  },
  {
   "cell_type": "code",
   "execution_count": 18,
   "id": "b09ef906",
   "metadata": {},
   "outputs": [
    {
     "name": "stdout",
     "output_type": "stream",
     "text": [
      "┌──────┬──────────┬──────────┬──────────┐\n",
      "│\u001b[1m  1-α \u001b[0m│\u001b[1m       IV \u001b[0m│\u001b[1m      Inf \u001b[0m│\u001b[1m     Feas \u001b[0m│\n",
      "├──────┼──────────┼──────────┼──────────┤\n",
      "│  0.9 │ 0.277262 │ 0.212897 │ 0.204586 │\n",
      "│ 0.95 │ 0.330378 │ 0.253683 │ 0.243779 │\n",
      "│ 0.99 │  0.43419 │ 0.333396 │  0.32038 │\n",
      "└──────┴──────────┴──────────┴──────────┘\n"
     ]
    }
   ],
   "source": [
    "header=[\"1-α\", \"IV\", \"Inf\", \"Feas\"]\n",
    "\n",
    "pretty_table([0.9 length_iv[1] length_inf[1] length_feas[1]\n",
    "              0.95 length_iv[2] length_inf[2] length_feas[2]\n",
    "              0.99 length_iv[3] length_inf[3] length_feas[3]];header)"
   ]
  },
  {
   "cell_type": "markdown",
   "id": "962e1b39",
   "metadata": {},
   "source": [
    "## Question I"
   ]
  },
  {
   "cell_type": "markdown",
   "id": "6c476798",
   "metadata": {},
   "source": [
    "Repeat the Monte Carlo experiment (as described in parts (a)-(g)) using the sample size n = 400. Organize your results again in a table as in part (g). Compare with the results for n = 100 and comment on the differences."
   ]
  },
  {
   "cell_type": "code",
   "execution_count": 19,
   "id": "2af46b15",
   "metadata": {},
   "outputs": [],
   "source": [
    "n = 400\n",
    "R = 10000\n",
    "Random.seed!(537193);\n",
    "\n",
    "sign_iv = zeros(1,3)\n",
    "length_iv = zeros(1,3)\n",
    "cov_iv = zeros(1,3)\n",
    "sign_feas = zeros(1,3)\n",
    "length_feas = zeros(1,3)\n",
    "cov_feas = zeros(1,3)\n",
    "sign_inf = zeros(1,3)\n",
    "length_inf = zeros(1,3)\n",
    "cov_inf = zeros(1,3)\n",
    "\n",
    "α = [0.1 0.05 0.01]\n",
    "\n",
    "#FS: this setting is useful for MC analysis\n",
    "for r=1:R\n",
    "    Z = data(n)\n",
    "    U, V=errors(n,Z)\n",
    "    Y, X=model(n,Z,U,V)\n",
    "    \n",
    "    β_iv, se_iv, β_inf, se_inf, β_feas, se_feas = estimators(Z,Y,X)\n",
    "     \n",
    "    upper_iv = β_iv .- se_iv*quantile.(Normal(), α./2)/sqrt(n)\n",
    "    lower_iv = β_iv .+ se_iv*quantile.(Normal(), α./2)/sqrt(n)\n",
    "    upper_inf = β_inf .- se_inf*quantile.(Normal(), α./2)/sqrt(n)\n",
    "    lower_inf = β_inf .+ se_inf*quantile.(Normal(), α./2)/sqrt(n)\n",
    "    upper_feas = β_feas .- se_feas*quantile.(Normal(), α./2)/sqrt(n)\n",
    "    lower_feas = β_feas .+ se_feas*quantile.(Normal(), α./2)/sqrt(n)\n",
    "\n",
    "    sign_iv .+=  1*(lower_iv.>0)\n",
    "    sign_inf .+=  1*(lower_inf.>0)\n",
    "    sign_feas .+=  1*(lower_feas.>0)\n",
    "    cov_iv .+= 1*(upper_iv.>β).*(lower_iv.<β)\n",
    "    cov_inf .+= 1*(upper_inf.>β).*(lower_inf.<β)\n",
    "    cov_feas .+= 1*(upper_feas.>β).*(lower_feas.<β)\n",
    "    length_iv .+= 1*(upper_iv .- lower_iv)\n",
    "    length_inf .+= 1*(upper_inf .- lower_inf)\n",
    "    length_feas .+= 1*(upper_feas .- lower_feas)\n",
    "    \n",
    "end\n",
    "\n",
    "sign_iv = sign_iv./R\n",
    "sign_inf = sign_inf./R\n",
    "sign_feas = sign_feas./R\n",
    "cov_iv = cov_iv./R\n",
    "cov_inf = cov_inf./R\n",
    "cov_feas = cov_feas./R\n",
    "length_iv = length_iv./R\n",
    "length_inf = length_inf./R\n",
    "length_feas = length_feas./R;"
   ]
  },
  {
   "cell_type": "markdown",
   "id": "240e0fe7",
   "metadata": {},
   "source": [
    "#### Coverage when n=400"
   ]
  },
  {
   "cell_type": "code",
   "execution_count": 20,
   "id": "e351b3f4",
   "metadata": {},
   "outputs": [
    {
     "name": "stdout",
     "output_type": "stream",
     "text": [
      "┌──────┬────────┬────────┬────────┐\n",
      "│\u001b[1m  1-α \u001b[0m│\u001b[1m     IV \u001b[0m│\u001b[1m    Inf \u001b[0m│\u001b[1m   Feas \u001b[0m│\n",
      "├──────┼────────┼────────┼────────┤\n",
      "│  0.9 │ 0.8965 │ 0.8995 │ 0.8897 │\n",
      "│ 0.95 │  0.944 │ 0.9492 │ 0.9451 │\n",
      "│ 0.99 │ 0.9892 │ 0.9888 │ 0.9867 │\n",
      "└──────┴────────┴────────┴────────┘\n"
     ]
    }
   ],
   "source": [
    "header=[\"1-α\", \"IV\", \"Inf\", \"Feas\"]\n",
    "\n",
    "pretty_table([0.9 cov_iv[1] cov_inf[1] cov_feas[1]\n",
    "              0.95 cov_iv[2] cov_inf[2] cov_feas[2]\n",
    "              0.99 cov_iv[3] cov_inf[3] cov_feas[3]];header)"
   ]
  },
  {
   "cell_type": "markdown",
   "id": "0aa38ec1",
   "metadata": {},
   "source": [
    "#### Significance when n=400"
   ]
  },
  {
   "cell_type": "code",
   "execution_count": 21,
   "id": "4c885bd9",
   "metadata": {},
   "outputs": [
    {
     "name": "stdout",
     "output_type": "stream",
     "text": [
      "┌──────┬────────┬────────┬────────┐\n",
      "│\u001b[1m  1-α \u001b[0m│\u001b[1m     IV \u001b[0m│\u001b[1m    Inf \u001b[0m│\u001b[1m   Feas \u001b[0m│\n",
      "├──────┼────────┼────────┼────────┤\n",
      "│  0.9 │ 0.9565 │ 0.9952 │ 0.9974 │\n",
      "│ 0.95 │ 0.9217 │ 0.9891 │ 0.9923 │\n",
      "│ 0.99 │ 0.8103 │ 0.9581 │ 0.9656 │\n",
      "└──────┴────────┴────────┴────────┘\n"
     ]
    }
   ],
   "source": [
    "header=[\"1-α\", \"IV\", \"Inf\", \"Feas\"]\n",
    "\n",
    "pretty_table([0.9 sign_iv[1] sign_inf[1] sign_feas[1]\n",
    "              0.95 sign_iv[2] sign_inf[2] sign_feas[2]\n",
    "              0.99 sign_iv[3] sign_inf[3] sign_feas[3]];header)"
   ]
  },
  {
   "cell_type": "markdown",
   "id": "22d8e562",
   "metadata": {},
   "source": [
    "#### Lenth when n=400"
   ]
  },
  {
   "cell_type": "code",
   "execution_count": 22,
   "id": "7a49f162",
   "metadata": {},
   "outputs": [
    {
     "name": "stdout",
     "output_type": "stream",
     "text": [
      "┌──────┬──────────┬──────────┬──────────┐\n",
      "│\u001b[1m  1-α \u001b[0m│\u001b[1m       IV \u001b[0m│\u001b[1m      Inf \u001b[0m│\u001b[1m     Feas \u001b[0m│\n",
      "├──────┼──────────┼──────────┼──────────┤\n",
      "│  0.9 │ 0.139281 │  0.10636 │ 0.105336 │\n",
      "│ 0.95 │ 0.165964 │ 0.126736 │ 0.125515 │\n",
      "│ 0.99 │ 0.218113 │ 0.166559 │ 0.164955 │\n",
      "└──────┴──────────┴──────────┴──────────┘\n"
     ]
    }
   ],
   "source": [
    "header=[\"1-α\", \"IV\", \"Inf\", \"Feas\"]\n",
    "\n",
    "pretty_table([0.9 length_iv[1] length_inf[1] length_feas[1]\n",
    "              0.95 length_iv[2] length_inf[2] length_feas[2]\n",
    "              0.99 length_iv[3] length_inf[3] length_feas[3]];header)"
   ]
  },
  {
   "cell_type": "markdown",
   "id": "3c703f43",
   "metadata": {},
   "source": [
    "As we can see, now the coverage probability is much closer to the $1-\\alpha$ levels for the three methods. \n",
    "\n",
    "Additionally, the power of the methods increase significantly, and the gap between the inefficient IV and the efficient IVs (Feas and Inf) is smaller than before. However, the efficient methods are still better than standard IV. \n",
    "\n",
    "This result also can be seen in the length of the intervals, which now are more similar between the three methods, but are still smaller for the efficient methods, which now are almost equal (Inf and Feas methods)"
   ]
  },
  {
   "cell_type": "code",
   "execution_count": null,
   "id": "a80a39a9",
   "metadata": {},
   "outputs": [],
   "source": []
  }
 ],
 "metadata": {
  "kernelspec": {
   "display_name": "Julia 1.8.0",
   "language": "julia",
   "name": "julia-1.8"
  },
  "language_info": {
   "file_extension": ".jl",
   "mimetype": "application/julia",
   "name": "julia",
   "version": "1.8.0"
  }
 },
 "nbformat": 4,
 "nbformat_minor": 5
}
