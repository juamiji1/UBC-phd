{
 "cells": [
  {
   "cell_type": "markdown",
   "id": "c7b0c4fc",
   "metadata": {},
   "source": [
    "# Problem Set 9\n",
    "## Author: Bruno Esposito"
   ]
  },
  {
   "cell_type": "code",
   "execution_count": 196,
   "id": "b33ac466",
   "metadata": {},
   "outputs": [],
   "source": [
    "using Distributions, Random, Parameters, Optim, QuadGK, PrettyTables\n",
    "Random.seed!(1234);"
   ]
  },
  {
   "cell_type": "code",
   "execution_count": 197,
   "id": "8406fd06",
   "metadata": {},
   "outputs": [
    {
     "data": {
      "text/plain": [
       "8"
      ]
     },
     "execution_count": 197,
     "metadata": {},
     "output_type": "execute_result"
    }
   ],
   "source": [
    "# Check number of threads used\n",
    "Threads.nthreads()"
   ]
  },
  {
   "cell_type": "markdown",
   "id": "9c0df5a0",
   "metadata": {},
   "source": [
    "## Question 2.a"
   ]
  },
  {
   "cell_type": "code",
   "execution_count": 198,
   "id": "dbdb1fb2",
   "metadata": {},
   "outputs": [
    {
     "data": {
      "text/plain": [
       "dgp (generic function with 1 method)"
      ]
     },
     "execution_count": 198,
     "metadata": {},
     "output_type": "execute_result"
    }
   ],
   "source": [
    "function dgp(dgp_params)\n",
    "    \n",
    "    # Generate Y,X,D based on the DGP proposed on the excercise\n",
    "    @unpack n, tao0, alpha0, beta0, gamma0, delta0, miu0 = dgp_params\n",
    "    \n",
    "    # Generate random errors for v0, v1\n",
    "    v0 = rand(Normal(), n)\n",
    "    v1 = rand(Normal(), n)\n",
    "    \n",
    "    # Generate X    \n",
    "    X1 = ones(n)\n",
    "    X2 = rand(Normal(miu0), n)\n",
    "    X = hcat(X1,X2)\n",
    "\n",
    "    # D follows a. probit model\n",
    "    epsilon = rand(Normal(), n)\n",
    "    D = (X*tao0 .> epsilon)*1\n",
    "    \n",
    "    # Potential outcomes framework\n",
    "    Y0 = alpha0 .+ beta0*cdf(Normal(), X*tao0) + v0\n",
    "    Y1 = gamma0 .+ delta0*cdf(Normal(), X*tao0) + v1\n",
    "    Y = D.*Y1 + (1 .- D).*Y0\n",
    "    \n",
    "    return (Y, X, D)\n",
    "end"
   ]
  },
  {
   "cell_type": "code",
   "execution_count": 199,
   "id": "65801eb8",
   "metadata": {},
   "outputs": [],
   "source": [
    "dgp_params = @with_kw (n = 150, tao0 = [-0.5, 2], alpha0 = 1, beta0 = 1, gamma0 = 1, delta0 = 1, miu0 = 1)\n",
    "Y, X, D = dgp(dgp_params());"
   ]
  },
  {
   "cell_type": "markdown",
   "id": "3f79ef94",
   "metadata": {},
   "source": [
    "## Question 2.b"
   ]
  },
  {
   "cell_type": "code",
   "execution_count": 200,
   "id": "26cab57a",
   "metadata": {},
   "outputs": [
    {
     "data": {
      "text/plain": [
       "mle_probit (generic function with 1 method)"
      ]
     },
     "execution_count": 200,
     "metadata": {},
     "output_type": "execute_result"
    }
   ],
   "source": [
    "function mle_probit(tao, D, X)\n",
    "    \n",
    "    # Generate MLE loss function for a probit model\n",
    "    \n",
    "    # Compute cdf of normal\n",
    "    phi_tao = cdf(Normal(), X*tao)\n",
    "    \n",
    "    # Compute MLE loss function\n",
    "    output = - (1/2)*mean(D .* log.(phi_tao) + (1 .- D) .* log.(1 .- phi_tao))\n",
    "    \n",
    "    return output\n",
    "end"
   ]
  },
  {
   "cell_type": "code",
   "execution_count": 201,
   "id": "6138e611",
   "metadata": {},
   "outputs": [
    {
     "data": {
      "text/plain": [
       "get_std_errors (generic function with 2 methods)"
      ]
     },
     "execution_count": 201,
     "metadata": {},
     "output_type": "execute_result"
    }
   ],
   "source": [
    "function get_std_errors(theta, tao_mle, Y, X, Z, D)\n",
    "\n",
    "    # Get corrected (by first step estimation) and uncorrected stadnard errors\n",
    "    \n",
    "    # Get sample size\n",
    "    n = size(Y)[1]\n",
    "    \n",
    "    # Estimate phi from first stage\n",
    "    phi_tao = cdf.(Normal(), X*tao_mle)\n",
    "    dphi_tao = pdf.(Normal(), X*tao_mle)\n",
    "    \n",
    "    # Estimate errors\n",
    "    Ue = Y - Z*theta\n",
    "    \n",
    "    # Estimate Jn, Mn, Lambdan, Sn and Cn matrices\n",
    "    Jn = (1/n)*Z'*Z\n",
    "    Mn = (1/n)*(Z.*Ue)'*(Z.*Ue)\n",
    "    Lambdan = (1/n)*Z'*(theta[2].*dphi_tao.*X + theta[4].*(dphi_tao.*X .- mean(dphi_tao.*X, dims = 1)))\n",
    "    Sn = (D.*(dphi_tao ./ phi_tao) - (1 .- D) .* (dphi_tao ./ (1 .- phi_tao))).*X\n",
    "    Cn = (1/n)*Sn'Sn\n",
    "    \n",
    "    # Estimate theta variance and std error (without correction for first step estimation)\n",
    "    theta_var = inv(Jn) * Mn * inv(Jn)\n",
    "    theta_sterr = sqrt((1/n) .* theta_var)\n",
    "    \n",
    "    # Estimate theta variance and std error corrected for first step estimation\n",
    "    theta_var_correct = inv(Jn) * (Mn + Lambdan * inv(Cn) * Lambdan') * inv(Jn)\n",
    "    theta_sterr_correct = sqrt((1/n) .* theta_var_correct)\n",
    "    \n",
    "    return (theta_var, theta_sterr, theta_var_correct, theta_sterr_correct)\n",
    "end"
   ]
  },
  {
   "cell_type": "code",
   "execution_count": 202,
   "id": "40f2fd71",
   "metadata": {},
   "outputs": [
    {
     "data": {
      "text/plain": [
       "feasible_ate (generic function with 1 method)"
      ]
     },
     "execution_count": 202,
     "metadata": {},
     "output_type": "execute_result"
    }
   ],
   "source": [
    "function feasible_ate(Y, X, D)\n",
    "\n",
    "    # Estimate the feasible average treatment effect\n",
    "    \n",
    "    # Get sample size\n",
    "    n = size(Y)[1]\n",
    "    \n",
    "    # Estimate first step via MLE\n",
    "    tao_opt = optimize(tao -> mle_probit(tao, D, X), [0.5, 0.5])\n",
    "    if Optim.converged(tao_opt) == false\n",
    "        print(\"MLE did NOT converged\")\n",
    "    end\n",
    "    \n",
    "    tao_mle = Optim.minimizer(tao_opt)\n",
    "\n",
    "    # Use estimated tao for the second step\n",
    "    phi_tao = cdf.(Normal(), X*tao_mle)\n",
    "    Z = hcat(ones(n), phi_tao, D, (phi_tao .- mean(phi_tao)).*D)\n",
    "    \n",
    "    # Estimate theta\n",
    "    theta = inv(Z'*Z)*Z'*Y\n",
    "    \n",
    "    # Estimate std. errors\n",
    "    _, stderr_theta, _, stderr_theta_correct = get_std_errors(theta, tao_mle, Y, X, Z, D)\n",
    "    \n",
    "    return (theta, Z, stderr_theta, stderr_theta_correct)\n",
    "end"
   ]
  },
  {
   "cell_type": "code",
   "execution_count": 203,
   "id": "a20b0621",
   "metadata": {},
   "outputs": [
    {
     "name": "stdout",
     "output_type": "stream",
     "text": [
      "Estimated ATE: -0.33226126590937965\n",
      "ATE standard error -- corrected : 0.23269753675820293 -- not corrected: 0.2324478674163275"
     ]
    }
   ],
   "source": [
    "theta, Z, stderr_theta, stderr_theta_correct = feasible_ate(Y, X, D);\n",
    "print(\"Estimated ATE: \", theta[3], \"\\n\")\n",
    "print(\"ATE standard error -- corrected : \", stderr_theta_correct[3,3], \" -- not corrected: \", stderr_theta[3,3])"
   ]
  },
  {
   "cell_type": "markdown",
   "id": "89fb8f56",
   "metadata": {},
   "source": [
    "## Question 2.c"
   ]
  },
  {
   "cell_type": "code",
   "execution_count": 204,
   "id": "0aace251",
   "metadata": {},
   "outputs": [
    {
     "data": {
      "text/plain": [
       "bootstrap_ate (generic function with 1 method)"
      ]
     },
     "execution_count": 204,
     "metadata": {},
     "output_type": "execute_result"
    }
   ],
   "source": [
    "function bootstrap_ate(B, Y, D, X)\n",
    "    \n",
    "    # Run a boostrap to estimate std errors.\n",
    "    \n",
    "    # Get sample size\n",
    "    n = size(Y)[1]\n",
    "    \n",
    "    # Create storage vectors\n",
    "    theta_vec = zeros(B)\n",
    "    \n",
    "    # Estimate theta in the full sample\n",
    "    theta_full,_,_,_ = feasible_ate(Y, X, D)[3];\n",
    "    \n",
    "    for i in 1:B\n",
    "        # Select an n random sample with replacement (from our original sample)\n",
    "        idn = sample(1:n, n, replace = true)\n",
    "        Yn = Y[idn]\n",
    "        Xn = X[idn, :]\n",
    "        Dn = D[idn]\n",
    "\n",
    "        # Estimate theta and store it\n",
    "        theta,_,_,_ = feasible_ate(Yn, Xn, Dn);\n",
    "        theta_vec[i] = theta[3]\n",
    "    end\n",
    "    \n",
    "    # Estimate bootstrap estandard error\n",
    "    stderr_theta = sqrt(mean((theta_vec .- theta_full).^2))\n",
    "    \n",
    "    return (stderr_theta, theta_vec)\n",
    "end "
   ]
  },
  {
   "cell_type": "code",
   "execution_count": 205,
   "id": "e5f517d6",
   "metadata": {},
   "outputs": [
    {
     "data": {
      "text/plain": [
       "get_bootstrap_CI (generic function with 1 method)"
      ]
     },
     "execution_count": 205,
     "metadata": {},
     "output_type": "execute_result"
    }
   ],
   "source": [
    "function get_bootstrap_CI(theta_vec, B, alpha)\n",
    "    \n",
    "    # Generate boostrap CI\n",
    "    \n",
    "    # Compute position of upper and lower limits\n",
    "    id_lower = Int(floor((alpha/2)*(B+1)))\n",
    "    id_upper = Int(floor((1 - alpha/2)*(B+1)))\n",
    "    \n",
    "    # Sort theta_vec\n",
    "    theta_vec_sort = sort(theta_vec)\n",
    "    \n",
    "    # Compute CI\n",
    "    CI_lower = theta_vec_sort[id_lower]\n",
    "    CI_upper = theta_vec_sort[id_upper]\n",
    "    \n",
    "    return (CI_lower, CI_upper)\n",
    "end"
   ]
  },
  {
   "cell_type": "code",
   "execution_count": 206,
   "id": "b6d845fc",
   "metadata": {},
   "outputs": [],
   "source": [
    "B = 99\n",
    "bootstrap_stderr, bootstrap_theta = bootstrap_ate(B, Y, D, X);"
   ]
  },
  {
   "cell_type": "code",
   "execution_count": 207,
   "id": "b9de93ee",
   "metadata": {},
   "outputs": [
    {
     "name": "stdout",
     "output_type": "stream",
     "text": [
      "ATE bootstrap standard error: 0.7387641982659752"
     ]
    }
   ],
   "source": [
    "print(\"ATE bootstrap standard error: \", bootstrap_stderr)"
   ]
  },
  {
   "cell_type": "code",
   "execution_count": 208,
   "id": "00937243",
   "metadata": {},
   "outputs": [
    {
     "name": "stdout",
     "output_type": "stream",
     "text": [
      "ATE bootstrap CI : (-0.9626496691114504, 0.4374368904898944)"
     ]
    }
   ],
   "source": [
    "alpha = 0.05\n",
    "(ciu_bootstrap, cil_bootstrap) = get_bootstrap_CI(bootstrap_theta, B, alpha);\n",
    "print(\"ATE bootstrap CI : (\", ciu_bootstrap, \", \", cil_bootstrap, \")\")"
   ]
  },
  {
   "cell_type": "markdown",
   "id": "7f3f1e12",
   "metadata": {},
   "source": [
    "## Question 1.d"
   ]
  },
  {
   "cell_type": "code",
   "execution_count": 209,
   "id": "bc741d08",
   "metadata": {},
   "outputs": [
    {
     "data": {
      "text/plain": [
       "get_traditional_CI (generic function with 1 method)"
      ]
     },
     "execution_count": 209,
     "metadata": {},
     "output_type": "execute_result"
    }
   ],
   "source": [
    "function get_traditional_CI(theta, stderr_theta, alpha)\n",
    "    \n",
    "    # Generate traditional CI\n",
    "    \n",
    "    # Generate CI_lower, CI_upper\n",
    "    CI_lower = theta - quantile(Normal(), 1 - alpha/2) * stderr_theta\n",
    "    CI_upper = theta + quantile(Normal(), 1 - alpha/2) * stderr_theta\n",
    "    \n",
    "    return (CI_lower, CI_upper)\n",
    "end"
   ]
  },
  {
   "cell_type": "code",
   "execution_count": 210,
   "id": "f63adf22",
   "metadata": {},
   "outputs": [
    {
     "data": {
      "text/plain": [
       "main_sim (generic function with 1 method)"
      ]
     },
     "execution_count": 210,
     "metadata": {},
     "output_type": "execute_result"
    }
   ],
   "source": [
    "function main_sim(sim_params)\n",
    "\n",
    "    # MC simulation to explore the behaviour of the two-step estimator and its std. error.\n",
    "    @unpack R, B, gamma0, alpha0, delta0, beta0, tao0, miu0, alpha_conf = sim_params\n",
    "    \n",
    "    # Create storage objects\n",
    "    # 1st col: corrected two-step\n",
    "    # 2st col: incorrect two-step\n",
    "    # 3st col: traditional CI with bootstrap stderr\n",
    "    # 4st col: boostrap CI (based on the bootstrap distribution)\n",
    "    coverage = zeros(R, 4)\n",
    "\n",
    "    # Compute expected value of p(X)\n",
    "    exp_pX = quadgk(z -> cdf(Normal(), tao0[1] + z*tao0[2]) * pdf(Normal(miu0, 1), z) , -Inf, Inf, atol=1e-8)[1]\n",
    "    \n",
    "    # Compute population ATE\n",
    "    ATE0 = gamma0 - alpha0 + (delta0 - beta0) * exp_pX\n",
    "    \n",
    "    # Loop through the MC interations\n",
    "    for i in 1:R\n",
    "        \n",
    "        # Generate data\n",
    "        Y, X, D = dgp(sim_params);\n",
    "        \n",
    "        # Estimate theta\n",
    "        theta, _, stderr_theta_incorrect, stderr_theta_correct = feasible_ate(Y, X, D);\n",
    "        \n",
    "        # Run bootstrap\n",
    "        stderr_theta_bootstrap, bootstrap_theta = bootstrap_ate(B, Y, D, X);\n",
    "        \n",
    "        # Generate CIs\n",
    "        CI_lower1, CI_upper1 = get_traditional_CI(theta[3], stderr_theta_correct[3,3], alpha_conf)\n",
    "        CI_lower2, CI_upper2 = get_traditional_CI(theta[3], stderr_theta_incorrect[3,3], alpha_conf)\n",
    "        CI_lower3, CI_upper3 = get_traditional_CI(theta[3], stderr_theta_bootstrap, alpha_conf)\n",
    "        CI_lower4, CI_upper4 = get_bootstrap_CI(bootstrap_theta, B, alpha_conf);\n",
    "        \n",
    "        # Store coverage\n",
    "        coverage[i, 1] = CI_lower1 < ATE0 < CI_upper1\n",
    "        coverage[i, 2] = CI_lower2 < ATE0 < CI_upper2\n",
    "        coverage[i, 3] = CI_lower3 < ATE0 < CI_upper3\n",
    "        coverage[i, 4] = CI_lower4 < ATE0 < CI_upper4\n",
    "        \n",
    "        #print(\"(\", CI_lower1, \",\", CI_upper1, \") \\n\")\n",
    "        #print(\"(\", CI_lower2, \",\", CI_upper2, \") \\n\")\n",
    "        #print(\"(\", CI_lower3, \",\", CI_upper3, \") \\n\")\n",
    "        #print(\"(\", CI_lower4, \",\", CI_upper4, \") \\n\")\n",
    "        \n",
    "        #print(\"\\n\")\n",
    "    end\n",
    "    \n",
    "    mean_coverage = mean(coverage, dims = 1)\n",
    "    \n",
    "    return mean_coverage, coverage\n",
    "end"
   ]
  },
  {
   "cell_type": "code",
   "execution_count": 216,
   "id": "8378392a",
   "metadata": {},
   "outputs": [],
   "source": [
    "sim_params = @with_kw (n = 100, \n",
    "                       tao0 = [-0.5, 2], \n",
    "                       alpha0 = 1, \n",
    "                       beta0 = 1,\n",
    "                       gamma0 = 1, \n",
    "                       delta0 = 1,\n",
    "                       miu0 = 1,\n",
    "                       B = 999,\n",
    "                       R = 1000,\n",
    "                       alpha_conf = 0.1)\n",
    "coverage, _ = main_sim(sim_params());"
   ]
  },
  {
   "cell_type": "code",
   "execution_count": 217,
   "id": "e3771ff3",
   "metadata": {},
   "outputs": [
    {
     "name": "stdout",
     "output_type": "stream",
     "text": [
      "┌────────────────────────┬──────────┐\n",
      "│\u001b[1m              Estimator \u001b[0m│\u001b[1m Coverage \u001b[0m│\n",
      "├────────────────────────┼──────────┤\n",
      "│     Two-step corrected │    0.758 │\n",
      "│ Two-step not corrected │    0.754 │\n",
      "│  Bootstrap - Normal CI │      1.0 │\n",
      "│           Bootstrap CI │    0.898 │\n",
      "└────────────────────────┴──────────┘\n"
     ]
    }
   ],
   "source": [
    "header = [\"Estimator\", \"Coverage\"]\n",
    "names_table = [\"Two-step corrected\", \"Two-step not corrected\", \"Bootstrap - Normal CI\", \"Bootstrap CI\"]\n",
    "main_table = hcat(names_table, coverage')\n",
    "pretty_table(main_table; header)"
   ]
  },
  {
   "cell_type": "markdown",
   "id": "cdfb4afb",
   "metadata": {},
   "source": [
    "## Question 1.e"
   ]
  },
  {
   "cell_type": "markdown",
   "id": "d705a269",
   "metadata": {},
   "source": [
    "AAAA"
   ]
  },
  {
   "cell_type": "code",
   "execution_count": null,
   "id": "96b26dd7",
   "metadata": {},
   "outputs": [],
   "source": []
  }
 ],
 "metadata": {
  "kernelspec": {
   "display_name": "Julia 1.8.5",
   "language": "julia",
   "name": "julia-1.8"
  },
  "language_info": {
   "file_extension": ".jl",
   "mimetype": "application/julia",
   "name": "julia",
   "version": "1.8.5"
  }
 },
 "nbformat": 4,
 "nbformat_minor": 5
}
