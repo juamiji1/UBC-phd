{
 "cells": [
  {
   "cell_type": "markdown",
   "id": "1f0ee0dc",
   "metadata": {},
   "source": [
    "# Problem Set 4 - Metrics II\n",
    "\n",
    "### Felipe Sepulveda A"
   ]
  },
  {
   "cell_type": "code",
   "execution_count": 1,
   "id": "a3094561",
   "metadata": {},
   "outputs": [],
   "source": [
    "using Distributions, PrettyTables, Random, Plots, LaTeXStrings, Roots"
   ]
  },
  {
   "cell_type": "markdown",
   "id": "e3b170a9",
   "metadata": {},
   "source": [
    "# Question 1"
   ]
  },
  {
   "cell_type": "markdown",
   "id": "638d7d53",
   "metadata": {},
   "source": [
    "## Part A"
   ]
  },
  {
   "cell_type": "code",
   "execution_count": 2,
   "id": "e3adfa2b",
   "metadata": {},
   "outputs": [
    {
     "data": {
      "text/plain": [
       "data (generic function with 1 method)"
      ]
     },
     "execution_count": 2,
     "metadata": {},
     "output_type": "execute_result"
    }
   ],
   "source": [
    "λ=0.5;\n",
    "β1=1;\n",
    "π1=1;\n",
    "\n",
    "function data(n,k2)\n",
    "   \n",
    "    #Normal st is randn\n",
    "    ϵ=randn(n,1)\n",
    "    V=randn(n,1)\n",
    "    U=λ*ϵ+V\n",
    "    \n",
    "    #Simulate IVs and exogenous controls as a normal st as well\n",
    "    Z1=randn(n,1)\n",
    "    X2=randn(n,k2)\n",
    "    \n",
    "    β2=ones(k2,1);\n",
    "    π2=β2;\n",
    "    \n",
    "    \n",
    "    X1=Z1*π1+X2*π2+V #(n,1)\n",
    "    Y=X1*β1+X2*β2+U #(n,1)\n",
    "\n",
    "    return Y, X1, X2, Z1\n",
    "    \n",
    "end"
   ]
  },
  {
   "cell_type": "markdown",
   "id": "3c4f9167",
   "metadata": {},
   "source": [
    "## Part B"
   ]
  },
  {
   "cell_type": "code",
   "execution_count": 3,
   "id": "ea064915",
   "metadata": {},
   "outputs": [],
   "source": [
    "Y,X1,X2,Z1=data(500,5); #for test"
   ]
  },
  {
   "cell_type": "code",
   "execution_count": 4,
   "id": "4c0d62aa",
   "metadata": {},
   "outputs": [
    {
     "data": {
      "text/plain": [
       "iv (generic function with 1 method)"
      ]
     },
     "execution_count": 4,
     "metadata": {},
     "output_type": "execute_result"
    }
   ],
   "source": [
    "function iv(X,Y,Z)\n",
    "    \n",
    "    β_2sls=inv((Z'*X)'*inv(Z'*Z)*(Z'*X))*((Z'*X)'*inv(Z'*Z)*Z'*Y)\n",
    "   \n",
    "    return β_2sls \n",
    "end\n"
   ]
  },
  {
   "cell_type": "code",
   "execution_count": 5,
   "id": "6d06e1bf",
   "metadata": {},
   "outputs": [
    {
     "data": {
      "text/plain": [
       "1×1 Matrix{Float64}:\n",
       " 1.0204462517009587"
      ]
     },
     "execution_count": 5,
     "metadata": {},
     "output_type": "execute_result"
    }
   ],
   "source": [
    "beta=iv(X1,Y,Z1) #test"
   ]
  },
  {
   "cell_type": "code",
   "execution_count": 6,
   "id": "a1f8e6f3",
   "metadata": {},
   "outputs": [
    {
     "data": {
      "text/plain": [
       "0.0486921295287297"
      ]
     },
     "execution_count": 6,
     "metadata": {},
     "output_type": "execute_result"
    }
   ],
   "source": [
    "R=10^5\n",
    "Random.seed!(1234);\n",
    "Beta_est=ones(R,1);\n",
    "\n",
    "for i=1:R\n",
    "    Y,X1,X2,Z1=data(30,2)\n",
    "    X=[X1 X2]\n",
    "    Z=[Z1 X2]\n",
    "    Beta_est[i]=iv(X,Y,Z)[1]\n",
    "end\n",
    "bias1_30=abs(mean(Beta_est)-β1)/β1\n"
   ]
  },
  {
   "cell_type": "markdown",
   "id": "352c3f51",
   "metadata": {},
   "source": [
    "The bias of $β_1$ is approximately 4.9% of the value of the true value of the coefficient."
   ]
  },
  {
   "cell_type": "markdown",
   "id": "93390c25",
   "metadata": {},
   "source": [
    "### Part C"
   ]
  },
  {
   "cell_type": "code",
   "execution_count": 7,
   "id": "5693c19e",
   "metadata": {},
   "outputs": [
    {
     "data": {
      "text/plain": [
       "0.3225768453511002"
      ]
     },
     "execution_count": 7,
     "metadata": {},
     "output_type": "execute_result"
    }
   ],
   "source": [
    "Beta_est2=ones(R,1)\n",
    "\n",
    "Random.seed!(1234);\n",
    "\n",
    "for i=1:R\n",
    "    Y, X1, X2, Z1 = data(30,2)\n",
    "    X=[X1 X2]\n",
    "    Z1_2=Z1.^2 #1 var (nx1)\n",
    "    Z1_3=Z1.^3 #1 var idem\n",
    "    X2_2=X2.^2 #2 var because X2 is nx2 (if we simulate X2(nx10) we will have 64 instruments)\n",
    "    X2_3=X2.^3 #2 var idem\n",
    "    ZZ=[Z1 Z1] #2 var idem\n",
    "    ZZ_2=ZZ.^2 #2 var idem\n",
    "     \n",
    "    Z=[Z1 Z1_2 Z1_3 X2 X2_2 X2_3 (ZZ .* X2) (ZZ_2 .* X2) (ZZ .* X2_2) Z1.*X2[:,1].*X2[:,2]]\n",
    "    \n",
    "    Beta_est2[i]=iv(X,Y,Z)[1]\n",
    "end\n",
    "bias2_30=abs(mean(Beta_est2)-β1)/β1"
   ]
  },
  {
   "cell_type": "markdown",
   "id": "d067c859",
   "metadata": {},
   "source": [
    "The bias of $β_1$ when we add these instruments is approximately 32.3% of the true value of the coefficient."
   ]
  },
  {
   "cell_type": "markdown",
   "id": "c0e8e740",
   "metadata": {},
   "source": [
    "### Part D"
   ]
  },
  {
   "cell_type": "markdown",
   "id": "093ad265",
   "metadata": {},
   "source": [
    "Adding instruments when we have a finite sample can generate problems of \"Many IVs\". Basically, the ratio of # of IVS to the sample size is 16/30 which is close to the constant 0.5. This is far from zero, that is the basic asumption that we use for consistency in large samples (asymptotic theory). "
   ]
  },
  {
   "cell_type": "markdown",
   "id": "aba1a186",
   "metadata": {},
   "source": [
    "### Part E"
   ]
  },
  {
   "cell_type": "code",
   "execution_count": 8,
   "id": "9bb680cf",
   "metadata": {},
   "outputs": [
    {
     "name": "stdout",
     "output_type": "stream",
     "text": [
      "┌──────┬─────────────┬────────────┐\n",
      "│\u001b[1m    N \u001b[0m│\u001b[1m Instruments \u001b[0m│\u001b[1m    Bias(%) \u001b[0m│\n",
      "├──────┼─────────────┼────────────┤\n",
      "│   30 │           3 │  0.0486921 │\n",
      "│   30 │          16 │   0.322577 │\n",
      "│  100 │           3 │  0.0114091 │\n",
      "│  100 │          16 │   0.112356 │\n",
      "│ 1000 │           3 │ 0.00107036 │\n",
      "│ 1000 │          16 │  0.0120324 │\n",
      "└──────┴─────────────┴────────────┘\n"
     ]
    }
   ],
   "source": [
    "#N=100\n",
    "\n",
    "R=10^5\n",
    "Random.seed!(1234);\n",
    "Beta_est3=ones(R,1);\n",
    "\n",
    "for i=1:R\n",
    "    Y,X1,X2,Z1=data(100,2)\n",
    "    X=[X1 X2]\n",
    "    Z=[Z1 X2]\n",
    "    Beta_est3[i]=iv(X,Y,Z)[1]\n",
    "end\n",
    "bias1_100=(abs(mean(Beta_est3)-β1)/β1)\n",
    "\n",
    "        Beta_est4=ones(R,1)\n",
    "        Random.seed!(1234);\n",
    "        for i=1:R\n",
    "            Y, X1, X2, Z1 = data(100,2)\n",
    "            X=[X1 X2]\n",
    "            Z1_2=Z1.^2\n",
    "            Z1_3=Z1.^3\n",
    "            X2_2=X2.^2\n",
    "            X2_3=X2.^3\n",
    "            ZZ=[Z1 Z1]\n",
    "            ZZ_2=ZZ.^2\n",
    "\n",
    "            Z=[Z1 Z1_2 Z1_3 X2 X2_2 X2_3 (ZZ .* X2) (ZZ_2 .* X2) (ZZ .* X2_2) Z1.*X2[:,1].*X2[:,2]]\n",
    "\n",
    "            Beta_est4[i]=iv(X,Y,Z)[1]\n",
    "        end\n",
    "        bias2_100=(abs(mean(Beta_est4)-β1)/β1)\n",
    "\n",
    "\n",
    "\n",
    "#N=1000\n",
    "Beta_est5=ones(R,1);\n",
    "\n",
    "for i=1:R\n",
    "    Y,X1,X2,Z1=data(1000,2)\n",
    "    X=[X1 X2]\n",
    "    Z=[Z1 X2]\n",
    "    Beta_est5[i]=iv(X,Y,Z)[1]\n",
    "end\n",
    "bias1_1000=(abs(mean(Beta_est5)-β1)/β1)\n",
    "\n",
    "        Beta_est6=ones(R,1)\n",
    "\n",
    "        for i=1:R\n",
    "            Y, X1, X2, Z1 = data(1000,2)\n",
    "            X=[X1 X2]\n",
    "            Z1_2=Z1.^2\n",
    "            Z1_3=Z1.^3\n",
    "            X2_2=X2.^2\n",
    "            X2_3=X2.^3\n",
    "            ZZ=[Z1 Z1]\n",
    "            ZZ_2=ZZ.^2\n",
    "\n",
    "            Z=[Z1 Z1_2 Z1_3 X2 X2_2 X2_3 (ZZ .* X2) (ZZ_2 .* X2) (ZZ .* X2_2) Z1.*X2[:,1].*X2[:,2]]\n",
    "\n",
    "            Beta_est6[i]=iv(X,Y,Z)[1]\n",
    "        end\n",
    "        bias2_1000=(abs(mean(Beta_est6)-β1)/β1)\n",
    "\n",
    "header=[\"N\", \"Instruments\", \"Bias(%)\"]\n",
    "\n",
    "pretty_table([\"30\" \"3\" bias1_30 ;\n",
    "              \"30\" \"16\" bias2_30 ;\n",
    "              \"100\" \"3\" bias1_100 ;\n",
    "              \"100\" \"16\" bias2_100;\n",
    "              \"1000\" \"3\" bias1_1000;\n",
    "              \"1000\" \"16\" bias2_1000;];header)\n"
   ]
  },
  {
   "cell_type": "markdown",
   "id": "b036df9e",
   "metadata": {},
   "source": [
    "When we have a large sample, for example N=1000, the bias of including a large quantity of IVs tend to dissapear. Here, the ratio of the #IVs to the sample size is 16/1000, which is 1.6%, which is much more closer than zero than the previous question. Also the bias when #IVs=3 is approximately 0.1% while when the #IVs is 16 is 1.2%, which is still a low value. \n",
    "\n",
    "This doesn't happen when n=100, because the bias when the #IVs=3 is 1.1%, but when #IVs is N=10 the bias reach to 11.2% which is very high. We can notice that the ratio of IVs to the sample size is still high 16/100=16%. Therefore, we must be aware of the problem of many IVs in this case.\n",
    "\n",
    "\n",
    "In conclusion, we can think that here we have an enough large sample to estimate the coefficient without the fear of having a large bias.\n"
   ]
  },
  {
   "cell_type": "markdown",
   "id": "6308aa1b",
   "metadata": {},
   "source": [
    "# Question 2"
   ]
  },
  {
   "cell_type": "code",
   "execution_count": 9,
   "id": "0bc418a1",
   "metadata": {},
   "outputs": [],
   "source": [
    "using QuadGK"
   ]
  },
  {
   "cell_type": "markdown",
   "id": "733fb3fa",
   "metadata": {},
   "source": [
    "Define a custom Julia function that for given $c>0$ and $α∈(0,1)$ computes by numerical integration the following probability:\n",
    "\n",
    "$$Pr(X_c>\\chi^2_{1,1−α})=∫ 1((z+c)^2>χ^2_{1,1−α})\\phi(z)dz$$\n",
    "        \n",
    "where $X_c∼\\chi^2_1(c)$ (the non-central $\\chi^2_1$ distribution with the non-centrality parameter $c>0$), $\\phi(⋅)$ is the standard normal PDF, and $\\chi^2_{1,t}$ denotes the t-th quantile of the central $\\chi^2_1$ distribution."
   ]
  },
  {
   "cell_type": "markdown",
   "id": "cc9d2bb7",
   "metadata": {},
   "source": [
    "### Part A"
   ]
  },
  {
   "cell_type": "code",
   "execution_count": 10,
   "id": "6e7f4f59",
   "metadata": {},
   "outputs": [
    {
     "data": {
      "text/plain": [
       "int (generic function with 1 method)"
      ]
     },
     "execution_count": 10,
     "metadata": {},
     "output_type": "execute_result"
    }
   ],
   "source": [
    "function int(c,α)\n",
    "\n",
    "    critical_val=quantile(Chisq(1),1-α)\n",
    "    \n",
    "    return quadgk(z->((z+c)^2>critical_val)*pdf(Normal(0,1),z),-Inf,Inf,atol=1e-8)[1]\n",
    "end\n",
    "\n",
    "#value of the integral in the first position and the approximation error in the second"
   ]
  },
  {
   "cell_type": "markdown",
   "id": "c48e8299",
   "metadata": {},
   "source": [
    "### Part B"
   ]
  },
  {
   "cell_type": "markdown",
   "id": "07353aa9",
   "metadata": {},
   "source": [
    "Define another function to compute $Pr(X_{|c|}>χ^2_{1,1−α})$ now using the following Julia functions from the package Distributions:\n",
    "\n",
    "- cdf().\n",
    "- NoncentralChisq(d,c^2). Note that this function has a different definition of the non-centrality parameter: c2 instead of |c| in our definiton.\n",
    "\n",
    "Compare the results with those in Part A over a range of values for the non-centrality parameter. Which of the two functions is faster? Use that function in the questions below.\n",
    "\n"
   ]
  },
  {
   "cell_type": "code",
   "execution_count": 11,
   "id": "535279ec",
   "metadata": {},
   "outputs": [
    {
     "data": {
      "text/plain": [
       "int2 (generic function with 1 method)"
      ]
     },
     "execution_count": 11,
     "metadata": {},
     "output_type": "execute_result"
    }
   ],
   "source": [
    "function int2(c,α)\n",
    "\n",
    "    critical_val=quantile(Chisq(1),1-α)\n",
    "    \n",
    "    return 1 - cdf(NoncentralChisq(1,c^2),critical_val)\n",
    "end"
   ]
  },
  {
   "cell_type": "code",
   "execution_count": 12,
   "id": "2d0d2f82",
   "metadata": {},
   "outputs": [
    {
     "data": {
      "text/plain": [
       "0.050000000000000044"
      ]
     },
     "execution_count": 12,
     "metadata": {},
     "output_type": "execute_result"
    }
   ],
   "source": [
    "int2(0,0.05)"
   ]
  },
  {
   "cell_type": "code",
   "execution_count": 13,
   "id": "b1a53bed",
   "metadata": {},
   "outputs": [
    {
     "data": {
      "image/svg+xml": [
       "<?xml version=\"1.0\" encoding=\"utf-8\"?>\n",
       "<svg xmlns=\"http://www.w3.org/2000/svg\" xmlns:xlink=\"http://www.w3.org/1999/xlink\" width=\"600\" height=\"400\" viewBox=\"0 0 2400 1600\">\n",
       "<defs>\n",
       "  <clipPath id=\"clip560\">\n",
       "    <rect x=\"0\" y=\"0\" width=\"2400\" height=\"1600\"/>\n",
       "  </clipPath>\n",
       "</defs>\n",
       "<path clip-path=\"url(#clip560)\" d=\"\n",
       "M0 1600 L2400 1600 L2400 0 L0 0  Z\n",
       "  \" fill=\"#ffffff\" fill-rule=\"evenodd\" fill-opacity=\"1\"/>\n",
       "<defs>\n",
       "  <clipPath id=\"clip561\">\n",
       "    <rect x=\"480\" y=\"0\" width=\"1681\" height=\"1600\"/>\n",
       "  </clipPath>\n",
       "</defs>\n",
       "<path clip-path=\"url(#clip560)\" d=\"\n",
       "M219.866 1423.18 L2352.76 1423.18 L2352.76 47.2441 L219.866 47.2441  Z\n",
       "  \" fill=\"#ffffff\" fill-rule=\"evenodd\" fill-opacity=\"1\"/>\n",
       "<defs>\n",
       "  <clipPath id=\"clip562\">\n",
       "    <rect x=\"219\" y=\"47\" width=\"2134\" height=\"1377\"/>\n",
       "  </clipPath>\n",
       "</defs>\n",
       "<polyline clip-path=\"url(#clip562)\" style=\"stroke:#000000; stroke-linecap:round; stroke-linejoin:round; stroke-width:2; stroke-opacity:0.1; fill:none\" points=\"\n",
       "  259.906,1423.18 259.906,47.2441 \n",
       "  \"/>\n",
       "<polyline clip-path=\"url(#clip562)\" style=\"stroke:#000000; stroke-linecap:round; stroke-linejoin:round; stroke-width:2; stroke-opacity:0.1; fill:none\" points=\"\n",
       "  768.027,1423.18 768.027,47.2441 \n",
       "  \"/>\n",
       "<polyline clip-path=\"url(#clip562)\" style=\"stroke:#000000; stroke-linecap:round; stroke-linejoin:round; stroke-width:2; stroke-opacity:0.1; fill:none\" points=\"\n",
       "  1276.15,1423.18 1276.15,47.2441 \n",
       "  \"/>\n",
       "<polyline clip-path=\"url(#clip562)\" style=\"stroke:#000000; stroke-linecap:round; stroke-linejoin:round; stroke-width:2; stroke-opacity:0.1; fill:none\" points=\"\n",
       "  1784.27,1423.18 1784.27,47.2441 \n",
       "  \"/>\n",
       "<polyline clip-path=\"url(#clip562)\" style=\"stroke:#000000; stroke-linecap:round; stroke-linejoin:round; stroke-width:2; stroke-opacity:0.1; fill:none\" points=\"\n",
       "  2292.39,1423.18 2292.39,47.2441 \n",
       "  \"/>\n",
       "<polyline clip-path=\"url(#clip560)\" style=\"stroke:#000000; stroke-linecap:round; stroke-linejoin:round; stroke-width:4; stroke-opacity:1; fill:none\" points=\"\n",
       "  219.866,1423.18 2352.76,1423.18 \n",
       "  \"/>\n",
       "<polyline clip-path=\"url(#clip560)\" style=\"stroke:#000000; stroke-linecap:round; stroke-linejoin:round; stroke-width:4; stroke-opacity:1; fill:none\" points=\"\n",
       "  259.906,1423.18 259.906,1404.28 \n",
       "  \"/>\n",
       "<polyline clip-path=\"url(#clip560)\" style=\"stroke:#000000; stroke-linecap:round; stroke-linejoin:round; stroke-width:4; stroke-opacity:1; fill:none\" points=\"\n",
       "  768.027,1423.18 768.027,1404.28 \n",
       "  \"/>\n",
       "<polyline clip-path=\"url(#clip560)\" style=\"stroke:#000000; stroke-linecap:round; stroke-linejoin:round; stroke-width:4; stroke-opacity:1; fill:none\" points=\"\n",
       "  1276.15,1423.18 1276.15,1404.28 \n",
       "  \"/>\n",
       "<polyline clip-path=\"url(#clip560)\" style=\"stroke:#000000; stroke-linecap:round; stroke-linejoin:round; stroke-width:4; stroke-opacity:1; fill:none\" points=\"\n",
       "  1784.27,1423.18 1784.27,1404.28 \n",
       "  \"/>\n",
       "<polyline clip-path=\"url(#clip560)\" style=\"stroke:#000000; stroke-linecap:round; stroke-linejoin:round; stroke-width:4; stroke-opacity:1; fill:none\" points=\"\n",
       "  2292.39,1423.18 2292.39,1404.28 \n",
       "  \"/>\n",
       "<path clip-path=\"url(#clip560)\" d=\"M237.291 1454.1 Q233.68 1454.1 231.851 1457.66 Q230.045 1461.2 230.045 1468.33 Q230.045 1475.44 231.851 1479.01 Q233.68 1482.55 237.291 1482.55 Q240.925 1482.55 242.73 1479.01 Q244.559 1475.44 244.559 1468.33 Q244.559 1461.2 242.73 1457.66 Q240.925 1454.1 237.291 1454.1 M237.291 1450.39 Q243.101 1450.39 246.156 1455 Q249.235 1459.58 249.235 1468.33 Q249.235 1477.06 246.156 1481.67 Q243.101 1486.25 237.291 1486.25 Q231.48 1486.25 228.402 1481.67 Q225.346 1477.06 225.346 1468.33 Q225.346 1459.58 228.402 1455 Q231.48 1450.39 237.291 1450.39 Z\" fill=\"#000000\" fill-rule=\"evenodd\" fill-opacity=\"1\" /><path clip-path=\"url(#clip560)\" d=\"M257.453 1479.7 L262.337 1479.7 L262.337 1485.58 L257.453 1485.58 L257.453 1479.7 Z\" fill=\"#000000\" fill-rule=\"evenodd\" fill-opacity=\"1\" /><path clip-path=\"url(#clip560)\" d=\"M282.522 1454.1 Q278.911 1454.1 277.082 1457.66 Q275.277 1461.2 275.277 1468.33 Q275.277 1475.44 277.082 1479.01 Q278.911 1482.55 282.522 1482.55 Q286.156 1482.55 287.962 1479.01 Q289.79 1475.44 289.79 1468.33 Q289.79 1461.2 287.962 1457.66 Q286.156 1454.1 282.522 1454.1 M282.522 1450.39 Q288.332 1450.39 291.388 1455 Q294.466 1459.58 294.466 1468.33 Q294.466 1477.06 291.388 1481.67 Q288.332 1486.25 282.522 1486.25 Q276.712 1486.25 273.633 1481.67 Q270.577 1477.06 270.577 1468.33 Q270.577 1459.58 273.633 1455 Q276.712 1450.39 282.522 1450.39 Z\" fill=\"#000000\" fill-rule=\"evenodd\" fill-opacity=\"1\" /><path clip-path=\"url(#clip560)\" d=\"M739.764 1481.64 L756.083 1481.64 L756.083 1485.58 L734.139 1485.58 L734.139 1481.64 Q736.801 1478.89 741.384 1474.26 Q745.991 1469.61 747.171 1468.27 Q749.416 1465.74 750.296 1464.01 Q751.199 1462.25 751.199 1460.56 Q751.199 1457.8 749.254 1456.07 Q747.333 1454.33 744.231 1454.33 Q742.032 1454.33 739.579 1455.09 Q737.148 1455.86 734.37 1457.41 L734.37 1452.69 Q737.194 1451.55 739.648 1450.97 Q742.102 1450.39 744.139 1450.39 Q749.509 1450.39 752.703 1453.08 Q755.898 1455.77 755.898 1460.26 Q755.898 1462.39 755.088 1464.31 Q754.301 1466.2 752.194 1468.8 Q751.615 1469.47 748.514 1472.69 Q745.412 1475.88 739.764 1481.64 Z\" fill=\"#000000\" fill-rule=\"evenodd\" fill-opacity=\"1\" /><path clip-path=\"url(#clip560)\" d=\"M765.898 1479.7 L770.782 1479.7 L770.782 1485.58 L765.898 1485.58 L765.898 1479.7 Z\" fill=\"#000000\" fill-rule=\"evenodd\" fill-opacity=\"1\" /><path clip-path=\"url(#clip560)\" d=\"M781.013 1451.02 L799.37 1451.02 L799.37 1454.96 L785.296 1454.96 L785.296 1463.43 Q786.314 1463.08 787.333 1462.92 Q788.351 1462.73 789.37 1462.73 Q795.157 1462.73 798.537 1465.9 Q801.916 1469.08 801.916 1474.49 Q801.916 1480.07 798.444 1483.17 Q794.972 1486.25 788.652 1486.25 Q786.476 1486.25 784.208 1485.88 Q781.963 1485.51 779.555 1484.77 L779.555 1480.07 Q781.638 1481.2 783.861 1481.76 Q786.083 1482.32 788.56 1482.32 Q792.564 1482.32 794.902 1480.21 Q797.24 1478.1 797.24 1474.49 Q797.24 1470.88 794.902 1468.77 Q792.564 1466.67 788.56 1466.67 Q786.685 1466.67 784.81 1467.08 Q782.958 1467.5 781.013 1468.38 L781.013 1451.02 Z\" fill=\"#000000\" fill-rule=\"evenodd\" fill-opacity=\"1\" /><path clip-path=\"url(#clip560)\" d=\"M1243.31 1451.02 L1261.67 1451.02 L1261.67 1454.96 L1247.6 1454.96 L1247.6 1463.43 Q1248.61 1463.08 1249.63 1462.92 Q1250.65 1462.73 1251.67 1462.73 Q1257.46 1462.73 1260.84 1465.9 Q1264.22 1469.08 1264.22 1474.49 Q1264.22 1480.07 1260.74 1483.17 Q1257.27 1486.25 1250.95 1486.25 Q1248.78 1486.25 1246.51 1485.88 Q1244.26 1485.51 1241.85 1484.77 L1241.85 1480.07 Q1243.94 1481.2 1246.16 1481.76 Q1248.38 1482.32 1250.86 1482.32 Q1254.86 1482.32 1257.2 1480.21 Q1259.54 1478.1 1259.54 1474.49 Q1259.54 1470.88 1257.2 1468.77 Q1254.86 1466.67 1250.86 1466.67 Q1248.98 1466.67 1247.11 1467.08 Q1245.26 1467.5 1243.31 1468.38 L1243.31 1451.02 Z\" fill=\"#000000\" fill-rule=\"evenodd\" fill-opacity=\"1\" /><path clip-path=\"url(#clip560)\" d=\"M1273.43 1479.7 L1278.31 1479.7 L1278.31 1485.58 L1273.43 1485.58 L1273.43 1479.7 Z\" fill=\"#000000\" fill-rule=\"evenodd\" fill-opacity=\"1\" /><path clip-path=\"url(#clip560)\" d=\"M1298.5 1454.1 Q1294.89 1454.1 1293.06 1457.66 Q1291.25 1461.2 1291.25 1468.33 Q1291.25 1475.44 1293.06 1479.01 Q1294.89 1482.55 1298.5 1482.55 Q1302.13 1482.55 1303.94 1479.01 Q1305.77 1475.44 1305.77 1468.33 Q1305.77 1461.2 1303.94 1457.66 Q1302.13 1454.1 1298.5 1454.1 M1298.5 1450.39 Q1304.31 1450.39 1307.36 1455 Q1310.44 1459.58 1310.44 1468.33 Q1310.44 1477.06 1307.36 1481.67 Q1304.31 1486.25 1298.5 1486.25 Q1292.69 1486.25 1289.61 1481.67 Q1286.55 1477.06 1286.55 1468.33 Q1286.55 1459.58 1289.61 1455 Q1292.69 1450.39 1298.5 1450.39 Z\" fill=\"#000000\" fill-rule=\"evenodd\" fill-opacity=\"1\" /><path clip-path=\"url(#clip560)\" d=\"M1750.59 1451.02 L1772.81 1451.02 L1772.81 1453.01 L1760.27 1485.58 L1755.38 1485.58 L1767.19 1454.96 L1750.59 1454.96 L1750.59 1451.02 Z\" fill=\"#000000\" fill-rule=\"evenodd\" fill-opacity=\"1\" /><path clip-path=\"url(#clip560)\" d=\"M1781.93 1479.7 L1786.82 1479.7 L1786.82 1485.58 L1781.93 1485.58 L1781.93 1479.7 Z\" fill=\"#000000\" fill-rule=\"evenodd\" fill-opacity=\"1\" /><path clip-path=\"url(#clip560)\" d=\"M1797.05 1451.02 L1815.4 1451.02 L1815.4 1454.96 L1801.33 1454.96 L1801.33 1463.43 Q1802.35 1463.08 1803.37 1462.92 Q1804.39 1462.73 1805.4 1462.73 Q1811.19 1462.73 1814.57 1465.9 Q1817.95 1469.08 1817.95 1474.49 Q1817.95 1480.07 1814.48 1483.17 Q1811.01 1486.25 1804.69 1486.25 Q1802.51 1486.25 1800.24 1485.88 Q1798 1485.51 1795.59 1484.77 L1795.59 1480.07 Q1797.67 1481.2 1799.89 1481.76 Q1802.12 1482.32 1804.59 1482.32 Q1808.6 1482.32 1810.94 1480.21 Q1813.27 1478.1 1813.27 1474.49 Q1813.27 1470.88 1810.94 1468.77 Q1808.6 1466.67 1804.59 1466.67 Q1802.72 1466.67 1800.84 1467.08 Q1798.99 1467.5 1797.05 1468.38 L1797.05 1451.02 Z\" fill=\"#000000\" fill-rule=\"evenodd\" fill-opacity=\"1\" /><path clip-path=\"url(#clip560)\" d=\"M2244.46 1481.64 L2252.1 1481.64 L2252.1 1455.28 L2243.79 1456.95 L2243.79 1452.69 L2252.06 1451.02 L2256.73 1451.02 L2256.73 1481.64 L2264.37 1481.64 L2264.37 1485.58 L2244.46 1485.58 L2244.46 1481.64 Z\" fill=\"#000000\" fill-rule=\"evenodd\" fill-opacity=\"1\" /><path clip-path=\"url(#clip560)\" d=\"M2283.81 1454.1 Q2280.2 1454.1 2278.37 1457.66 Q2276.57 1461.2 2276.57 1468.33 Q2276.57 1475.44 2278.37 1479.01 Q2280.2 1482.55 2283.81 1482.55 Q2287.45 1482.55 2289.25 1479.01 Q2291.08 1475.44 2291.08 1468.33 Q2291.08 1461.2 2289.25 1457.66 Q2287.45 1454.1 2283.81 1454.1 M2283.81 1450.39 Q2289.62 1450.39 2292.68 1455 Q2295.76 1459.58 2295.76 1468.33 Q2295.76 1477.06 2292.68 1481.67 Q2289.62 1486.25 2283.81 1486.25 Q2278 1486.25 2274.93 1481.67 Q2271.87 1477.06 2271.87 1468.33 Q2271.87 1459.58 2274.93 1455 Q2278 1450.39 2283.81 1450.39 Z\" fill=\"#000000\" fill-rule=\"evenodd\" fill-opacity=\"1\" /><path clip-path=\"url(#clip560)\" d=\"M2303.98 1479.7 L2308.86 1479.7 L2308.86 1485.58 L2303.98 1485.58 L2303.98 1479.7 Z\" fill=\"#000000\" fill-rule=\"evenodd\" fill-opacity=\"1\" /><path clip-path=\"url(#clip560)\" d=\"M2329.05 1454.1 Q2325.43 1454.1 2323.61 1457.66 Q2321.8 1461.2 2321.8 1468.33 Q2321.8 1475.44 2323.61 1479.01 Q2325.43 1482.55 2329.05 1482.55 Q2332.68 1482.55 2334.49 1479.01 Q2336.31 1475.44 2336.31 1468.33 Q2336.31 1461.2 2334.49 1457.66 Q2332.68 1454.1 2329.05 1454.1 M2329.05 1450.39 Q2334.86 1450.39 2337.91 1455 Q2340.99 1459.58 2340.99 1468.33 Q2340.99 1477.06 2337.91 1481.67 Q2334.86 1486.25 2329.05 1486.25 Q2323.24 1486.25 2320.16 1481.67 Q2317.1 1477.06 2317.1 1468.33 Q2317.1 1459.58 2320.16 1455 Q2323.24 1450.39 2329.05 1450.39 Z\" fill=\"#000000\" fill-rule=\"evenodd\" fill-opacity=\"1\" /><path clip-path=\"url(#clip560)\" d=\"M1147.17 1568.04 L1129.03 1520.52 L1135.75 1520.52 L1150.8 1560.53 L1165.89 1520.52 L1172.57 1520.52 L1154.46 1568.04 L1147.17 1568.04 Z\" fill=\"#000000\" fill-rule=\"evenodd\" fill-opacity=\"1\" /><path clip-path=\"url(#clip560)\" d=\"M1190.4 1550.12 Q1183.3 1550.12 1180.56 1551.75 Q1177.82 1553.37 1177.82 1557.29 Q1177.82 1560.4 1179.86 1562.25 Q1181.93 1564.07 1185.46 1564.07 Q1190.33 1564.07 1193.26 1560.63 Q1196.22 1557.16 1196.22 1551.43 L1196.22 1550.12 L1190.4 1550.12 M1202.08 1547.71 L1202.08 1568.04 L1196.22 1568.04 L1196.22 1562.63 Q1194.22 1565.88 1191.22 1567.44 Q1188.23 1568.97 1183.9 1568.97 Q1178.43 1568.97 1175.18 1565.91 Q1171.97 1562.82 1171.97 1557.67 Q1171.97 1551.65 1175.98 1548.6 Q1180.02 1545.54 1188.01 1545.54 L1196.22 1545.54 L1196.22 1544.97 Q1196.22 1540.93 1193.55 1538.73 Q1190.91 1536.5 1186.1 1536.5 Q1183.04 1536.5 1180.15 1537.23 Q1177.25 1537.97 1174.58 1539.43 L1174.58 1534.02 Q1177.79 1532.78 1180.82 1532.17 Q1183.84 1531.54 1186.7 1531.54 Q1194.44 1531.54 1198.26 1535.55 Q1202.08 1539.56 1202.08 1547.71 Z\" fill=\"#000000\" fill-rule=\"evenodd\" fill-opacity=\"1\" /><path clip-path=\"url(#clip560)\" d=\"M1214.14 1518.52 L1220 1518.52 L1220 1568.04 L1214.14 1568.04 L1214.14 1518.52 Z\" fill=\"#000000\" fill-rule=\"evenodd\" fill-opacity=\"1\" /><path clip-path=\"url(#clip560)\" d=\"M1231.65 1553.98 L1231.65 1532.4 L1237.5 1532.4 L1237.5 1553.75 Q1237.5 1558.81 1239.48 1561.36 Q1241.45 1563.87 1245.4 1563.87 Q1250.14 1563.87 1252.88 1560.85 Q1255.64 1557.83 1255.64 1552.61 L1255.64 1532.4 L1261.5 1532.4 L1261.5 1568.04 L1255.64 1568.04 L1255.64 1562.57 Q1253.51 1565.82 1250.68 1567.41 Q1247.88 1568.97 1244.15 1568.97 Q1238.01 1568.97 1234.83 1565.15 Q1231.65 1561.33 1231.65 1553.98 M1246.38 1531.54 L1246.38 1531.54 Z\" fill=\"#000000\" fill-rule=\"evenodd\" fill-opacity=\"1\" /><path clip-path=\"url(#clip560)\" d=\"M1304.06 1548.76 L1304.06 1551.62 L1277.13 1551.62 Q1277.51 1557.67 1280.76 1560.85 Q1284.04 1564 1289.86 1564 Q1293.23 1564 1296.38 1563.17 Q1299.57 1562.35 1302.69 1560.69 L1302.69 1566.23 Q1299.54 1567.57 1296.23 1568.27 Q1292.92 1568.97 1289.51 1568.97 Q1280.98 1568.97 1275.98 1564 Q1271.02 1559.04 1271.02 1550.57 Q1271.02 1541.82 1275.73 1536.69 Q1280.47 1531.54 1288.49 1531.54 Q1295.68 1531.54 1299.85 1536.18 Q1304.06 1540.8 1304.06 1548.76 M1298.2 1547.04 Q1298.14 1542.23 1295.49 1539.37 Q1292.88 1536.5 1288.55 1536.5 Q1283.65 1536.5 1280.69 1539.27 Q1277.77 1542.04 1277.32 1547.07 L1298.2 1547.04 Z\" fill=\"#000000\" fill-rule=\"evenodd\" fill-opacity=\"1\" /><path clip-path=\"url(#clip560)\" d=\"M1348.2 1536.5 Q1343.49 1536.5 1340.75 1540.19 Q1338.02 1543.85 1338.02 1550.25 Q1338.02 1556.65 1340.72 1560.34 Q1343.46 1564 1348.2 1564 Q1352.88 1564 1355.62 1560.31 Q1358.35 1556.62 1358.35 1550.25 Q1358.35 1543.92 1355.62 1540.23 Q1352.88 1536.5 1348.2 1536.5 M1348.2 1531.54 Q1355.84 1531.54 1360.2 1536.5 Q1364.56 1541.47 1364.56 1550.25 Q1364.56 1559 1360.2 1564 Q1355.84 1568.97 1348.2 1568.97 Q1340.53 1568.97 1336.17 1564 Q1331.84 1559 1331.84 1550.25 Q1331.84 1541.47 1336.17 1536.5 Q1340.53 1531.54 1348.2 1531.54 Z\" fill=\"#000000\" fill-rule=\"evenodd\" fill-opacity=\"1\" /><path clip-path=\"url(#clip560)\" d=\"M1392.32 1518.52 L1392.32 1523.39 L1386.71 1523.39 Q1383.56 1523.39 1382.32 1524.66 Q1381.11 1525.93 1381.11 1529.24 L1381.11 1532.4 L1390.76 1532.4 L1390.76 1536.95 L1381.11 1536.95 L1381.11 1568.04 L1375.22 1568.04 L1375.22 1536.95 L1369.62 1536.95 L1369.62 1532.4 L1375.22 1532.4 L1375.22 1529.91 Q1375.22 1523.96 1377.99 1521.26 Q1380.76 1518.52 1386.78 1518.52 L1392.32 1518.52 Z\" fill=\"#000000\" fill-rule=\"evenodd\" fill-opacity=\"1\" /><path clip-path=\"url(#clip560)\" d=\"M1443.59 1533.76 L1443.59 1539.24 Q1441.11 1537.87 1438.59 1537.2 Q1436.11 1536.5 1433.57 1536.5 Q1427.87 1536.5 1424.72 1540.13 Q1421.57 1543.73 1421.57 1550.25 Q1421.57 1556.78 1424.72 1560.4 Q1427.87 1564 1433.57 1564 Q1436.11 1564 1438.59 1563.33 Q1441.11 1562.63 1443.59 1561.26 L1443.59 1566.68 Q1441.14 1567.82 1438.5 1568.39 Q1435.89 1568.97 1432.93 1568.97 Q1424.88 1568.97 1420.13 1563.91 Q1415.39 1558.85 1415.39 1550.25 Q1415.39 1541.53 1420.17 1536.53 Q1424.97 1531.54 1433.31 1531.54 Q1436.02 1531.54 1438.59 1532.11 Q1441.17 1532.65 1443.59 1533.76 Z\" fill=\"#000000\" fill-rule=\"evenodd\" fill-opacity=\"1\" /><polyline clip-path=\"url(#clip562)\" style=\"stroke:#000000; stroke-linecap:round; stroke-linejoin:round; stroke-width:2; stroke-opacity:0.1; fill:none\" points=\"\n",
       "  219.866,1180.6 2352.76,1180.6 \n",
       "  \"/>\n",
       "<polyline clip-path=\"url(#clip562)\" style=\"stroke:#000000; stroke-linecap:round; stroke-linejoin:round; stroke-width:2; stroke-opacity:0.1; fill:none\" points=\"\n",
       "  219.866,906.999 2352.76,906.999 \n",
       "  \"/>\n",
       "<polyline clip-path=\"url(#clip562)\" style=\"stroke:#000000; stroke-linecap:round; stroke-linejoin:round; stroke-width:2; stroke-opacity:0.1; fill:none\" points=\"\n",
       "  219.866,633.394 2352.76,633.394 \n",
       "  \"/>\n",
       "<polyline clip-path=\"url(#clip562)\" style=\"stroke:#000000; stroke-linecap:round; stroke-linejoin:round; stroke-width:2; stroke-opacity:0.1; fill:none\" points=\"\n",
       "  219.866,359.79 2352.76,359.79 \n",
       "  \"/>\n",
       "<polyline clip-path=\"url(#clip562)\" style=\"stroke:#000000; stroke-linecap:round; stroke-linejoin:round; stroke-width:2; stroke-opacity:0.1; fill:none\" points=\"\n",
       "  219.866,86.1857 2352.76,86.1857 \n",
       "  \"/>\n",
       "<polyline clip-path=\"url(#clip560)\" style=\"stroke:#000000; stroke-linecap:round; stroke-linejoin:round; stroke-width:4; stroke-opacity:1; fill:none\" points=\"\n",
       "  219.866,1423.18 219.866,47.2441 \n",
       "  \"/>\n",
       "<polyline clip-path=\"url(#clip560)\" style=\"stroke:#000000; stroke-linecap:round; stroke-linejoin:round; stroke-width:4; stroke-opacity:1; fill:none\" points=\"\n",
       "  219.866,1180.6 238.764,1180.6 \n",
       "  \"/>\n",
       "<polyline clip-path=\"url(#clip560)\" style=\"stroke:#000000; stroke-linecap:round; stroke-linejoin:round; stroke-width:4; stroke-opacity:1; fill:none\" points=\"\n",
       "  219.866,906.999 238.764,906.999 \n",
       "  \"/>\n",
       "<polyline clip-path=\"url(#clip560)\" style=\"stroke:#000000; stroke-linecap:round; stroke-linejoin:round; stroke-width:4; stroke-opacity:1; fill:none\" points=\"\n",
       "  219.866,633.394 238.764,633.394 \n",
       "  \"/>\n",
       "<polyline clip-path=\"url(#clip560)\" style=\"stroke:#000000; stroke-linecap:round; stroke-linejoin:round; stroke-width:4; stroke-opacity:1; fill:none\" points=\"\n",
       "  219.866,359.79 238.764,359.79 \n",
       "  \"/>\n",
       "<polyline clip-path=\"url(#clip560)\" style=\"stroke:#000000; stroke-linecap:round; stroke-linejoin:round; stroke-width:4; stroke-opacity:1; fill:none\" points=\"\n",
       "  219.866,86.1857 238.764,86.1857 \n",
       "  \"/>\n",
       "<path clip-path=\"url(#clip560)\" d=\"M128.288 1166.4 Q124.677 1166.4 122.848 1169.97 Q121.043 1173.51 121.043 1180.64 Q121.043 1187.74 122.848 1191.31 Q124.677 1194.85 128.288 1194.85 Q131.922 1194.85 133.728 1191.31 Q135.556 1187.74 135.556 1180.64 Q135.556 1173.51 133.728 1169.97 Q131.922 1166.4 128.288 1166.4 M128.288 1162.7 Q134.098 1162.7 137.154 1167.3 Q140.232 1171.89 140.232 1180.64 Q140.232 1189.36 137.154 1193.97 Q134.098 1198.55 128.288 1198.55 Q122.478 1198.55 119.399 1193.97 Q116.343 1189.36 116.343 1180.64 Q116.343 1171.89 119.399 1167.3 Q122.478 1162.7 128.288 1162.7 Z\" fill=\"#000000\" fill-rule=\"evenodd\" fill-opacity=\"1\" /><path clip-path=\"url(#clip560)\" d=\"M148.45 1192 L153.334 1192 L153.334 1197.88 L148.45 1197.88 L148.45 1192 Z\" fill=\"#000000\" fill-rule=\"evenodd\" fill-opacity=\"1\" /><path clip-path=\"url(#clip560)\" d=\"M167.547 1193.95 L183.866 1193.95 L183.866 1197.88 L161.922 1197.88 L161.922 1193.95 Q164.584 1191.19 169.167 1186.56 Q173.774 1181.91 174.954 1180.57 Q177.2 1178.05 178.079 1176.31 Q178.982 1174.55 178.982 1172.86 Q178.982 1170.11 177.038 1168.37 Q175.116 1166.63 172.014 1166.63 Q169.815 1166.63 167.362 1167.4 Q164.931 1168.16 162.153 1169.71 L162.153 1164.99 Q164.977 1163.86 167.431 1163.28 Q169.885 1162.7 171.922 1162.7 Q177.292 1162.7 180.487 1165.38 Q183.681 1168.07 183.681 1172.56 Q183.681 1174.69 182.871 1176.61 Q182.084 1178.51 179.977 1181.1 Q179.399 1181.77 176.297 1184.99 Q173.195 1188.18 167.547 1193.95 Z\" fill=\"#000000\" fill-rule=\"evenodd\" fill-opacity=\"1\" /><path clip-path=\"url(#clip560)\" d=\"M126.205 892.797 Q122.593 892.797 120.765 896.362 Q118.959 899.904 118.959 907.034 Q118.959 914.14 120.765 917.705 Q122.593 921.246 126.205 921.246 Q129.839 921.246 131.644 917.705 Q133.473 914.14 133.473 907.034 Q133.473 899.904 131.644 896.362 Q129.839 892.797 126.205 892.797 M126.205 889.094 Q132.015 889.094 135.07 893.7 Q138.149 898.284 138.149 907.034 Q138.149 915.76 135.07 920.367 Q132.015 924.95 126.205 924.95 Q120.394 924.95 117.316 920.367 Q114.26 915.76 114.26 907.034 Q114.26 898.284 117.316 893.7 Q120.394 889.094 126.205 889.094 Z\" fill=\"#000000\" fill-rule=\"evenodd\" fill-opacity=\"1\" /><path clip-path=\"url(#clip560)\" d=\"M146.366 918.399 L151.251 918.399 L151.251 924.279 L146.366 924.279 L146.366 918.399 Z\" fill=\"#000000\" fill-rule=\"evenodd\" fill-opacity=\"1\" /><path clip-path=\"url(#clip560)\" d=\"M174.283 893.793 L162.477 912.242 L174.283 912.242 L174.283 893.793 M173.056 889.719 L178.936 889.719 L178.936 912.242 L183.866 912.242 L183.866 916.131 L178.936 916.131 L178.936 924.279 L174.283 924.279 L174.283 916.131 L158.681 916.131 L158.681 911.617 L173.056 889.719 Z\" fill=\"#000000\" fill-rule=\"evenodd\" fill-opacity=\"1\" /><path clip-path=\"url(#clip560)\" d=\"M126.529 619.193 Q122.918 619.193 121.089 622.758 Q119.283 626.3 119.283 633.429 Q119.283 640.536 121.089 644.1 Q122.918 647.642 126.529 647.642 Q130.163 647.642 131.968 644.1 Q133.797 640.536 133.797 633.429 Q133.797 626.3 131.968 622.758 Q130.163 619.193 126.529 619.193 M126.529 615.489 Q132.339 615.489 135.394 620.096 Q138.473 624.679 138.473 633.429 Q138.473 642.156 135.394 646.762 Q132.339 651.346 126.529 651.346 Q120.718 651.346 117.64 646.762 Q114.584 642.156 114.584 633.429 Q114.584 624.679 117.64 620.096 Q120.718 615.489 126.529 615.489 Z\" fill=\"#000000\" fill-rule=\"evenodd\" fill-opacity=\"1\" /><path clip-path=\"url(#clip560)\" d=\"M146.691 644.795 L151.575 644.795 L151.575 650.674 L146.691 650.674 L146.691 644.795 Z\" fill=\"#000000\" fill-rule=\"evenodd\" fill-opacity=\"1\" /><path clip-path=\"url(#clip560)\" d=\"M172.339 631.531 Q169.19 631.531 167.339 633.684 Q165.51 635.837 165.51 639.587 Q165.51 643.313 167.339 645.489 Q169.19 647.642 172.339 647.642 Q175.487 647.642 177.315 645.489 Q179.167 643.313 179.167 639.587 Q179.167 635.837 177.315 633.684 Q175.487 631.531 172.339 631.531 M181.621 616.878 L181.621 621.138 Q179.862 620.304 178.056 619.864 Q176.274 619.425 174.514 619.425 Q169.885 619.425 167.431 622.55 Q165.001 625.675 164.653 631.994 Q166.019 629.98 168.079 628.915 Q170.139 627.827 172.616 627.827 Q177.825 627.827 180.834 630.999 Q183.866 634.147 183.866 639.587 Q183.866 644.911 180.718 648.128 Q177.57 651.346 172.339 651.346 Q166.343 651.346 163.172 646.762 Q160.001 642.156 160.001 633.429 Q160.001 625.235 163.89 620.374 Q167.778 615.489 174.329 615.489 Q176.089 615.489 177.871 615.837 Q179.676 616.184 181.621 616.878 Z\" fill=\"#000000\" fill-rule=\"evenodd\" fill-opacity=\"1\" /><path clip-path=\"url(#clip560)\" d=\"M126.783 345.589 Q123.172 345.589 121.343 349.154 Q119.538 352.695 119.538 359.825 Q119.538 366.931 121.343 370.496 Q123.172 374.038 126.783 374.038 Q130.417 374.038 132.223 370.496 Q134.052 366.931 134.052 359.825 Q134.052 352.695 132.223 349.154 Q130.417 345.589 126.783 345.589 M126.783 341.885 Q132.593 341.885 135.649 346.492 Q138.728 351.075 138.728 359.825 Q138.728 368.552 135.649 373.158 Q132.593 377.741 126.783 377.741 Q120.973 377.741 117.894 373.158 Q114.839 368.552 114.839 359.825 Q114.839 351.075 117.894 346.492 Q120.973 341.885 126.783 341.885 Z\" fill=\"#000000\" fill-rule=\"evenodd\" fill-opacity=\"1\" /><path clip-path=\"url(#clip560)\" d=\"M146.945 371.19 L151.829 371.19 L151.829 377.07 L146.945 377.07 L146.945 371.19 Z\" fill=\"#000000\" fill-rule=\"evenodd\" fill-opacity=\"1\" /><path clip-path=\"url(#clip560)\" d=\"M172.014 360.658 Q168.681 360.658 166.76 362.44 Q164.862 364.223 164.862 367.348 Q164.862 370.473 166.76 372.255 Q168.681 374.038 172.014 374.038 Q175.348 374.038 177.269 372.255 Q179.19 370.45 179.19 367.348 Q179.19 364.223 177.269 362.44 Q175.371 360.658 172.014 360.658 M167.339 358.667 Q164.329 357.927 162.64 355.866 Q160.973 353.806 160.973 350.843 Q160.973 346.7 163.913 344.292 Q166.876 341.885 172.014 341.885 Q177.176 341.885 180.116 344.292 Q183.056 346.7 183.056 350.843 Q183.056 353.806 181.366 355.866 Q179.7 357.927 176.714 358.667 Q180.093 359.454 181.968 361.746 Q183.866 364.038 183.866 367.348 Q183.866 372.371 180.788 375.056 Q177.732 377.741 172.014 377.741 Q166.297 377.741 163.218 375.056 Q160.163 372.371 160.163 367.348 Q160.163 364.038 162.061 361.746 Q163.959 359.454 167.339 358.667 M165.626 351.283 Q165.626 353.968 167.292 355.473 Q168.982 356.978 172.014 356.978 Q175.024 356.978 176.714 355.473 Q178.426 353.968 178.426 351.283 Q178.426 348.598 176.714 347.093 Q175.024 345.589 172.014 345.589 Q168.982 345.589 167.292 347.093 Q165.626 348.598 165.626 351.283 Z\" fill=\"#000000\" fill-rule=\"evenodd\" fill-opacity=\"1\" /><path clip-path=\"url(#clip560)\" d=\"M117.501 99.5305 L125.14 99.5305 L125.14 73.1649 L116.83 74.8316 L116.83 70.5723 L125.093 68.9057 L129.769 68.9057 L129.769 99.5305 L137.408 99.5305 L137.408 103.466 L117.501 103.466 L117.501 99.5305 Z\" fill=\"#000000\" fill-rule=\"evenodd\" fill-opacity=\"1\" /><path clip-path=\"url(#clip560)\" d=\"M146.853 97.5861 L151.737 97.5861 L151.737 103.466 L146.853 103.466 L146.853 97.5861 Z\" fill=\"#000000\" fill-rule=\"evenodd\" fill-opacity=\"1\" /><path clip-path=\"url(#clip560)\" d=\"M171.922 71.9844 Q168.311 71.9844 166.482 75.5492 Q164.677 79.0908 164.677 86.2204 Q164.677 93.3268 166.482 96.8916 Q168.311 100.433 171.922 100.433 Q175.556 100.433 177.362 96.8916 Q179.19 93.3268 179.19 86.2204 Q179.19 79.0908 177.362 75.5492 Q175.556 71.9844 171.922 71.9844 M171.922 68.2807 Q177.732 68.2807 180.788 72.8871 Q183.866 77.4704 183.866 86.2204 Q183.866 94.9472 180.788 99.5537 Q177.732 104.137 171.922 104.137 Q166.112 104.137 163.033 99.5537 Q159.978 94.9472 159.978 86.2204 Q159.978 77.4704 163.033 72.8871 Q166.112 68.2807 171.922 68.2807 Z\" fill=\"#000000\" fill-rule=\"evenodd\" fill-opacity=\"1\" /><path clip-path=\"url(#clip560)\" d=\"M64.0042 877.167 L16.4842 895.309 L16.4842 888.594 L56.4926 873.539 L16.4842 858.452 L16.4842 851.768 L64.0042 869.878 L64.0042 877.167 Z\" fill=\"#000000\" fill-rule=\"evenodd\" fill-opacity=\"1\" /><path clip-path=\"url(#clip560)\" d=\"M46.0847 833.944 Q46.0847 841.042 47.7079 843.779 Q49.3312 846.516 53.2461 846.516 Q56.3653 846.516 58.2114 844.479 Q60.0256 842.41 60.0256 838.878 Q60.0256 834.008 56.5881 831.08 Q53.1188 828.119 47.3897 828.119 L46.0847 828.119 L46.0847 833.944 M43.6657 822.263 L64.0042 822.263 L64.0042 828.119 L58.5933 828.119 Q61.8398 830.125 63.3994 833.117 Q64.9272 836.108 64.9272 840.437 Q64.9272 845.912 61.8716 849.158 Q58.7843 852.373 53.6281 852.373 Q47.6125 852.373 44.5569 848.362 Q41.5014 844.32 41.5014 836.331 L41.5014 828.119 L40.9285 828.119 Q36.8862 828.119 34.6901 830.793 Q32.4621 833.435 32.4621 838.241 Q32.4621 841.296 33.1941 844.193 Q33.9262 847.089 35.3903 849.763 L29.9795 849.763 Q28.7381 846.548 28.1334 843.524 Q27.4968 840.501 27.4968 837.636 Q27.4968 829.902 31.5072 826.082 Q35.5176 822.263 43.6657 822.263 Z\" fill=\"#000000\" fill-rule=\"evenodd\" fill-opacity=\"1\" /><path clip-path=\"url(#clip560)\" d=\"M14.479 810.2 L14.479 804.344 L64.0042 804.344 L64.0042 810.2 L14.479 810.2 Z\" fill=\"#000000\" fill-rule=\"evenodd\" fill-opacity=\"1\" /><path clip-path=\"url(#clip560)\" d=\"M49.9359 792.694 L28.3562 792.694 L28.3562 786.838 L49.7131 786.838 Q54.7739 786.838 57.3202 784.864 Q59.8346 782.891 59.8346 778.944 Q59.8346 774.202 56.8109 771.465 Q53.7872 768.696 48.5673 768.696 L28.3562 768.696 L28.3562 762.839 L64.0042 762.839 L64.0042 768.696 L58.5296 768.696 Q61.7762 770.828 63.3676 773.661 Q64.9272 776.462 64.9272 780.186 Q64.9272 786.329 61.1078 789.511 Q57.2883 792.694 49.9359 792.694 M27.4968 777.958 L27.4968 777.958 Z\" fill=\"#000000\" fill-rule=\"evenodd\" fill-opacity=\"1\" /><path clip-path=\"url(#clip560)\" d=\"M44.7161 720.284 L47.5806 720.284 L47.5806 747.211 Q53.6281 746.829 56.8109 743.583 Q59.9619 740.305 59.9619 734.48 Q59.9619 731.106 59.1344 727.955 Q58.3069 724.772 56.6518 721.653 L62.1899 721.653 Q63.5267 724.804 64.227 728.114 Q64.9272 731.424 64.9272 734.83 Q64.9272 743.36 59.9619 748.357 Q54.9967 753.322 46.5303 753.322 Q37.7774 753.322 32.6531 748.612 Q27.4968 743.869 27.4968 735.849 Q27.4968 728.655 32.1438 724.486 Q36.7589 720.284 44.7161 720.284 M42.9973 726.141 Q38.1912 726.204 35.3266 728.846 Q32.4621 731.456 32.4621 735.785 Q32.4621 740.686 35.2312 743.647 Q38.0002 746.575 43.0292 747.02 L42.9973 726.141 Z\" fill=\"#000000\" fill-rule=\"evenodd\" fill-opacity=\"1\" /><path clip-path=\"url(#clip560)\" d=\"M32.4621 676.138 Q32.4621 680.849 36.1542 683.586 Q39.8145 686.323 46.212 686.323 Q52.6095 686.323 56.3017 683.618 Q59.9619 680.881 59.9619 676.138 Q59.9619 671.459 56.2698 668.722 Q52.5777 665.985 46.212 665.985 Q39.8781 665.985 36.186 668.722 Q32.4621 671.459 32.4621 676.138 M27.4968 676.138 Q27.4968 668.499 32.4621 664.139 Q37.4273 659.778 46.212 659.778 Q54.9649 659.778 59.9619 664.139 Q64.9272 668.499 64.9272 676.138 Q64.9272 683.809 59.9619 688.169 Q54.9649 692.498 46.212 692.498 Q37.4273 692.498 32.4621 688.169 Q27.4968 683.809 27.4968 676.138 Z\" fill=\"#000000\" fill-rule=\"evenodd\" fill-opacity=\"1\" /><path clip-path=\"url(#clip560)\" d=\"M14.479 632.024 L19.3487 632.024 L19.3487 637.626 Q19.3487 640.777 20.6219 642.018 Q21.895 643.228 25.2052 643.228 L28.3562 643.228 L28.3562 633.583 L32.9077 633.583 L32.9077 643.228 L64.0042 643.228 L64.0042 649.116 L32.9077 649.116 L32.9077 654.718 L28.3562 654.718 L28.3562 649.116 L25.8736 649.116 Q19.9216 649.116 17.2162 646.347 Q14.479 643.578 14.479 637.562 L14.479 632.024 Z\" fill=\"#000000\" fill-rule=\"evenodd\" fill-opacity=\"1\" /><path clip-path=\"url(#clip560)\" d=\"M28.3562 610.189 L28.3562 576.037 L34.2127 576.037 L34.2127 580.525 L56.1107 580.525 Q58.4023 580.525 59.4208 579.761 Q60.4075 578.966 60.4075 577.215 Q60.4075 576.738 60.3439 576.037 Q60.2484 575.337 60.2166 575.114 L64.4498 575.114 Q64.8635 576.228 65.0545 577.406 Q65.2455 578.584 65.2455 579.761 Q65.2455 583.581 63.1766 585.045 Q61.0759 586.509 55.4741 586.509 L34.2127 586.509 L34.2127 599.654 L64.0042 599.654 L64.0042 605.638 L34.2127 605.638 L34.2127 610.189 L28.3562 610.189 Z\" fill=\"#000000\" fill-rule=\"evenodd\" fill-opacity=\"1\" /><circle clip-path=\"url(#clip562)\" cx=\"280.231\" cy=\"1384.24\" r=\"14.4\" fill=\"#009af9\" fill-rule=\"evenodd\" fill-opacity=\"1\" stroke=\"#000000\" stroke-opacity=\"1\" stroke-width=\"3.2\"/>\n",
       "<circle clip-path=\"url(#clip562)\" cx=\"300.556\" cy=\"1379.52\" r=\"14.4\" fill=\"#009af9\" fill-rule=\"evenodd\" fill-opacity=\"1\" stroke=\"#000000\" stroke-opacity=\"1\" stroke-width=\"3.2\"/>\n",
       "<circle clip-path=\"url(#clip562)\" cx=\"320.881\" cy=\"1371.61\" r=\"14.4\" fill=\"#009af9\" fill-rule=\"evenodd\" fill-opacity=\"1\" stroke=\"#000000\" stroke-opacity=\"1\" stroke-width=\"3.2\"/>\n",
       "<circle clip-path=\"url(#clip562)\" cx=\"341.206\" cy=\"1360.47\" r=\"14.4\" fill=\"#009af9\" fill-rule=\"evenodd\" fill-opacity=\"1\" stroke=\"#000000\" stroke-opacity=\"1\" stroke-width=\"3.2\"/>\n",
       "<circle clip-path=\"url(#clip562)\" cx=\"361.53\" cy=\"1346\" r=\"14.4\" fill=\"#009af9\" fill-rule=\"evenodd\" fill-opacity=\"1\" stroke=\"#000000\" stroke-opacity=\"1\" stroke-width=\"3.2\"/>\n",
       "<circle clip-path=\"url(#clip562)\" cx=\"381.855\" cy=\"1328.14\" r=\"14.4\" fill=\"#009af9\" fill-rule=\"evenodd\" fill-opacity=\"1\" stroke=\"#000000\" stroke-opacity=\"1\" stroke-width=\"3.2\"/>\n",
       "<circle clip-path=\"url(#clip562)\" cx=\"402.18\" cy=\"1306.81\" r=\"14.4\" fill=\"#009af9\" fill-rule=\"evenodd\" fill-opacity=\"1\" stroke=\"#000000\" stroke-opacity=\"1\" stroke-width=\"3.2\"/>\n",
       "<circle clip-path=\"url(#clip562)\" cx=\"422.505\" cy=\"1281.94\" r=\"14.4\" fill=\"#009af9\" fill-rule=\"evenodd\" fill-opacity=\"1\" stroke=\"#000000\" stroke-opacity=\"1\" stroke-width=\"3.2\"/>\n",
       "<circle clip-path=\"url(#clip562)\" cx=\"442.83\" cy=\"1253.52\" r=\"14.4\" fill=\"#009af9\" fill-rule=\"evenodd\" fill-opacity=\"1\" stroke=\"#000000\" stroke-opacity=\"1\" stroke-width=\"3.2\"/>\n",
       "<circle clip-path=\"url(#clip562)\" cx=\"463.155\" cy=\"1221.54\" r=\"14.4\" fill=\"#009af9\" fill-rule=\"evenodd\" fill-opacity=\"1\" stroke=\"#000000\" stroke-opacity=\"1\" stroke-width=\"3.2\"/>\n",
       "<circle clip-path=\"url(#clip562)\" cx=\"483.48\" cy=\"1186.06\" r=\"14.4\" fill=\"#009af9\" fill-rule=\"evenodd\" fill-opacity=\"1\" stroke=\"#000000\" stroke-opacity=\"1\" stroke-width=\"3.2\"/>\n",
       "<circle clip-path=\"url(#clip562)\" cx=\"503.804\" cy=\"1147.19\" r=\"14.4\" fill=\"#009af9\" fill-rule=\"evenodd\" fill-opacity=\"1\" stroke=\"#000000\" stroke-opacity=\"1\" stroke-width=\"3.2\"/>\n",
       "<circle clip-path=\"url(#clip562)\" cx=\"524.129\" cy=\"1105.09\" r=\"14.4\" fill=\"#009af9\" fill-rule=\"evenodd\" fill-opacity=\"1\" stroke=\"#000000\" stroke-opacity=\"1\" stroke-width=\"3.2\"/>\n",
       "<circle clip-path=\"url(#clip562)\" cx=\"544.454\" cy=\"1060.02\" r=\"14.4\" fill=\"#009af9\" fill-rule=\"evenodd\" fill-opacity=\"1\" stroke=\"#000000\" stroke-opacity=\"1\" stroke-width=\"3.2\"/>\n",
       "<circle clip-path=\"url(#clip562)\" cx=\"564.779\" cy=\"1012.28\" r=\"14.4\" fill=\"#009af9\" fill-rule=\"evenodd\" fill-opacity=\"1\" stroke=\"#000000\" stroke-opacity=\"1\" stroke-width=\"3.2\"/>\n",
       "<circle clip-path=\"url(#clip562)\" cx=\"585.104\" cy=\"962.236\" r=\"14.4\" fill=\"#009af9\" fill-rule=\"evenodd\" fill-opacity=\"1\" stroke=\"#000000\" stroke-opacity=\"1\" stroke-width=\"3.2\"/>\n",
       "<circle clip-path=\"url(#clip562)\" cx=\"605.429\" cy=\"910.493\" r=\"14.4\" fill=\"#009af9\" fill-rule=\"evenodd\" fill-opacity=\"1\" stroke=\"#000000\" stroke-opacity=\"1\" stroke-width=\"3.2\"/>\n",
       "<circle clip-path=\"url(#clip562)\" cx=\"625.753\" cy=\"857.128\" r=\"14.4\" fill=\"#009af9\" fill-rule=\"evenodd\" fill-opacity=\"1\" stroke=\"#000000\" stroke-opacity=\"1\" stroke-width=\"3.2\"/>\n",
       "<circle clip-path=\"url(#clip562)\" cx=\"646.078\" cy=\"802.903\" r=\"14.4\" fill=\"#009af9\" fill-rule=\"evenodd\" fill-opacity=\"1\" stroke=\"#000000\" stroke-opacity=\"1\" stroke-width=\"3.2\"/>\n",
       "<circle clip-path=\"url(#clip562)\" cx=\"666.403\" cy=\"748.301\" r=\"14.4\" fill=\"#009af9\" fill-rule=\"evenodd\" fill-opacity=\"1\" stroke=\"#000000\" stroke-opacity=\"1\" stroke-width=\"3.2\"/>\n",
       "<circle clip-path=\"url(#clip562)\" cx=\"686.728\" cy=\"693.986\" r=\"14.4\" fill=\"#009af9\" fill-rule=\"evenodd\" fill-opacity=\"1\" stroke=\"#000000\" stroke-opacity=\"1\" stroke-width=\"3.2\"/>\n",
       "<circle clip-path=\"url(#clip562)\" cx=\"707.053\" cy=\"640.42\" r=\"14.4\" fill=\"#009af9\" fill-rule=\"evenodd\" fill-opacity=\"1\" stroke=\"#000000\" stroke-opacity=\"1\" stroke-width=\"3.2\"/>\n",
       "<circle clip-path=\"url(#clip562)\" cx=\"727.378\" cy=\"588.119\" r=\"14.4\" fill=\"#009af9\" fill-rule=\"evenodd\" fill-opacity=\"1\" stroke=\"#000000\" stroke-opacity=\"1\" stroke-width=\"3.2\"/>\n",
       "<circle clip-path=\"url(#clip562)\" cx=\"747.703\" cy=\"537.563\" r=\"14.4\" fill=\"#009af9\" fill-rule=\"evenodd\" fill-opacity=\"1\" stroke=\"#000000\" stroke-opacity=\"1\" stroke-width=\"3.2\"/>\n",
       "<circle clip-path=\"url(#clip562)\" cx=\"768.027\" cy=\"489.18\" r=\"14.4\" fill=\"#009af9\" fill-rule=\"evenodd\" fill-opacity=\"1\" stroke=\"#000000\" stroke-opacity=\"1\" stroke-width=\"3.2\"/>\n",
       "<circle clip-path=\"url(#clip562)\" cx=\"788.352\" cy=\"443.338\" r=\"14.4\" fill=\"#009af9\" fill-rule=\"evenodd\" fill-opacity=\"1\" stroke=\"#000000\" stroke-opacity=\"1\" stroke-width=\"3.2\"/>\n",
       "<circle clip-path=\"url(#clip562)\" cx=\"808.677\" cy=\"400.293\" r=\"14.4\" fill=\"#009af9\" fill-rule=\"evenodd\" fill-opacity=\"1\" stroke=\"#000000\" stroke-opacity=\"1\" stroke-width=\"3.2\"/>\n",
       "<circle clip-path=\"url(#clip562)\" cx=\"829.002\" cy=\"360.396\" r=\"14.4\" fill=\"#009af9\" fill-rule=\"evenodd\" fill-opacity=\"1\" stroke=\"#000000\" stroke-opacity=\"1\" stroke-width=\"3.2\"/>\n",
       "<circle clip-path=\"url(#clip562)\" cx=\"849.327\" cy=\"323.674\" r=\"14.4\" fill=\"#009af9\" fill-rule=\"evenodd\" fill-opacity=\"1\" stroke=\"#000000\" stroke-opacity=\"1\" stroke-width=\"3.2\"/>\n",
       "<circle clip-path=\"url(#clip562)\" cx=\"869.652\" cy=\"290.242\" r=\"14.4\" fill=\"#009af9\" fill-rule=\"evenodd\" fill-opacity=\"1\" stroke=\"#000000\" stroke-opacity=\"1\" stroke-width=\"3.2\"/>\n",
       "<circle clip-path=\"url(#clip562)\" cx=\"889.977\" cy=\"260.11\" r=\"14.4\" fill=\"#009af9\" fill-rule=\"evenodd\" fill-opacity=\"1\" stroke=\"#000000\" stroke-opacity=\"1\" stroke-width=\"3.2\"/>\n",
       "<circle clip-path=\"url(#clip562)\" cx=\"910.301\" cy=\"233.222\" r=\"14.4\" fill=\"#009af9\" fill-rule=\"evenodd\" fill-opacity=\"1\" stroke=\"#000000\" stroke-opacity=\"1\" stroke-width=\"3.2\"/>\n",
       "<circle clip-path=\"url(#clip562)\" cx=\"930.626\" cy=\"209.467\" r=\"14.4\" fill=\"#009af9\" fill-rule=\"evenodd\" fill-opacity=\"1\" stroke=\"#000000\" stroke-opacity=\"1\" stroke-width=\"3.2\"/>\n",
       "<circle clip-path=\"url(#clip562)\" cx=\"950.951\" cy=\"188.69\" r=\"14.4\" fill=\"#009af9\" fill-rule=\"evenodd\" fill-opacity=\"1\" stroke=\"#000000\" stroke-opacity=\"1\" stroke-width=\"3.2\"/>\n",
       "<circle clip-path=\"url(#clip562)\" cx=\"971.276\" cy=\"170.696\" r=\"14.4\" fill=\"#009af9\" fill-rule=\"evenodd\" fill-opacity=\"1\" stroke=\"#000000\" stroke-opacity=\"1\" stroke-width=\"3.2\"/>\n",
       "<circle clip-path=\"url(#clip562)\" cx=\"991.601\" cy=\"155.269\" r=\"14.4\" fill=\"#009af9\" fill-rule=\"evenodd\" fill-opacity=\"1\" stroke=\"#000000\" stroke-opacity=\"1\" stroke-width=\"3.2\"/>\n",
       "<circle clip-path=\"url(#clip562)\" cx=\"1011.93\" cy=\"142.174\" r=\"14.4\" fill=\"#009af9\" fill-rule=\"evenodd\" fill-opacity=\"1\" stroke=\"#000000\" stroke-opacity=\"1\" stroke-width=\"3.2\"/>\n",
       "<circle clip-path=\"url(#clip562)\" cx=\"1032.25\" cy=\"131.168\" r=\"14.4\" fill=\"#009af9\" fill-rule=\"evenodd\" fill-opacity=\"1\" stroke=\"#000000\" stroke-opacity=\"1\" stroke-width=\"3.2\"/>\n",
       "<circle clip-path=\"url(#clip562)\" cx=\"1052.58\" cy=\"122.011\" r=\"14.4\" fill=\"#009af9\" fill-rule=\"evenodd\" fill-opacity=\"1\" stroke=\"#000000\" stroke-opacity=\"1\" stroke-width=\"3.2\"/>\n",
       "<circle clip-path=\"url(#clip562)\" cx=\"1072.9\" cy=\"114.467\" r=\"14.4\" fill=\"#009af9\" fill-rule=\"evenodd\" fill-opacity=\"1\" stroke=\"#000000\" stroke-opacity=\"1\" stroke-width=\"3.2\"/>\n",
       "<circle clip-path=\"url(#clip562)\" cx=\"1093.23\" cy=\"108.315\" r=\"14.4\" fill=\"#009af9\" fill-rule=\"evenodd\" fill-opacity=\"1\" stroke=\"#000000\" stroke-opacity=\"1\" stroke-width=\"3.2\"/>\n",
       "<circle clip-path=\"url(#clip562)\" cx=\"1113.55\" cy=\"103.347\" r=\"14.4\" fill=\"#009af9\" fill-rule=\"evenodd\" fill-opacity=\"1\" stroke=\"#000000\" stroke-opacity=\"1\" stroke-width=\"3.2\"/>\n",
       "<circle clip-path=\"url(#clip562)\" cx=\"1133.87\" cy=\"99.3747\" r=\"14.4\" fill=\"#009af9\" fill-rule=\"evenodd\" fill-opacity=\"1\" stroke=\"#000000\" stroke-opacity=\"1\" stroke-width=\"3.2\"/>\n",
       "<circle clip-path=\"url(#clip562)\" cx=\"1154.2\" cy=\"96.2309\" r=\"14.4\" fill=\"#009af9\" fill-rule=\"evenodd\" fill-opacity=\"1\" stroke=\"#000000\" stroke-opacity=\"1\" stroke-width=\"3.2\"/>\n",
       "<circle clip-path=\"url(#clip562)\" cx=\"1174.52\" cy=\"93.7673\" r=\"14.4\" fill=\"#009af9\" fill-rule=\"evenodd\" fill-opacity=\"1\" stroke=\"#000000\" stroke-opacity=\"1\" stroke-width=\"3.2\"/>\n",
       "<circle clip-path=\"url(#clip562)\" cx=\"1194.85\" cy=\"91.8559\" r=\"14.4\" fill=\"#009af9\" fill-rule=\"evenodd\" fill-opacity=\"1\" stroke=\"#000000\" stroke-opacity=\"1\" stroke-width=\"3.2\"/>\n",
       "<circle clip-path=\"url(#clip562)\" cx=\"1215.17\" cy=\"90.3877\" r=\"14.4\" fill=\"#009af9\" fill-rule=\"evenodd\" fill-opacity=\"1\" stroke=\"#000000\" stroke-opacity=\"1\" stroke-width=\"3.2\"/>\n",
       "<circle clip-path=\"url(#clip562)\" cx=\"1235.5\" cy=\"89.2711\" r=\"14.4\" fill=\"#009af9\" fill-rule=\"evenodd\" fill-opacity=\"1\" stroke=\"#000000\" stroke-opacity=\"1\" stroke-width=\"3.2\"/>\n",
       "<circle clip-path=\"url(#clip562)\" cx=\"1255.82\" cy=\"88.4304\" r=\"14.4\" fill=\"#009af9\" fill-rule=\"evenodd\" fill-opacity=\"1\" stroke=\"#000000\" stroke-opacity=\"1\" stroke-width=\"3.2\"/>\n",
       "<circle clip-path=\"url(#clip562)\" cx=\"1276.15\" cy=\"87.8037\" r=\"14.4\" fill=\"#009af9\" fill-rule=\"evenodd\" fill-opacity=\"1\" stroke=\"#000000\" stroke-opacity=\"1\" stroke-width=\"3.2\"/>\n",
       "<circle clip-path=\"url(#clip562)\" cx=\"1296.47\" cy=\"87.3412\" r=\"14.4\" fill=\"#009af9\" fill-rule=\"evenodd\" fill-opacity=\"1\" stroke=\"#000000\" stroke-opacity=\"1\" stroke-width=\"3.2\"/>\n",
       "<circle clip-path=\"url(#clip562)\" cx=\"1316.8\" cy=\"87.0032\" r=\"14.4\" fill=\"#009af9\" fill-rule=\"evenodd\" fill-opacity=\"1\" stroke=\"#000000\" stroke-opacity=\"1\" stroke-width=\"3.2\"/>\n",
       "<circle clip-path=\"url(#clip562)\" cx=\"1337.12\" cy=\"86.7586\" r=\"14.4\" fill=\"#009af9\" fill-rule=\"evenodd\" fill-opacity=\"1\" stroke=\"#000000\" stroke-opacity=\"1\" stroke-width=\"3.2\"/>\n",
       "<circle clip-path=\"url(#clip562)\" cx=\"1357.45\" cy=\"86.5835\" r=\"14.4\" fill=\"#009af9\" fill-rule=\"evenodd\" fill-opacity=\"1\" stroke=\"#000000\" stroke-opacity=\"1\" stroke-width=\"3.2\"/>\n",
       "<circle clip-path=\"url(#clip562)\" cx=\"1377.77\" cy=\"86.4593\" r=\"14.4\" fill=\"#009af9\" fill-rule=\"evenodd\" fill-opacity=\"1\" stroke=\"#000000\" stroke-opacity=\"1\" stroke-width=\"3.2\"/>\n",
       "<circle clip-path=\"url(#clip562)\" cx=\"1398.1\" cy=\"86.3721\" r=\"14.4\" fill=\"#009af9\" fill-rule=\"evenodd\" fill-opacity=\"1\" stroke=\"#000000\" stroke-opacity=\"1\" stroke-width=\"3.2\"/>\n",
       "<circle clip-path=\"url(#clip562)\" cx=\"1418.42\" cy=\"86.3149\" r=\"14.4\" fill=\"#009af9\" fill-rule=\"evenodd\" fill-opacity=\"1\" stroke=\"#000000\" stroke-opacity=\"1\" stroke-width=\"3.2\"/>\n",
       "<circle clip-path=\"url(#clip562)\" cx=\"1438.75\" cy=\"86.2698\" r=\"14.4\" fill=\"#009af9\" fill-rule=\"evenodd\" fill-opacity=\"1\" stroke=\"#000000\" stroke-opacity=\"1\" stroke-width=\"3.2\"/>\n",
       "<circle clip-path=\"url(#clip562)\" cx=\"1459.07\" cy=\"86.2414\" r=\"14.4\" fill=\"#009af9\" fill-rule=\"evenodd\" fill-opacity=\"1\" stroke=\"#000000\" stroke-opacity=\"1\" stroke-width=\"3.2\"/>\n",
       "<circle clip-path=\"url(#clip562)\" cx=\"1479.4\" cy=\"86.2222\" r=\"14.4\" fill=\"#009af9\" fill-rule=\"evenodd\" fill-opacity=\"1\" stroke=\"#000000\" stroke-opacity=\"1\" stroke-width=\"3.2\"/>\n",
       "<circle clip-path=\"url(#clip562)\" cx=\"1499.72\" cy=\"86.2094\" r=\"14.4\" fill=\"#009af9\" fill-rule=\"evenodd\" fill-opacity=\"1\" stroke=\"#000000\" stroke-opacity=\"1\" stroke-width=\"3.2\"/>\n",
       "<circle clip-path=\"url(#clip562)\" cx=\"1520.05\" cy=\"86.201\" r=\"14.4\" fill=\"#009af9\" fill-rule=\"evenodd\" fill-opacity=\"1\" stroke=\"#000000\" stroke-opacity=\"1\" stroke-width=\"3.2\"/>\n",
       "<circle clip-path=\"url(#clip562)\" cx=\"1540.37\" cy=\"86.1954\" r=\"14.4\" fill=\"#009af9\" fill-rule=\"evenodd\" fill-opacity=\"1\" stroke=\"#000000\" stroke-opacity=\"1\" stroke-width=\"3.2\"/>\n",
       "<circle clip-path=\"url(#clip562)\" cx=\"1560.7\" cy=\"86.1918\" r=\"14.4\" fill=\"#009af9\" fill-rule=\"evenodd\" fill-opacity=\"1\" stroke=\"#000000\" stroke-opacity=\"1\" stroke-width=\"3.2\"/>\n",
       "<circle clip-path=\"url(#clip562)\" cx=\"1581.02\" cy=\"86.1895\" r=\"14.4\" fill=\"#009af9\" fill-rule=\"evenodd\" fill-opacity=\"1\" stroke=\"#000000\" stroke-opacity=\"1\" stroke-width=\"3.2\"/>\n",
       "<circle clip-path=\"url(#clip562)\" cx=\"1601.35\" cy=\"86.1881\" r=\"14.4\" fill=\"#009af9\" fill-rule=\"evenodd\" fill-opacity=\"1\" stroke=\"#000000\" stroke-opacity=\"1\" stroke-width=\"3.2\"/>\n",
       "<circle clip-path=\"url(#clip562)\" cx=\"1621.67\" cy=\"86.1871\" r=\"14.4\" fill=\"#009af9\" fill-rule=\"evenodd\" fill-opacity=\"1\" stroke=\"#000000\" stroke-opacity=\"1\" stroke-width=\"3.2\"/>\n",
       "<circle clip-path=\"url(#clip562)\" cx=\"1642\" cy=\"86.1866\" r=\"14.4\" fill=\"#009af9\" fill-rule=\"evenodd\" fill-opacity=\"1\" stroke=\"#000000\" stroke-opacity=\"1\" stroke-width=\"3.2\"/>\n",
       "<circle clip-path=\"url(#clip562)\" cx=\"1662.32\" cy=\"86.1862\" r=\"14.4\" fill=\"#009af9\" fill-rule=\"evenodd\" fill-opacity=\"1\" stroke=\"#000000\" stroke-opacity=\"1\" stroke-width=\"3.2\"/>\n",
       "<circle clip-path=\"url(#clip562)\" cx=\"1682.65\" cy=\"86.186\" r=\"14.4\" fill=\"#009af9\" fill-rule=\"evenodd\" fill-opacity=\"1\" stroke=\"#000000\" stroke-opacity=\"1\" stroke-width=\"3.2\"/>\n",
       "<circle clip-path=\"url(#clip562)\" cx=\"1702.97\" cy=\"86.1859\" r=\"14.4\" fill=\"#009af9\" fill-rule=\"evenodd\" fill-opacity=\"1\" stroke=\"#000000\" stroke-opacity=\"1\" stroke-width=\"3.2\"/>\n",
       "<circle clip-path=\"url(#clip562)\" cx=\"1723.3\" cy=\"86.1858\" r=\"14.4\" fill=\"#009af9\" fill-rule=\"evenodd\" fill-opacity=\"1\" stroke=\"#000000\" stroke-opacity=\"1\" stroke-width=\"3.2\"/>\n",
       "<circle clip-path=\"url(#clip562)\" cx=\"1743.62\" cy=\"86.1857\" r=\"14.4\" fill=\"#009af9\" fill-rule=\"evenodd\" fill-opacity=\"1\" stroke=\"#000000\" stroke-opacity=\"1\" stroke-width=\"3.2\"/>\n",
       "<circle clip-path=\"url(#clip562)\" cx=\"1763.95\" cy=\"86.1857\" r=\"14.4\" fill=\"#009af9\" fill-rule=\"evenodd\" fill-opacity=\"1\" stroke=\"#000000\" stroke-opacity=\"1\" stroke-width=\"3.2\"/>\n",
       "<circle clip-path=\"url(#clip562)\" cx=\"1784.27\" cy=\"86.1857\" r=\"14.4\" fill=\"#009af9\" fill-rule=\"evenodd\" fill-opacity=\"1\" stroke=\"#000000\" stroke-opacity=\"1\" stroke-width=\"3.2\"/>\n",
       "<circle clip-path=\"url(#clip562)\" cx=\"1804.59\" cy=\"86.1857\" r=\"14.4\" fill=\"#009af9\" fill-rule=\"evenodd\" fill-opacity=\"1\" stroke=\"#000000\" stroke-opacity=\"1\" stroke-width=\"3.2\"/>\n",
       "<circle clip-path=\"url(#clip562)\" cx=\"1824.92\" cy=\"86.1857\" r=\"14.4\" fill=\"#009af9\" fill-rule=\"evenodd\" fill-opacity=\"1\" stroke=\"#000000\" stroke-opacity=\"1\" stroke-width=\"3.2\"/>\n",
       "<circle clip-path=\"url(#clip562)\" cx=\"1845.24\" cy=\"86.1857\" r=\"14.4\" fill=\"#009af9\" fill-rule=\"evenodd\" fill-opacity=\"1\" stroke=\"#000000\" stroke-opacity=\"1\" stroke-width=\"3.2\"/>\n",
       "<circle clip-path=\"url(#clip562)\" cx=\"1865.57\" cy=\"86.1857\" r=\"14.4\" fill=\"#009af9\" fill-rule=\"evenodd\" fill-opacity=\"1\" stroke=\"#000000\" stroke-opacity=\"1\" stroke-width=\"3.2\"/>\n",
       "<circle clip-path=\"url(#clip562)\" cx=\"1885.89\" cy=\"86.1857\" r=\"14.4\" fill=\"#009af9\" fill-rule=\"evenodd\" fill-opacity=\"1\" stroke=\"#000000\" stroke-opacity=\"1\" stroke-width=\"3.2\"/>\n",
       "<circle clip-path=\"url(#clip562)\" cx=\"1906.22\" cy=\"86.1857\" r=\"14.4\" fill=\"#009af9\" fill-rule=\"evenodd\" fill-opacity=\"1\" stroke=\"#000000\" stroke-opacity=\"1\" stroke-width=\"3.2\"/>\n",
       "<circle clip-path=\"url(#clip562)\" cx=\"1926.54\" cy=\"86.1857\" r=\"14.4\" fill=\"#009af9\" fill-rule=\"evenodd\" fill-opacity=\"1\" stroke=\"#000000\" stroke-opacity=\"1\" stroke-width=\"3.2\"/>\n",
       "<circle clip-path=\"url(#clip562)\" cx=\"1946.87\" cy=\"86.1857\" r=\"14.4\" fill=\"#009af9\" fill-rule=\"evenodd\" fill-opacity=\"1\" stroke=\"#000000\" stroke-opacity=\"1\" stroke-width=\"3.2\"/>\n",
       "<circle clip-path=\"url(#clip562)\" cx=\"1967.19\" cy=\"86.1857\" r=\"14.4\" fill=\"#009af9\" fill-rule=\"evenodd\" fill-opacity=\"1\" stroke=\"#000000\" stroke-opacity=\"1\" stroke-width=\"3.2\"/>\n",
       "<circle clip-path=\"url(#clip562)\" cx=\"1987.52\" cy=\"86.1857\" r=\"14.4\" fill=\"#009af9\" fill-rule=\"evenodd\" fill-opacity=\"1\" stroke=\"#000000\" stroke-opacity=\"1\" stroke-width=\"3.2\"/>\n",
       "<circle clip-path=\"url(#clip562)\" cx=\"2007.84\" cy=\"86.1857\" r=\"14.4\" fill=\"#009af9\" fill-rule=\"evenodd\" fill-opacity=\"1\" stroke=\"#000000\" stroke-opacity=\"1\" stroke-width=\"3.2\"/>\n",
       "<circle clip-path=\"url(#clip562)\" cx=\"2028.17\" cy=\"86.1857\" r=\"14.4\" fill=\"#009af9\" fill-rule=\"evenodd\" fill-opacity=\"1\" stroke=\"#000000\" stroke-opacity=\"1\" stroke-width=\"3.2\"/>\n",
       "<circle clip-path=\"url(#clip562)\" cx=\"2048.49\" cy=\"86.1857\" r=\"14.4\" fill=\"#009af9\" fill-rule=\"evenodd\" fill-opacity=\"1\" stroke=\"#000000\" stroke-opacity=\"1\" stroke-width=\"3.2\"/>\n",
       "<circle clip-path=\"url(#clip562)\" cx=\"2068.82\" cy=\"86.1857\" r=\"14.4\" fill=\"#009af9\" fill-rule=\"evenodd\" fill-opacity=\"1\" stroke=\"#000000\" stroke-opacity=\"1\" stroke-width=\"3.2\"/>\n",
       "<circle clip-path=\"url(#clip562)\" cx=\"2089.14\" cy=\"86.1857\" r=\"14.4\" fill=\"#009af9\" fill-rule=\"evenodd\" fill-opacity=\"1\" stroke=\"#000000\" stroke-opacity=\"1\" stroke-width=\"3.2\"/>\n",
       "<circle clip-path=\"url(#clip562)\" cx=\"2109.47\" cy=\"86.1857\" r=\"14.4\" fill=\"#009af9\" fill-rule=\"evenodd\" fill-opacity=\"1\" stroke=\"#000000\" stroke-opacity=\"1\" stroke-width=\"3.2\"/>\n",
       "<circle clip-path=\"url(#clip562)\" cx=\"2129.79\" cy=\"86.1857\" r=\"14.4\" fill=\"#009af9\" fill-rule=\"evenodd\" fill-opacity=\"1\" stroke=\"#000000\" stroke-opacity=\"1\" stroke-width=\"3.2\"/>\n",
       "<circle clip-path=\"url(#clip562)\" cx=\"2150.12\" cy=\"86.1857\" r=\"14.4\" fill=\"#009af9\" fill-rule=\"evenodd\" fill-opacity=\"1\" stroke=\"#000000\" stroke-opacity=\"1\" stroke-width=\"3.2\"/>\n",
       "<circle clip-path=\"url(#clip562)\" cx=\"2170.44\" cy=\"86.1857\" r=\"14.4\" fill=\"#009af9\" fill-rule=\"evenodd\" fill-opacity=\"1\" stroke=\"#000000\" stroke-opacity=\"1\" stroke-width=\"3.2\"/>\n",
       "<circle clip-path=\"url(#clip562)\" cx=\"2190.77\" cy=\"86.1857\" r=\"14.4\" fill=\"#009af9\" fill-rule=\"evenodd\" fill-opacity=\"1\" stroke=\"#000000\" stroke-opacity=\"1\" stroke-width=\"3.2\"/>\n",
       "<circle clip-path=\"url(#clip562)\" cx=\"2211.09\" cy=\"86.1857\" r=\"14.4\" fill=\"#009af9\" fill-rule=\"evenodd\" fill-opacity=\"1\" stroke=\"#000000\" stroke-opacity=\"1\" stroke-width=\"3.2\"/>\n",
       "<circle clip-path=\"url(#clip562)\" cx=\"2231.42\" cy=\"86.1857\" r=\"14.4\" fill=\"#009af9\" fill-rule=\"evenodd\" fill-opacity=\"1\" stroke=\"#000000\" stroke-opacity=\"1\" stroke-width=\"3.2\"/>\n",
       "<circle clip-path=\"url(#clip562)\" cx=\"2251.74\" cy=\"86.1857\" r=\"14.4\" fill=\"#009af9\" fill-rule=\"evenodd\" fill-opacity=\"1\" stroke=\"#000000\" stroke-opacity=\"1\" stroke-width=\"3.2\"/>\n",
       "<circle clip-path=\"url(#clip562)\" cx=\"2272.07\" cy=\"86.1857\" r=\"14.4\" fill=\"#009af9\" fill-rule=\"evenodd\" fill-opacity=\"1\" stroke=\"#000000\" stroke-opacity=\"1\" stroke-width=\"3.2\"/>\n",
       "<circle clip-path=\"url(#clip562)\" cx=\"2292.39\" cy=\"86.1857\" r=\"14.4\" fill=\"#009af9\" fill-rule=\"evenodd\" fill-opacity=\"1\" stroke=\"#000000\" stroke-opacity=\"1\" stroke-width=\"3.2\"/>\n",
       "<polyline clip-path=\"url(#clip562)\" style=\"stroke:#e26f46; stroke-linecap:round; stroke-linejoin:round; stroke-width:4; stroke-opacity:1; fill:none\" points=\"\n",
       "  280.231,1384.24 300.556,1379.52 320.881,1371.62 341.206,1360.47 361.53,1346 381.855,1328.14 402.18,1306.81 422.505,1281.94 442.83,1253.52 463.155,1221.54 \n",
       "  483.48,1186.06 503.804,1147.19 524.129,1105.09 544.454,1060.02 564.779,1012.28 585.104,962.236 605.429,910.32 625.753,857.012 646.078,802.825 666.403,748.301 \n",
       "  686.728,693.986 707.053,640.42 727.378,588.119 747.703,537.563 768.027,489.18 788.352,443.338 808.677,400.335 829.002,360.396 849.327,323.673 869.652,290.241 \n",
       "  889.977,260.11 910.301,233.222 930.626,209.467 950.951,188.69 971.276,170.696 991.601,155.269 1011.93,142.174 1032.25,131.168 1052.58,122.011 1072.9,114.467 \n",
       "  1093.23,108.315 1113.55,103.347 1133.87,99.3747 1154.2,96.2309 1174.52,93.7673 1194.85,91.8559 1215.17,90.3877 1235.5,89.2711 1255.82,88.4304 1276.15,87.8037 \n",
       "  1296.47,87.3412 1316.8,87.0032 1337.12,86.7587 1357.45,86.5835 1377.77,86.4593 1398.1,86.3721 1418.42,86.3115 1438.75,86.2698 1459.07,86.2414 1479.4,86.2222 \n",
       "  1499.72,86.2094 1520.05,86.201 1540.37,86.1954 1560.7,86.1918 1581.02,86.1895 1601.35,86.1881 1621.67,86.1871 1642,86.1866 1662.32,86.1862 1682.65,86.186 \n",
       "  1702.97,86.1859 1723.3,86.1858 1743.62,86.1857 1763.95,86.1857 1784.27,86.1857 1804.59,86.1857 1824.92,86.1857 1845.24,86.1857 1865.57,86.1857 1885.89,86.1857 \n",
       "  1906.22,86.1857 1926.54,86.1857 1946.87,86.1857 1967.19,86.1857 1987.52,86.1857 2007.84,86.1857 2028.17,86.1857 2048.49,86.1857 2068.82,86.1857 2089.14,86.1857 \n",
       "  2109.47,86.1857 2129.79,86.1857 2150.12,86.1857 2170.44,86.1857 2190.77,86.1857 2211.09,86.1857 2231.42,86.1857 2251.74,86.1857 2272.07,86.1857 2292.39,86.1857 \n",
       "  \n",
       "  \"/>\n",
       "<path clip-path=\"url(#clip560)\" d=\"\n",
       "M1841.8 1377.32 L2281.66 1377.32 L2281.66 1221.8 L1841.8 1221.8  Z\n",
       "  \" fill=\"#ffffff\" fill-rule=\"evenodd\" fill-opacity=\"1\"/>\n",
       "<polyline clip-path=\"url(#clip560)\" style=\"stroke:#000000; stroke-linecap:round; stroke-linejoin:round; stroke-width:4; stroke-opacity:1; fill:none\" points=\"\n",
       "  1841.8,1377.32 2281.66,1377.32 2281.66,1221.8 1841.8,1221.8 1841.8,1377.32 \n",
       "  \"/>\n",
       "<circle clip-path=\"url(#clip560)\" cx=\"1936.6\" cy=\"1273.64\" r=\"23.04\" fill=\"#009af9\" fill-rule=\"evenodd\" fill-opacity=\"1\" stroke=\"#000000\" stroke-opacity=\"1\" stroke-width=\"5.12\"/>\n",
       "<path clip-path=\"url(#clip560)\" d=\"M2047.41 1259.53 Q2042.32 1259.53 2039.31 1263.32 Q2036.32 1267.12 2036.32 1273.67 Q2036.32 1280.2 2039.31 1283.99 Q2042.32 1287.79 2047.41 1287.79 Q2052.5 1287.79 2055.47 1283.99 Q2058.45 1280.2 2058.45 1273.67 Q2058.45 1267.12 2055.47 1263.32 Q2052.5 1259.53 2047.41 1259.53 M2047.41 1255.73 Q2054.68 1255.73 2059.03 1260.61 Q2063.38 1265.48 2063.38 1273.67 Q2063.38 1281.84 2059.03 1286.73 Q2054.68 1291.59 2047.41 1291.59 Q2040.12 1291.59 2035.74 1286.73 Q2031.39 1281.86 2031.39 1273.67 Q2031.39 1265.48 2035.74 1260.61 Q2040.12 1255.73 2047.41 1255.73 Z\" fill=\"#000000\" fill-rule=\"evenodd\" fill-opacity=\"1\" /><path clip-path=\"url(#clip560)\" d=\"M2070.07 1280.68 L2070.07 1264.99 L2074.33 1264.99 L2074.33 1280.52 Q2074.33 1284.2 2075.77 1286.05 Q2077.2 1287.88 2080.07 1287.88 Q2083.52 1287.88 2085.51 1285.68 Q2087.53 1283.48 2087.53 1279.69 L2087.53 1264.99 L2091.79 1264.99 L2091.79 1290.92 L2087.53 1290.92 L2087.53 1286.93 Q2085.98 1289.29 2083.92 1290.45 Q2081.88 1291.59 2079.17 1291.59 Q2074.7 1291.59 2072.39 1288.81 Q2070.07 1286.03 2070.07 1280.68 M2080.79 1264.36 L2080.79 1264.36 Z\" fill=\"#000000\" fill-rule=\"evenodd\" fill-opacity=\"1\" /><path clip-path=\"url(#clip560)\" d=\"M2104.77 1257.63 L2104.77 1264.99 L2113.55 1264.99 L2113.55 1268.3 L2104.77 1268.3 L2104.77 1282.37 Q2104.77 1285.54 2105.63 1286.45 Q2106.51 1287.35 2109.17 1287.35 L2113.55 1287.35 L2113.55 1290.92 L2109.17 1290.92 Q2104.24 1290.92 2102.36 1289.09 Q2100.49 1287.23 2100.49 1282.37 L2100.49 1268.3 L2097.36 1268.3 L2097.36 1264.99 L2100.49 1264.99 L2100.49 1257.63 L2104.77 1257.63 Z\" fill=\"#000000\" fill-rule=\"evenodd\" fill-opacity=\"1\" /><path clip-path=\"url(#clip560)\" d=\"M2123.27 1287.03 L2123.27 1300.78 L2118.98 1300.78 L2118.98 1264.99 L2123.27 1264.99 L2123.27 1268.92 Q2124.61 1266.61 2126.65 1265.5 Q2128.71 1264.36 2131.55 1264.36 Q2136.28 1264.36 2139.22 1268.11 Q2142.18 1271.86 2142.18 1277.98 Q2142.18 1284.09 2139.22 1287.84 Q2136.28 1291.59 2131.55 1291.59 Q2128.71 1291.59 2126.65 1290.48 Q2124.61 1289.34 2123.27 1287.03 M2137.76 1277.98 Q2137.76 1273.28 2135.81 1270.61 Q2133.89 1267.93 2130.51 1267.93 Q2127.13 1267.93 2125.19 1270.61 Q2123.27 1273.28 2123.27 1277.98 Q2123.27 1282.67 2125.19 1285.36 Q2127.13 1288.02 2130.51 1288.02 Q2133.89 1288.02 2135.81 1285.36 Q2137.76 1282.67 2137.76 1277.98 Z\" fill=\"#000000\" fill-rule=\"evenodd\" fill-opacity=\"1\" /><path clip-path=\"url(#clip560)\" d=\"M2148.8 1280.68 L2148.8 1264.99 L2153.06 1264.99 L2153.06 1280.52 Q2153.06 1284.2 2154.49 1286.05 Q2155.93 1287.88 2158.8 1287.88 Q2162.25 1287.88 2164.24 1285.68 Q2166.25 1283.48 2166.25 1279.69 L2166.25 1264.99 L2170.51 1264.99 L2170.51 1290.92 L2166.25 1290.92 L2166.25 1286.93 Q2164.7 1289.29 2162.64 1290.45 Q2160.61 1291.59 2157.9 1291.59 Q2153.43 1291.59 2151.11 1288.81 Q2148.8 1286.03 2148.8 1280.68 M2159.52 1264.36 L2159.52 1264.36 Z\" fill=\"#000000\" fill-rule=\"evenodd\" fill-opacity=\"1\" /><path clip-path=\"url(#clip560)\" d=\"M2183.5 1257.63 L2183.5 1264.99 L2192.27 1264.99 L2192.27 1268.3 L2183.5 1268.3 L2183.5 1282.37 Q2183.5 1285.54 2184.35 1286.45 Q2185.23 1287.35 2187.9 1287.35 L2192.27 1287.35 L2192.27 1290.92 L2187.9 1290.92 Q2182.97 1290.92 2181.09 1289.09 Q2179.22 1287.23 2179.22 1282.37 L2179.22 1268.3 L2176.09 1268.3 L2176.09 1264.99 L2179.22 1264.99 L2179.22 1257.63 L2183.5 1257.63 Z\" fill=\"#000000\" fill-rule=\"evenodd\" fill-opacity=\"1\" /><path clip-path=\"url(#clip560)\" d=\"M2214.35 1286.98 L2221.99 1286.98 L2221.99 1260.61 L2213.68 1262.28 L2213.68 1258.02 L2221.95 1256.36 L2226.62 1256.36 L2226.62 1286.98 L2234.26 1286.98 L2234.26 1290.92 L2214.35 1290.92 L2214.35 1286.98 Z\" fill=\"#000000\" fill-rule=\"evenodd\" fill-opacity=\"1\" /><polyline clip-path=\"url(#clip560)\" style=\"stroke:#e26f46; stroke-linecap:round; stroke-linejoin:round; stroke-width:4; stroke-opacity:1; fill:none\" points=\"\n",
       "  1865.5,1325.48 2007.69,1325.48 \n",
       "  \"/>\n",
       "<path clip-path=\"url(#clip560)\" d=\"M2047.41 1311.37 Q2042.32 1311.37 2039.31 1315.16 Q2036.32 1318.96 2036.32 1325.51 Q2036.32 1332.04 2039.31 1335.83 Q2042.32 1339.63 2047.41 1339.63 Q2052.5 1339.63 2055.47 1335.83 Q2058.45 1332.04 2058.45 1325.51 Q2058.45 1318.96 2055.47 1315.16 Q2052.5 1311.37 2047.41 1311.37 M2047.41 1307.57 Q2054.68 1307.57 2059.03 1312.45 Q2063.38 1317.32 2063.38 1325.51 Q2063.38 1333.68 2059.03 1338.57 Q2054.68 1343.43 2047.41 1343.43 Q2040.12 1343.43 2035.74 1338.57 Q2031.39 1333.7 2031.39 1325.51 Q2031.39 1317.32 2035.74 1312.45 Q2040.12 1307.57 2047.41 1307.57 Z\" fill=\"#000000\" fill-rule=\"evenodd\" fill-opacity=\"1\" /><path clip-path=\"url(#clip560)\" d=\"M2070.07 1332.52 L2070.07 1316.83 L2074.33 1316.83 L2074.33 1332.36 Q2074.33 1336.04 2075.77 1337.89 Q2077.2 1339.72 2080.07 1339.72 Q2083.52 1339.72 2085.51 1337.52 Q2087.53 1335.32 2087.53 1331.53 L2087.53 1316.83 L2091.79 1316.83 L2091.79 1342.76 L2087.53 1342.76 L2087.53 1338.77 Q2085.98 1341.13 2083.92 1342.29 Q2081.88 1343.43 2079.17 1343.43 Q2074.7 1343.43 2072.39 1340.65 Q2070.07 1337.87 2070.07 1332.52 M2080.79 1316.2 L2080.79 1316.2 Z\" fill=\"#000000\" fill-rule=\"evenodd\" fill-opacity=\"1\" /><path clip-path=\"url(#clip560)\" d=\"M2104.77 1309.47 L2104.77 1316.83 L2113.55 1316.83 L2113.55 1320.14 L2104.77 1320.14 L2104.77 1334.21 Q2104.77 1337.38 2105.63 1338.29 Q2106.51 1339.19 2109.17 1339.19 L2113.55 1339.19 L2113.55 1342.76 L2109.17 1342.76 Q2104.24 1342.76 2102.36 1340.93 Q2100.49 1339.07 2100.49 1334.21 L2100.49 1320.14 L2097.36 1320.14 L2097.36 1316.83 L2100.49 1316.83 L2100.49 1309.47 L2104.77 1309.47 Z\" fill=\"#000000\" fill-rule=\"evenodd\" fill-opacity=\"1\" /><path clip-path=\"url(#clip560)\" d=\"M2123.27 1338.87 L2123.27 1352.62 L2118.98 1352.62 L2118.98 1316.83 L2123.27 1316.83 L2123.27 1320.76 Q2124.61 1318.45 2126.65 1317.34 Q2128.71 1316.2 2131.55 1316.2 Q2136.28 1316.2 2139.22 1319.95 Q2142.18 1323.7 2142.18 1329.82 Q2142.18 1335.93 2139.22 1339.68 Q2136.28 1343.43 2131.55 1343.43 Q2128.71 1343.43 2126.65 1342.32 Q2124.61 1341.18 2123.27 1338.87 M2137.76 1329.82 Q2137.76 1325.12 2135.81 1322.45 Q2133.89 1319.77 2130.51 1319.77 Q2127.13 1319.77 2125.19 1322.45 Q2123.27 1325.12 2123.27 1329.82 Q2123.27 1334.51 2125.19 1337.2 Q2127.13 1339.86 2130.51 1339.86 Q2133.89 1339.86 2135.81 1337.2 Q2137.76 1334.51 2137.76 1329.82 Z\" fill=\"#000000\" fill-rule=\"evenodd\" fill-opacity=\"1\" /><path clip-path=\"url(#clip560)\" d=\"M2148.8 1332.52 L2148.8 1316.83 L2153.06 1316.83 L2153.06 1332.36 Q2153.06 1336.04 2154.49 1337.89 Q2155.93 1339.72 2158.8 1339.72 Q2162.25 1339.72 2164.24 1337.52 Q2166.25 1335.32 2166.25 1331.53 L2166.25 1316.83 L2170.51 1316.83 L2170.51 1342.76 L2166.25 1342.76 L2166.25 1338.77 Q2164.7 1341.13 2162.64 1342.29 Q2160.61 1343.43 2157.9 1343.43 Q2153.43 1343.43 2151.11 1340.65 Q2148.8 1337.87 2148.8 1332.52 M2159.52 1316.2 L2159.52 1316.2 Z\" fill=\"#000000\" fill-rule=\"evenodd\" fill-opacity=\"1\" /><path clip-path=\"url(#clip560)\" d=\"M2183.5 1309.47 L2183.5 1316.83 L2192.27 1316.83 L2192.27 1320.14 L2183.5 1320.14 L2183.5 1334.21 Q2183.5 1337.38 2184.35 1338.29 Q2185.23 1339.19 2187.9 1339.19 L2192.27 1339.19 L2192.27 1342.76 L2187.9 1342.76 Q2182.97 1342.76 2181.09 1340.93 Q2179.22 1339.07 2179.22 1334.21 L2179.22 1320.14 L2176.09 1320.14 L2176.09 1316.83 L2179.22 1316.83 L2179.22 1309.47 L2183.5 1309.47 Z\" fill=\"#000000\" fill-rule=\"evenodd\" fill-opacity=\"1\" /><path clip-path=\"url(#clip560)\" d=\"M2217.57 1338.82 L2233.89 1338.82 L2233.89 1342.76 L2211.95 1342.76 L2211.95 1338.82 Q2214.61 1336.07 2219.19 1331.44 Q2223.8 1326.78 2224.98 1325.44 Q2227.23 1322.92 2228.1 1321.18 Q2229.01 1319.42 2229.01 1317.73 Q2229.01 1314.98 2227.06 1313.24 Q2225.14 1311.51 2222.04 1311.51 Q2219.84 1311.51 2217.39 1312.27 Q2214.96 1313.03 2212.18 1314.58 L2212.18 1309.86 Q2215 1308.73 2217.46 1308.15 Q2219.91 1307.57 2221.95 1307.57 Q2227.32 1307.57 2230.51 1310.26 Q2233.71 1312.94 2233.71 1317.43 Q2233.71 1319.56 2232.9 1321.48 Q2232.11 1323.38 2230 1325.97 Q2229.42 1326.64 2226.32 1329.86 Q2223.22 1333.06 2217.57 1338.82 Z\" fill=\"#000000\" fill-rule=\"evenodd\" fill-opacity=\"1\" /></svg>\n"
      ]
     },
     "execution_count": 13,
     "metadata": {},
     "output_type": "execute_result"
    }
   ],
   "source": [
    "result1=zeros(100,1)\n",
    "result2=zeros(100,1)\n",
    "c=zeros(100,1)\n",
    "\n",
    "for i=1:100\n",
    "    c[i,1]=0.1*i\n",
    "    result1[i,1]=int(c[i,1],0.05)\n",
    "    result2[i,1]=int2(c[i,1],0.05)\n",
    "end\n",
    "\n",
    "scatter(c, result1, label=\"Output 1\", legend=:bottomright)\n",
    "plot!(c, result2, label=\"Output 2\")\n",
    "plot!(xlabel=\"Value of c\",ylabel=\"Value of π\")"
   ]
  },
  {
   "cell_type": "code",
   "execution_count": 14,
   "id": "58bb94a7",
   "metadata": {},
   "outputs": [
    {
     "name": "stdout",
     "output_type": "stream",
     "text": [
      "  0.000036 seconds (3 allocations: 1.688 KiB)\n",
      "  0.000012 seconds\n"
     ]
    }
   ],
   "source": [
    "@time int(5,0.05);\n",
    "@time int2(5,0.05);"
   ]
  },
  {
   "cell_type": "markdown",
   "id": "cf24c53c",
   "metadata": {},
   "source": [
    "Both methods give us the same result, and reach $\\pi=1$ when $c$ is near to 5.\n",
    "\n",
    "However, the time in which the first method get the result is higher than the time in which the second method get the result. Therefore, for the next questions I will use the second method."
   ]
  },
  {
   "cell_type": "markdown",
   "id": "496b5799",
   "metadata": {},
   "source": [
    "### Part C"
   ]
  },
  {
   "cell_type": "code",
   "execution_count": 15,
   "id": "f41807d7",
   "metadata": {},
   "outputs": [
    {
     "data": {
      "text/plain": [
       "finding (generic function with 1 method)"
      ]
     },
     "execution_count": 15,
     "metadata": {},
     "output_type": "execute_result"
    }
   ],
   "source": [
    "function finding(α, π)\n",
    "#loss function\n",
    "return find_zero(x->π-int2(x,α),(0,10), atol=1e-10)\n",
    "end\n",
    "    "
   ]
  },
  {
   "cell_type": "code",
   "execution_count": 16,
   "id": "99280eb7",
   "metadata": {},
   "outputs": [
    {
     "data": {
      "text/plain": [
       "2.8015817871962554"
      ]
     },
     "execution_count": 16,
     "metadata": {},
     "output_type": "execute_result"
    }
   ],
   "source": [
    "output_finding=finding(0.05,0.8)"
   ]
  },
  {
   "cell_type": "markdown",
   "id": "7afc5724",
   "metadata": {},
   "source": [
    "In conclusion, the non-centrality parameter for $\\pi=0.8$ and $\\alpha=0.05$ is approximately 2.8"
   ]
  },
  {
   "cell_type": "markdown",
   "id": "ac9690bc",
   "metadata": {},
   "source": [
    "# Question 3"
   ]
  },
  {
   "cell_type": "markdown",
   "id": "d6deb542",
   "metadata": {},
   "source": [
    "### Part A"
   ]
  },
  {
   "cell_type": "code",
   "execution_count": 17,
   "id": "927ec04a",
   "metadata": {},
   "outputs": [
    {
     "data": {
      "text/plain": [
       "1.9599639845400538"
      ]
     },
     "execution_count": 17,
     "metadata": {},
     "output_type": "execute_result"
    }
   ],
   "source": [
    "pvalue_chi=quantile(Chisq(1),0.95)^0.5"
   ]
  },
  {
   "cell_type": "code",
   "execution_count": 18,
   "id": "a81da92d",
   "metadata": {},
   "outputs": [
    {
     "data": {
      "text/plain": [
       "1.9599639845400576"
      ]
     },
     "execution_count": 18,
     "metadata": {},
     "output_type": "execute_result"
    }
   ],
   "source": [
    "pvalue_z=quantile(Normal(),0.975)"
   ]
  },
  {
   "cell_type": "markdown",
   "id": "036fb54a",
   "metadata": {},
   "source": [
    "About the hints:\n",
    "- The relationship between the $z$-test and the $\\chi_1$-test (1 degree of freedom) is that the z-dist to the power of 2 is equal to the chi distr. That is why for an $\\alpha=5\\%$ they generate the same p-value (as I show in the previous lines).\n",
    "- I will consider the the local alternatives framework: $\\theta=\\theta_0+\\delta/n^{1/2}$\n",
    "- I will consider a standard error is $std.err_n=\\hat{w}_n/n^{1/2}$\n",
    "\n",
    "#### Answer:\n",
    "- The power of the test we want to test is $P(((\\hat{\\theta}_n-\\theta_0)/w)^2 >\\chi^2_{1,1-\\alpha})$\n",
    "- This can be separated into $P(((\\hat{\\theta}_n-\\theta)/w  +   (\\theta-\\theta_0)/w)^2 >\\chi^2_{1,1-\\alpha})$\n",
    "- Where the first term is a st-normal(0,1) and the second term is equal to $d/w$\n",
    "- Therefore we can rewrite the power of the test as $P((z+d/w)^2 >\\chi^2_{1,1-\\alpha})$, or\n",
    "- We can write it as $P((z+|c|)^2 >\\chi^2_{1,1-\\alpha})$\n",
    "- So we have that the relationship between the noncentralized parameter and the MDE is the following:\n",
    "\n",
    "$$|c^*|=|d/\\hat{w}_n|=|n^{1/2}*(MDE-\\theta_0)/\\hat{w}_n|$$\n",
    "\n",
    "Solving for MDE we have the following relationship:\n",
    "\n",
    "\n",
    "#### Equation 1:\n",
    "$$MDE=(|c^*|*\\hat{w}_n)/n^{1/2}$$ \n",
    "\n",
    "where \n",
    "- $c^*=c(\\alpha,\\pi)$\n",
    "- $MDE=\\theta(\\alpha,\\pi,n)$\n",
    "- $\\hat{w}_n$ is the estimate of $w$\n",
    "\n",
    "And finally, we have that:\n",
    "\n",
    "#### Equation 2:\n",
    "$$ \\pi = P((z+|c^*|)^2 >\\chi^2_{1,1-\\alpha}) $$ (Equation 2)\n",
    "\n",
    "Therefore, solving the value of $|c^*|$ with the Equation 2 we can calculate the MDE with the Equation 1. \n"
   ]
  },
  {
   "cell_type": "markdown",
   "id": "eb7ab509",
   "metadata": {},
   "source": [
    "### Part B"
   ]
  },
  {
   "cell_type": "code",
   "execution_count": 19,
   "id": "1e329c54",
   "metadata": {},
   "outputs": [],
   "source": [
    "using JLD2"
   ]
  },
  {
   "cell_type": "code",
   "execution_count": 20,
   "id": "52a55ee4",
   "metadata": {},
   "outputs": [
    {
     "data": {
      "text/plain": [
       "JLDFile /Users/fnsepulveda/627_ps_04-23-3-data.jld2 (read-only)\n",
       " ├─🔢 Y\n",
       " ├─🔢 X1\n",
       " ├─🔢 X2\n",
       " └─🔢 Z1"
      ]
     },
     "execution_count": 20,
     "metadata": {},
     "output_type": "execute_result"
    }
   ],
   "source": [
    "RAW=jldopen(\"627_ps_04-23-3-data.jld2\")"
   ]
  },
  {
   "cell_type": "code",
   "execution_count": 21,
   "id": "ca6851dc",
   "metadata": {},
   "outputs": [],
   "source": [
    "#I prefer working with vectors\n",
    "Y=RAW[\"Y\"];\n",
    "X1=RAW[\"X1\"];\n",
    "X2=RAW[\"X2\"];\n",
    "Z1=RAW[\"Z1\"];"
   ]
  },
  {
   "cell_type": "markdown",
   "id": "d9b39085",
   "metadata": {},
   "source": [
    "### Part C"
   ]
  },
  {
   "cell_type": "code",
   "execution_count": 22,
   "id": "e288ab40",
   "metadata": {},
   "outputs": [
    {
     "data": {
      "text/plain": [
       "mde (generic function with 1 method)"
      ]
     },
     "execution_count": 22,
     "metadata": {},
     "output_type": "execute_result"
    }
   ],
   "source": [
    "#We already define the function to find the non-centrality parameter, so we can define MDE\n",
    "function mde(α,π,n,w)\n",
    "    non_centr=finding(α,π)\n",
    "   return MDE=non_centr*w/sqrt(n)\n",
    "end"
   ]
  },
  {
   "cell_type": "code",
   "execution_count": 23,
   "id": "f856fea2",
   "metadata": {},
   "outputs": [
    {
     "data": {
      "text/plain": [
       "n_power (generic function with 1 method)"
      ]
     },
     "execution_count": 23,
     "metadata": {},
     "output_type": "execute_result"
    }
   ],
   "source": [
    "#Power function\n",
    "function n_power(α,π,MDE,w)\n",
    "    find_zero(x->mde(α,π,x,w)-MDE,(0,10^5), atol=1e-10)\n",
    "end"
   ]
  },
  {
   "cell_type": "code",
   "execution_count": 24,
   "id": "7280a736",
   "metadata": {},
   "outputs": [
    {
     "data": {
      "text/plain": [
       "test (generic function with 1 method)"
      ]
     },
     "execution_count": 24,
     "metadata": {},
     "output_type": "execute_result"
    }
   ],
   "source": [
    "#Z-test function\n",
    "function test(beta,b_ee) #because the null is equal to zero\n",
    "    est=beta/b_ee\n",
    "    if est>pvalue_z\n",
    "        print(\"Rejects the null at α=5%\")\n",
    "    else\n",
    "        print(\"Cannot reject the null at α=5%\")\n",
    "    end\n",
    "end"
   ]
  },
  {
   "cell_type": "code",
   "execution_count": 49,
   "id": "18913394",
   "metadata": {},
   "outputs": [
    {
     "data": {
      "text/plain": [
       "estimates (generic function with 1 method)"
      ]
     },
     "execution_count": 49,
     "metadata": {},
     "output_type": "execute_result"
    }
   ],
   "source": [
    "#Estimate 2sls and errors (this is necessary because we have to do everything with n=100 and n=1000)\n",
    "function estimates(Y,X1,X2,Z1)\n",
    "    n=size(Y,1)\n",
    "    \n",
    "    X=[X1 X2]\n",
    "    Z=[Z1 X2]\n",
    "    \n",
    "    #b2sls=((x'*Pz*x)^-1)*(x*Pz*y)\n",
    "    beta_2sls=inv((Z'*X)'*inv(Z'*Z)*(Z'*X))*((Z'*X)'*inv(Z'*Z)*Z'*Y)\n",
    "    U=Y-X*beta_2sls\n",
    "    \n",
    "    Q=(1/n).*Z'*X\n",
    "    w=inv((1/n).*Z'*Z)\n",
    "    Ω=(1/n).*(Z.*U)'*(Z.*U)\n",
    "    \n",
    "    var_beta=inv(Q'*w*Q)*(Q'*w*Ω*w*Q)*inv(Q'*w*Q)\n",
    "    beta_ee=sqrt((1/n).*var_beta)\n",
    "    \n",
    "    return (beta_2sls,beta_ee)\n",
    "end"
   ]
  },
  {
   "cell_type": "markdown",
   "id": "04ee5a07",
   "metadata": {},
   "source": [
    "### N=100"
   ]
  },
  {
   "cell_type": "code",
   "execution_count": 50,
   "id": "4476b32f",
   "metadata": {},
   "outputs": [
    {
     "name": "stdout",
     "output_type": "stream",
     "text": [
      "Cannot reject the null at α=5%"
     ]
    },
    {
     "data": {
      "text/plain": [
       "0.11321893939718274"
      ]
     },
     "execution_count": 50,
     "metadata": {},
     "output_type": "execute_result"
    }
   ],
   "source": [
    "y_cut=Y[1:100] \n",
    "x1_cut=X1[1:100]\n",
    "x2_cut=X2[1:100,:]\n",
    "z1_cut=Z1[1:100,:]\n",
    "\n",
    "beta_1,beta_ee1=estimates(y_cut,x1_cut,x2_cut,z1_cut)\n",
    "\n",
    "test(beta_1[1],beta_ee1[1,1])\n",
    "beta_1[1]"
   ]
  },
  {
   "cell_type": "code",
   "execution_count": 52,
   "id": "d2b4a0ce",
   "metadata": {},
   "outputs": [
    {
     "name": "stdout",
     "output_type": "stream",
     "text": [
      "The MDE obtained is 0.42430548258958345"
     ]
    }
   ],
   "source": [
    "w_1=beta_ee1*sqrt(100)\n",
    "MDE_1=mde(0.05,0.8,100,w_1[1,1])\n",
    "print(\"The MDE obtained is \",MDE_1)"
   ]
  },
  {
   "cell_type": "code",
   "execution_count": 53,
   "id": "b75ae6b9",
   "metadata": {},
   "outputs": [
    {
     "data": {
      "text/plain": [
       "450.087855960076"
      ]
     },
     "execution_count": 53,
     "metadata": {},
     "output_type": "execute_result"
    }
   ],
   "source": [
    "n_power(0.05,0.8,0.2,w_1[1,1])"
   ]
  },
  {
   "cell_type": "markdown",
   "id": "c57b029f",
   "metadata": {},
   "source": [
    "### N=1000"
   ]
  },
  {
   "cell_type": "code",
   "execution_count": 54,
   "id": "8699b8f4",
   "metadata": {},
   "outputs": [
    {
     "name": "stdout",
     "output_type": "stream",
     "text": [
      "Rejects the null at α=5%"
     ]
    },
    {
     "data": {
      "text/plain": [
       "0.19125613095555252"
      ]
     },
     "execution_count": 54,
     "metadata": {},
     "output_type": "execute_result"
    }
   ],
   "source": [
    "beta_2,beta_ee2=estimates(Y,X1,X2,Z1)\n",
    "\n",
    "test(beta_2[1],w_2[1,1])\n",
    "beta_2[1]"
   ]
  },
  {
   "cell_type": "code",
   "execution_count": 55,
   "id": "0514ad81",
   "metadata": {},
   "outputs": [
    {
     "name": "stdout",
     "output_type": "stream",
     "text": [
      "The MDE obtained is 0.16531764527041368"
     ]
    }
   ],
   "source": [
    "w_2=beta_ee2*sqrt(1000)\n",
    "MDE_2=mde(0.05,0.8,1000,w_2[1,1])\n",
    "print(\"The MDE obtained is \",MDE_2)"
   ]
  },
  {
   "cell_type": "code",
   "execution_count": 56,
   "id": "fb2d741c",
   "metadata": {},
   "outputs": [
    {
     "data": {
      "text/plain": [
       "683.2480963550051"
      ]
     },
     "execution_count": 56,
     "metadata": {},
     "output_type": "execute_result"
    }
   ],
   "source": [
    "n_power(0.05,0.8,0.2,w_2[1,1])"
   ]
  },
  {
   "cell_type": "code",
   "execution_count": 59,
   "id": "981a26f9",
   "metadata": {},
   "outputs": [
    {
     "name": "stdout",
     "output_type": "stream",
     "text": [
      "┌──────┬────────────────────┬──────────┐\n",
      "│\u001b[1m    N \u001b[0m│\u001b[1m Result of the test \u001b[0m│\u001b[1m      MDE \u001b[0m│\n",
      "├──────┼────────────────────┼──────────┤\n",
      "│  100 │   Cannot Reject H0 │ 0.424305 │\n",
      "│ 1000 │          Reject H0 │ 0.165318 │\n",
      "└──────┴────────────────────┴──────────┘\n"
     ]
    }
   ],
   "source": [
    "header=[\"N\", \"Result of the test\", \"MDE\"]\n",
    "\n",
    "pretty_table([\"100\" \"Cannot Reject H0\" MDE_1 ;\n",
    "              \"1000\" \"Reject H0\" MDE_2 ;];header)\n"
   ]
  },
  {
   "cell_type": "markdown",
   "id": "5971ffd2",
   "metadata": {},
   "source": [
    "#### Conclusion\n",
    "\n",
    "For N=100 we don't have enough power to reject the null. At the same time, the MDE is 0.42 (relatively high). \n",
    "\n",
    "On the other hand, with a sample of N=1000 we get more power, so in this case we are able to reject the null ($\\beta_{2sls}$ is different from zero) and the MDE decreases to 0.16. \n",
    "\n",
    "In conclusion, the MDE and the N are negatively related (which we expect considering Equation 1). Also, as the sample is larger the power of the test increases, which means that have to be careful when working with finite samples. \n",
    "\n",
    "For example, if we cannot reject the null, it doesn't mean that our $\\beta_{2sls}$ is equal to zero. Probably is only a matter of low power because of the data we have."
   ]
  },
  {
   "cell_type": "code",
   "execution_count": null,
   "id": "a28b580c",
   "metadata": {},
   "outputs": [],
   "source": []
  }
 ],
 "metadata": {
  "kernelspec": {
   "display_name": "Julia 1.8.0",
   "language": "julia",
   "name": "julia-1.8"
  },
  "language_info": {
   "file_extension": ".jl",
   "mimetype": "application/julia",
   "name": "julia",
   "version": "1.8.0"
  }
 },
 "nbformat": 4,
 "nbformat_minor": 5
}
