{
 "cells": [
  {
   "cell_type": "markdown",
   "id": "1a2bcca8-4221-425a-abad-e2f7ced07baa",
   "metadata": {},
   "source": [
    "# PSET 11\n",
    "### Juan M Jimenez R."
   ]
  },
  {
   "cell_type": "code",
   "execution_count": 1,
   "id": "c8181354-f2fd-43cb-892e-7f8782925f10",
   "metadata": {},
   "outputs": [
    {
     "data": {
      "text/plain": [
       "MathOptInterface"
      ]
     },
     "execution_count": 1,
     "metadata": {},
     "output_type": "execute_result"
    }
   ],
   "source": [
    "#using Pkg\n",
    "#Pkg.add([\"Convex\", \"SCS\", \"ECOS\"])\n",
    "using Distributions, Optim, LinearAlgebra, Random, PrettyTables, Convex, SCS, ECOS\n",
    "MOI=Convex.MOI #use the convex pkg for optimizing"
   ]
  },
  {
   "cell_type": "markdown",
   "id": "5bc82633-f94f-4cb3-bd78-47f4e5964094",
   "metadata": {},
   "source": [
    "## Question 2\n",
    "### (a)"
   ]
  },
  {
   "cell_type": "code",
   "execution_count": 2,
   "id": "d48b8e73-2aa8-4139-a738-46ddbe4f2352",
   "metadata": {},
   "outputs": [
    {
     "data": {
      "text/plain": [
       "DGP (generic function with 1 method)"
      ]
     },
     "execution_count": 2,
     "metadata": {},
     "output_type": "execute_result"
    }
   ],
   "source": [
    "function DGP(;α,β₁,β₂,σ,ρ,k,n)\n",
    "    Σ=ones(k,k)*ρ+I*(1-ρ)\n",
    "    X=rand(MvNormal(Σ),n)'; ##Correlated regressors\n",
    "    Y=β₁*X[:,1]+β₂*X[:,2] +σ*randn(n,1) .+α\n",
    "    return Y,X\n",
    "end"
   ]
  },
  {
   "cell_type": "markdown",
   "id": "85b01c00-1910-46db-bc31-a00e1d77f903",
   "metadata": {},
   "source": [
    "### (a)"
   ]
  },
  {
   "cell_type": "code",
   "execution_count": 3,
   "id": "34a4c804-6869-4739-b677-cdcae69d3628",
   "metadata": {},
   "outputs": [
    {
     "data": {
      "text/plain": [
       "Lasso (generic function with 1 method)"
      ]
     },
     "execution_count": 3,
     "metadata": {},
     "output_type": "execute_result"
    }
   ],
   "source": [
    "opt = MOI.OptimizerWithAttributes(SCS.Optimizer, \"eps_abs\"=>1.0e-08, \"eps_rel\"=>1.0e-08, MOI.Silent() => true);\n",
    "\n",
    "function Lasso(Y,X,λ)\n",
    "        \n",
    "    N,K=size(X)\n",
    "    \n",
    "    X=[X ones(N,1)]\n",
    "    \n",
    "    Q=X'X/N;\n",
    "    c=X'Y/N;\n",
    "    \n",
    "    b=Variable(K+1) ##define variables to optimize over\n",
    "    L1=quadform(b, Q)/2  #b'Q*b\n",
    "    L2 = dot(c, b) #c'b\n",
    "    L3 = norm(b[1:K], 1) #sum(|b|) we use the absolute value, not the square\n",
    "    LassoProblem=minimize(L1-L2+λ*L3)\n",
    "    \n",
    "    solve!(LassoProblem, opt,verbose=false)\n",
    "\n",
    "    β̂ = round.(vec(evaluate(b)),digits=5)\n",
    "    \n",
    "    return β̂\n",
    "    \n",
    "end"
   ]
  },
  {
   "cell_type": "markdown",
   "id": "68a52f37-643e-4162-a2ed-553315465572",
   "metadata": {},
   "source": [
    "### (c)-(f)"
   ]
  },
  {
   "cell_type": "code",
   "execution_count": 4,
   "id": "f26c5043-3842-4703-a64b-fee9f1b9459a",
   "metadata": {},
   "outputs": [
    {
     "data": {
      "text/plain": [
       "MC (generic function with 1 method)"
      ]
     },
     "execution_count": 4,
     "metadata": {},
     "output_type": "execute_result"
    }
   ],
   "source": [
    "function MC(;ρ,σ,β₁,β₂,R,n,k)\n",
    "\n",
    "    β₁_Included=zeros(R) #store results b1\n",
    "    β₂_Included=zeros(R) #store results b2\n",
    "    β_wrong_Included=zeros(R) \n",
    "\n",
    "\n",
    "    λ=1.1*σ*(2*log(n*k)/n)^0.5\n",
    "\n",
    "    Threads.@threads for r in eachindex(β₁_Included)\n",
    "        \n",
    "        \n",
    "        Y,X=DGP(;α=1.0,β₁=β₁,β₂=β₂,σ=σ,ρ=ρ,k=k,n=n)\n",
    "        β̂ = Lasso(Y,X,λ)\n",
    "    \n",
    "        β₁_Included[r] = (β̂[1] !=0) #indicator if β₁ inluded\n",
    "        β₂_Included[r] = (β̂[2] !=0) #indicator if β₂ inluded\n",
    "        β_wrong_Included[r] = (maximum(abs.(β̂[3:k])) != 0) #indicator if a wrong β₂ inluded\n",
    "    end\n",
    "\n",
    "    #simulated probabilities\n",
    "    OUT::Matrix{Float64}=[sum(β₁_Included)/R sum(β₂_Included)/R sum(β_wrong_Included)/R]\n",
    "    return OUT\n",
    "end"
   ]
  },
  {
   "cell_type": "code",
   "execution_count": 5,
   "id": "bcfeca3b-e5c7-4d99-b885-8f39767678e8",
   "metadata": {},
   "outputs": [
    {
     "name": "stdout",
     "output_type": "stream",
     "text": [
      " 21.335689 seconds (54.01 M allocations: 2.890 GiB, 3.59% gc time, 99.77% compilation time)\n"
     ]
    }
   ],
   "source": [
    "@time OUT=MC(;ρ=0.2,σ=2.0,β₁=2.0,β₂=2.0,R=2,n=100,k=4);"
   ]
  },
  {
   "cell_type": "code",
   "execution_count": 6,
   "id": "84737529-51dc-4c91-b259-24dd483d2c33",
   "metadata": {},
   "outputs": [
    {
     "name": "stdout",
     "output_type": "stream",
     "text": [
      "  1.147154 seconds (532.76 k allocations: 121.784 MiB, 2.37% gc time, 0.24% compilation time)\n",
      "  1.158558 seconds (532.82 k allocations: 121.791 MiB, 2.40% gc time)\n",
      "  1.126899 seconds (532.73 k allocations: 121.782 MiB, 2.26% gc time, 0.21% compilation time)\n",
      "  1.092746 seconds (532.72 k allocations: 121.782 MiB, 2.09% gc time)\n"
     ]
    }
   ],
   "source": [
    "Random.seed!(627)\n",
    "\n",
    "const n=300\n",
    "const k=50\n",
    "const R=100 #1000\n",
    "\n",
    "#Part (c)\n",
    "ρ=0.2; σ=2.0; @time OUT_c = MC(;ρ=ρ,σ=σ,β₁=σ,β₂=σ, R=R, n=n, k=k);\n",
    "data=[\"(c)\" ρ σ σ σ OUT_c;]; #collect results to be used with PrettyTable\n",
    "\n",
    "#Part (d)\n",
    "ρ=0.2; σ=0.1; @time OUT_d = MC(;ρ=ρ,σ=σ,β₁=σ,β₂=σ, R=R, n=n, k=k);\n",
    "data=[data; \"(d)\" ρ σ σ σ OUT_d;];\n",
    "\n",
    "#Part (e)\n",
    "ρ=0.2; σ=2.0; @time OUT_e = MC(;ρ=ρ,σ=σ,β₁=σ,β₂=σ*0.1, R=R, n=n, k=k);\n",
    "data=[data; \"(e)\" ρ σ σ σ*0.1 OUT_e;];\n",
    "\n",
    "#Part (f)\n",
    "ρ=0.9; σ=2.0; @time OUT_f = MC(;ρ=ρ,σ=σ,β₁=σ,β₂=σ, R=R, n=n, k=k);\n",
    "data=[data; \"(f)\" ρ σ σ σ OUT_f;];"
   ]
  },
  {
   "cell_type": "code",
   "execution_count": 7,
   "id": "26b13a13-d17b-4db1-995c-d869af6e20e0",
   "metadata": {},
   "outputs": [
    {
     "name": "stdout",
     "output_type": "stream",
     "text": [
      "┌──────┬─────┬─────┬─────┬─────┬────────────────────┬───────────────────┬────────────────────────┐\n",
      "│\u001b[1m Part \u001b[0m│\u001b[1m   ρ \u001b[0m│\u001b[1m   σ \u001b[0m│\u001b[1m  β₁ \u001b[0m│\u001b[1m  β₂ \u001b[0m│\u001b[1m Pr(X1 is selected) \u001b[0m│\u001b[1m P(X2 is selected) \u001b[0m│\u001b[1m P(wrong X is selected) \u001b[0m│\n",
      "├──────┼─────┼─────┼─────┼─────┼────────────────────┼───────────────────┼────────────────────────┤\n",
      "│  (c) │ 0.2 │ 2.0 │ 2.0 │ 2.0 │                1.0 │               1.0 │                   0.04 │\n",
      "│  (d) │ 0.2 │ 0.1 │ 0.1 │ 0.1 │                1.0 │               1.0 │                   0.05 │\n",
      "│  (e) │ 0.2 │ 2.0 │ 2.0 │ 0.2 │                1.0 │              0.05 │                   0.02 │\n",
      "│  (f) │ 0.9 │ 2.0 │ 2.0 │ 2.0 │                1.0 │               1.0 │                   0.95 │\n",
      "└──────┴─────┴─────┴─────┴─────┴────────────────────┴───────────────────┴────────────────────────┘\n"
     ]
    }
   ],
   "source": [
    "Header= ([ \"Part\", \"ρ\", \"σ\", \"β₁\", \"β₂\" , \"Pr(X1 is selected)\", \"P(X2 is selected)\", \"P(wrong X is selected)\"])\n",
    "pretty_table(data; header=Header)"
   ]
  },
  {
   "cell_type": "markdown",
   "id": "c0314d80-5fb8-4e06-9c08-4ea0a291f1d7",
   "metadata": {},
   "source": [
    "### Answers \n",
    "In c), the probability to select the correct regressors is 100%, while the probability to select the wrong regresors is approximately XX%\n",
    "\n",
    "In d), the result doesn't change significantly with the new parameters of delta and beta.\n",
    "\n",
    "In e), the coefficient of the second regressor is small than in previous exercises, therefore is not selected which large probability (1-5%=95%).\n",
    "\n",
    "In f), the correlation between the irrelevant and the main regressor is too high, so the irrepresentability condition fails. Then, the probability to include the wrong regressor in the model is 95%."
   ]
  }
 ],
 "metadata": {
  "kernelspec": {
   "display_name": "Julia 1.8.2",
   "language": "julia",
   "name": "julia-1.8"
  },
  "language_info": {
   "file_extension": ".jl",
   "mimetype": "application/julia",
   "name": "julia",
   "version": "1.8.2"
  }
 },
 "nbformat": 4,
 "nbformat_minor": 5
}
