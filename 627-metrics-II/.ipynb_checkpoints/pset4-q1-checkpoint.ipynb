{
 "cells": [
  {
   "cell_type": "markdown",
   "id": "c17b3a8d",
   "metadata": {},
   "source": [
    "# PSET 4\n",
    "\n",
    "### Juan M Jimenez R."
   ]
  },
  {
   "cell_type": "markdown",
   "id": "d8d07eb8",
   "metadata": {},
   "source": [
    "## Question 1.\n",
    "### Part A"
   ]
  },
  {
   "cell_type": "code",
   "execution_count": 1,
   "id": "cd5f526b",
   "metadata": {},
   "outputs": [],
   "source": [
    "using Distributions, Random, PrettyTables"
   ]
  },
  {
   "cell_type": "code",
   "execution_count": 2,
   "id": "2350e6c6",
   "metadata": {},
   "outputs": [
    {
     "data": {
      "text/plain": [
       "genData (generic function with 1 method)"
      ]
     },
     "execution_count": 2,
     "metadata": {},
     "output_type": "execute_result"
    }
   ],
   "source": [
    "#Data generating function\n",
    "function genData(R,n,k2)\n",
    "    \n",
    "    #Parameters \n",
    "    λ=.5\n",
    "    β1=1\n",
    "    β2=ones(k2,1)\n",
    "    π1=1\n",
    "    π2=ones(k2,1)\n",
    "    \n",
    "    #Creating random vars \n",
    "    Random.seed!(123456789)\n",
    "    \n",
    "    Output = zeros(n,k2+3,R)\n",
    "    \n",
    "    for h=1:R\n",
    "        \n",
    "        data=randn(n,k2+3)\n",
    "\n",
    "        X2=data[:,1:k2]\n",
    "        ε=data[:,k2+1]\n",
    "        v=data[:,k2+2]\n",
    "        Z=data[:,k2+3]\n",
    "        \n",
    "        #True model\n",
    "        u = λ*v + ε\n",
    "        X1 = π1*Z + X2*π2 + u\n",
    "        Y = β1*X1 + X2*β2 + v\n",
    "        \n",
    "        Output[:,:,h]=[Y X1 X2 Z]\n",
    "        \n",
    "    end\n",
    "       \n",
    "    #Output\n",
    "    #Y=Output[:,1,:]\n",
    "    #X1=Output[:,2,:]\n",
    "    #X2=Output[:,3:k2+2,:]\n",
    "    #Z=Output[:,k2+3,:]\n",
    "    \n",
    "    #return Y, X1, X2, Z\n",
    "    return Output\n",
    "    \n",
    "end"
   ]
  },
  {
   "cell_type": "markdown",
   "id": "3395fff2",
   "metadata": {},
   "source": [
    "### Part B"
   ]
  },
  {
   "cell_type": "code",
   "execution_count": 3,
   "id": "6973853c",
   "metadata": {},
   "outputs": [
    {
     "data": {
      "text/plain": [
       "est2SLS (generic function with 1 method)"
      ]
     },
     "execution_count": 3,
     "metadata": {},
     "output_type": "execute_result"
    }
   ],
   "source": [
    "#2SLS function \n",
    "function est2SLS(Y, X, Z)\n",
    "    \n",
    "    PZ=Z*inv(Z'*Z)*Z'\n",
    "    β_2sls=(X'*PZ*X) \\ (X'*PZ*Y)\n",
    "    \n",
    "    return β_2sls\n",
    "\n",
    "end"
   ]
  },
  {
   "cell_type": "code",
   "execution_count": 4,
   "id": "e359eb07",
   "metadata": {},
   "outputs": [
    {
     "data": {
      "text/plain": [
       "0.9825340555123412"
      ]
     },
     "execution_count": 4,
     "metadata": {},
     "output_type": "execute_result"
    }
   ],
   "source": [
    "#Simulation parameters\n",
    "R=10^5\n",
    "n=30\n",
    "k2=2\n",
    "\n",
    "β1=1\n",
    "\n",
    "#Creating data \n",
    "data = genData(R,n,k2);\n",
    "\n",
    "#Calculation of 2SLS estimates\n",
    "Beta=zeros(R,1)\n",
    "Bias=zeros(R,1)\n",
    "\n",
    "for h=1:R\n",
    "    \n",
    "    Y=data[:,1,h]\n",
    "    X1=data[:,2,h]\n",
    "    X2=data[:,3:k2+2,h]\n",
    "    Z1=data[:,k2+3,h]\n",
    "    \n",
    "    X=[X1 X2]\n",
    "    Z=[Z1 X2]\n",
    "    \n",
    "    Beta[h]=est2SLS(Y, X, Z)[1]\n",
    "    Bias[h]=abs(Beta[h].-β1)\n",
    "    \n",
    "end\n",
    "\n",
    "#Mean 2sls estimate \n",
    "mean(Beta)"
   ]
  },
  {
   "cell_type": "code",
   "execution_count": 5,
   "id": "789acd4e",
   "metadata": {},
   "outputs": [
    {
     "data": {
      "text/plain": [
       "0.17502699055057958"
      ]
     },
     "execution_count": 5,
     "metadata": {},
     "output_type": "execute_result"
    }
   ],
   "source": [
    "#Average absolute bias value\n",
    "mbias=mean(Bias)"
   ]
  },
  {
   "cell_type": "code",
   "execution_count": 6,
   "id": "65e0e626",
   "metadata": {},
   "outputs": [
    {
     "data": {
      "text/plain": [
       "0.017465944487658813"
      ]
     },
     "execution_count": 6,
     "metadata": {},
     "output_type": "execute_result"
    }
   ],
   "source": [
    "#Simulated bias value\n",
    "mbias=abs(mean(Beta)-β1)"
   ]
  },
  {
   "cell_type": "markdown",
   "id": "d2407cb3",
   "metadata": {},
   "source": [
    "The simulated bias is around 1.7% of the true $\\beta_1=1$.\n",
    "(Ask Paul: Difference with Mean bias from pset-2?)"
   ]
  },
  {
   "cell_type": "markdown",
   "id": "118829f4",
   "metadata": {},
   "source": [
    "### Part C"
   ]
  },
  {
   "cell_type": "code",
   "execution_count": 7,
   "id": "690a6343",
   "metadata": {},
   "outputs": [
    {
     "data": {
      "text/plain": [
       "1.149672389655874"
      ]
     },
     "execution_count": 7,
     "metadata": {},
     "output_type": "execute_result"
    }
   ],
   "source": [
    "#Simulation parameters\n",
    "R=10^5\n",
    "n=30\n",
    "k2=2\n",
    "\n",
    "β1=1\n",
    "\n",
    "#Creating data \n",
    "data = genData(R,n,k2);\n",
    "\n",
    "#Calculation of 2SLS estimates\n",
    "Beta=zeros(R,1)\n",
    "Bias=zeros(R,1)\n",
    "\n",
    "for h=1:R\n",
    "    \n",
    "    Y=data[:,1,h]\n",
    "    X1=data[:,2,h]\n",
    "    X2=data[:,3:k2+2,h]\n",
    "    Z1=data[:,k2+3,h]\n",
    "    \n",
    "    X=[X1 X2]\n",
    "    Z=[ Z1 Z1.^2 Z1.^3 X2 X2.^2 X2.^3 (Z1 .* X2) (Z1.^2 .* X2) (Z1 .* X2.^2) Z1.*X2[:,1].*X2[:,2] ]\n",
    "    \n",
    "    Beta[h]=est2SLS(Y, X, Z)[1]\n",
    "    Bias[h]=abs(Beta[h].-β1)\n",
    "    \n",
    "end\n",
    "\n",
    "#Mean 2sls estimate \n",
    "mean(Beta)"
   ]
  },
  {
   "cell_type": "code",
   "execution_count": 8,
   "id": "48ef04dc",
   "metadata": {},
   "outputs": [
    {
     "data": {
      "text/plain": [
       "0.17589901412308387"
      ]
     },
     "execution_count": 8,
     "metadata": {},
     "output_type": "execute_result"
    }
   ],
   "source": [
    "#Average absolute bias value\n",
    "mbias=mean(Bias)"
   ]
  },
  {
   "cell_type": "code",
   "execution_count": 9,
   "id": "57423715",
   "metadata": {},
   "outputs": [
    {
     "data": {
      "text/plain": [
       "0.14967238965587404"
      ]
     },
     "execution_count": 9,
     "metadata": {},
     "output_type": "execute_result"
    }
   ],
   "source": [
    "#Simulated bias value\n",
    "mbias=abs(mean(Beta)-β1)"
   ]
  },
  {
   "cell_type": "markdown",
   "id": "5ad8945f",
   "metadata": {},
   "source": [
    "The simulated bias increased to 15%."
   ]
  },
  {
   "cell_type": "markdown",
   "id": "09f105ac",
   "metadata": {},
   "source": [
    "### Part D \n",
    "\n",
    "With n=30, the simulated bias increased from nearly 1.7% with l=3 (l being the number of instrumental variables) to approximate 15% with l=16. This happens because as seen in class the bias of the 2SLS estimate is directly proportional to $c=\\frac{l}{n}$ for all c<1. Thus, in this case c was intially 3/30 and then increased to 16/30, which translated to a direct increase in the bias aswell.   "
   ]
  },
  {
   "cell_type": "markdown",
   "id": "b5ff40db",
   "metadata": {},
   "source": [
    "### Part E"
   ]
  },
  {
   "cell_type": "code",
   "execution_count": 10,
   "id": "e1cd6f8b",
   "metadata": {},
   "outputs": [],
   "source": [
    "#Simulation parameters\n",
    "R=10^5\n",
    "n=100\n",
    "k2=2\n",
    "\n",
    "β1=1\n",
    "\n",
    "i=1\n",
    "mbiasb=zeros(3,1)\n",
    "mbiasc=zeros(3,1)\n",
    "\n",
    "for n = [30, 100, 1000]\n",
    "        \n",
    "    #Creating data \n",
    "    data = genData(R,n,k2);\n",
    "\n",
    "    #Calculation of 2SLS estimates\n",
    "    Betab=zeros(R,1)\n",
    "    Betac=zeros(R,1)\n",
    "    Biasb=zeros(R,1)\n",
    "    Biasc=zeros(R,1)\n",
    "\n",
    "    for h=1:R\n",
    "\n",
    "        #Defining the variables\n",
    "        Y=data[:,1,h]\n",
    "        X1=data[:,2,h]\n",
    "        X2=data[:,3:k2+2,h]\n",
    "        Z1=data[:,k2+3,h]\n",
    "\n",
    "        X=[X1 X2]\n",
    "\n",
    "        #Choosing the instruments\n",
    "        Zb=[Z1 X2]\n",
    "        Zc=[ Z1 Z1.^2 Z1.^3 X2 X2.^2 X2.^3 (Z1 .* X2) (Z1.^2 .* X2) (Z1 .* X2.^2) Z1.*X2[:,1].*X2[:,2] ]\n",
    "\n",
    "        #Estimating the 2SLS coefficients and corresponding biases with few IVs\n",
    "        Betab[h]=est2SLS(Y, X, Zb)[1]\n",
    "        Biasb[h]=abs(Beta[h].-β1)\n",
    "\n",
    "        #Estimating the 2SLS coefficients and corresponding biases with many IVs\n",
    "        Betac[h]=est2SLS(Y, X, Zc)[1]\n",
    "        Biasc[h]=abs(Beta[h].-β1)\n",
    "\n",
    "    end\n",
    "    \n",
    "    #Simulated bias value for the few IVs estimation\n",
    "    mbiasb[i]=abs(mean(Betab)-β1)\n",
    "    \n",
    "    #Simulated bias value for the many IVs estimation\n",
    "    mbiasc[i]=abs(mean(Betac)-β1)\n",
    "    \n",
    "    i=i+1\n",
    "end"
   ]
  },
  {
   "cell_type": "code",
   "execution_count": 11,
   "id": "3059237b",
   "metadata": {},
   "outputs": [
    {
     "name": "stdout",
     "output_type": "stream",
     "text": [
      "┌──────┬──────────────────────┬───────────────────────┐\n",
      "│\u001b[1m    N \u001b[0m│\u001b[1m Simulated bias (L=3) \u001b[0m│\u001b[1m Simulated bias (L=16) \u001b[0m│\n",
      "├──────┼──────────────────────┼───────────────────────┤\n",
      "│   30 │            0.0174659 │              0.149672 │\n",
      "│  100 │           0.00528789 │             0.0553607 │\n",
      "│ 1000 │          0.000456245 │            0.00600002 │\n",
      "└──────┴──────────────────────┴───────────────────────┘\n"
     ]
    }
   ],
   "source": [
    "#Table report\n",
    "table_data = [\"30\" mbiasb[1] mbiasc[1];\n",
    "        \"100\" mbiasb[2] mbiasc[2];\n",
    "        \"1000\" mbiasb[3] mbiasc[3];]\n",
    "header=[\"N\", \"Simulated bias (L=3)\", \"Simulated bias (L=16)\"]\n",
    "pretty_table(table_data; header)"
   ]
  },
  {
   "cell_type": "markdown",
   "id": "0f5f9cad",
   "metadata": {},
   "source": [
    "As it can be seen the bias decreases when n increases, since the $c=\\frac{l}{n}$ ratio decreases. However, for a given N, the bias in the case of many IVs is always higher than in the case of few IVs."
   ]
  }
 ],
 "metadata": {
  "kernelspec": {
   "display_name": "Julia 1.8.2",
   "language": "julia",
   "name": "julia-1.8"
  },
  "language_info": {
   "file_extension": ".jl",
   "mimetype": "application/julia",
   "name": "julia",
   "version": "1.8.2"
  }
 },
 "nbformat": 4,
 "nbformat_minor": 5
}
