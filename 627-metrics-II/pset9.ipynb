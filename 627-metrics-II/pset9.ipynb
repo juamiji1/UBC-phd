{
 "cells": [
  {
   "cell_type": "markdown",
   "id": "eefb249f-c1f9-4169-9457-8e6de85cc37c",
   "metadata": {},
   "source": [
    "# PSET 9\n",
    "### Juan M Jimenez R."
   ]
  },
  {
   "cell_type": "markdown",
   "id": "6e3cf76a-232c-4c2c-9bea-00af74c73640",
   "metadata": {},
   "source": [
    "## Question 2\n",
    "### (a)"
   ]
  },
  {
   "cell_type": "code",
   "execution_count": 1,
   "id": "45b83c59-3816-4a9c-a7bd-f74d2d092c6e",
   "metadata": {},
   "outputs": [],
   "source": [
    "using Distributions, Random, PrettyTables, QuadGK, Plots, Roots, JLD2, Optim, Plots"
   ]
  },
  {
   "cell_type": "code",
   "execution_count": 2,
   "id": "28c8c91e-6bfc-4963-b954-038ea31d9eb2",
   "metadata": {},
   "outputs": [
    {
     "data": {
      "text/plain": [
       "genData (generic function with 1 method)"
      ]
     },
     "execution_count": 2,
     "metadata": {},
     "output_type": "execute_result"
    }
   ],
   "source": [
    "#Generating data proccess\n",
    "function genData(n,t,a,b,g,d,m)\n",
    "    \n",
    "    #Creating vars \n",
    "    v0=randn(n,1)\n",
    "    v1=randn(n,1)\n",
    "    x2=rand(Normal(m, 1), n)\n",
    "    x1=ones(n,1)\n",
    "    x=[x1 x2]\n",
    "    \n",
    "    #Probit vars\n",
    "    t0=t[1]\n",
    "    t1=t[2]\n",
    "    e=randn(n,1)\n",
    "    xt=t0 .+ t1*x2 \n",
    "    T=(xt .> e)\n",
    "    ps=cdf.(Normal(0,1), xt)\n",
    "    \n",
    "    #True regression model for Yi\n",
    "    Δ= g-a + (d-b)*mean(ps)\n",
    "    u= v0 .+ T.*(v1-v0)\n",
    "    y= a .+ b.*ps+ Δ.*T+ (d-b).*(ps .-mean(ps)).*T .+ u\n",
    "\n",
    "    return x, T, y\n",
    "end"
   ]
  },
  {
   "cell_type": "markdown",
   "id": "45cd5b95-3c08-49a2-9dcf-6d78c671e049",
   "metadata": {},
   "source": [
    "### (b)"
   ]
  },
  {
   "cell_type": "code",
   "execution_count": 3,
   "id": "3e2f9a3d-61b2-456d-9fd9-395bacf6ef0a",
   "metadata": {},
   "outputs": [
    {
     "data": {
      "text/plain": [
       "mleProbit (generic function with 1 method)"
      ]
     },
     "execution_count": 3,
     "metadata": {},
     "output_type": "execute_result"
    }
   ],
   "source": [
    "#Probit function \n",
    "Φ(v)=cdf(Normal(0,1),v)\n",
    "ϕ(v)=pdf(Normal(0,1),v)\n",
    "\n",
    "function mleProbit(t, x, d)\n",
    "    n=length(d)\n",
    "    L=0\n",
    "    x=x[:,2]\n",
    "    \n",
    "    for i=1:n\n",
    "        xt= t[1] .+ x[i]*t[2]\n",
    "        L -= d[i]*log(Φ(xt)) + (1-d[i])*log(1-Φ(xt))\n",
    "    end\n",
    "    \n",
    "    #Returning Log likelihood summ \n",
    "    return L/n\n",
    "end"
   ]
  },
  {
   "cell_type": "code",
   "execution_count": 4,
   "id": "c4d1d4df-3676-4bf9-8a87-7ac9874b4b53",
   "metadata": {},
   "outputs": [
    {
     "data": {
      "text/plain": [
       "ateMatch (generic function with 1 method)"
      ]
     },
     "execution_count": 4,
     "metadata": {},
     "output_type": "execute_result"
    }
   ],
   "source": [
    "#ATE estimator function \n",
    "function ateMatch(x, d, y)\n",
    "    \n",
    "    #First stage - Probit estimation\n",
    "    result=optimize(t->mleProbit(t,x,d),[0.0;0.0;])\n",
    "    τ=Optim.minimizer(result)\n",
    "    \n",
    "    #Creating second stage vars \n",
    "    x2=x[:,2]\n",
    "    xt= τ[1] .+ x2*τ[2]\n",
    "    z1= ones(length(d))\n",
    "    z2= Φ(xt)\n",
    "    z3= d\n",
    "    z4= (Φ(xt) .- mean(Φ(xt))).*D\n",
    "    z=[z1 z2 z3 z4]\n",
    "    \n",
    "    #OLS estimation\n",
    "    θ=(z'*z)\\(z'*y)\n",
    "    \n",
    "    #OLS variance\n",
    "    B= (z'*z)/n\n",
    "    u= y - z*θ\n",
    "    zu= z.*u\n",
    "    Ω= (zu' * zu)/n\n",
    "    var1= (B\\Ω/B)/n\n",
    "    σ1= sqrt(var1)\n",
    "    \n",
    "    #OLS corrected variance \n",
    "    pdfxt=pdf.(Normal(0,1), xt)\n",
    "    cdfxt=cdf.(Normal(0,1), xt)\n",
    "    \n",
    "    s=(d.*(pdfxt./cdfxt) - (1 .-d).*(pdfxt./(1 .-cdfxt))).*x\n",
    "    C=(s'*s)/n\n",
    "    \n",
    "    #=PAUL:\n",
    "    #First-step correction\n",
    "    #X=[ones(n,1) x]\n",
    "    f=pdfxt\n",
    "    f2=repeat(f,1,2)\n",
    "    fX=f2.*x\n",
    "    mfX=mean(fX,dims=1)\n",
    "    dZ=θ[2]*fX+θ[4]*(fX-repeat(mfX,n,1))\n",
    "    Λ=z'*dZ/n\n",
    "    \n",
    "    #Std.err of Δ̂\n",
    "    #B̂inv*(Ω̂+Λ̂*Ĉinv*Λ̂')*B̂inv\n",
    "    AsyVar=(B\\(Ω + Λ*inv(C)*Λ')/B)/n \n",
    "    σ2= sqrt(AsyVar)\n",
    "    =#\n",
    "    \n",
    "    #MY WAY:\n",
    "    h=zeros(length(d),2)\n",
    "    \n",
    "    for i= 1:length(d)\n",
    "       h[i,:]=θ[2]*pdfxt[i]*x[i,:]' + θ[4]*(pdfxt[i]*x[i,:]' .- mean(pdfxt[i]*x[i,:]'))\n",
    "    end \n",
    "    \n",
    "    Λ=(z'*h)/n\n",
    "    var2= (B\\(Ω + Λ*inv(C)*Λ')/B)/n\n",
    "    σ2= sqrt(var2)\n",
    "    \n",
    "    return τ, θ, σ1, σ2    \n",
    "end  \n",
    "\n",
    "#Notes: here estimated pscore is Φ(xt)\n",
    "#Why extra 1/n in var1?"
   ]
  },
  {
   "cell_type": "markdown",
   "id": "2ba60eb6-ab2b-43be-80f1-ae6fc01a004e",
   "metadata": {},
   "source": [
    "### (c)"
   ]
  },
  {
   "cell_type": "code",
   "execution_count": 5,
   "id": "bf7db741-5758-4361-97dd-e299d95af0ab",
   "metadata": {},
   "outputs": [
    {
     "data": {
      "text/plain": [
       "ateBoots (generic function with 1 method)"
      ]
     },
     "execution_count": 5,
     "metadata": {},
     "output_type": "execute_result"
    }
   ],
   "source": [
    "function ateBoots(x, d, y, Δ, B, η)\n",
    "    n=length(d)\n",
    "    Δb = zeros(B)\n",
    "    \n",
    "    for i= 1:B\n",
    "        # Select an n random sample with replacement (from our original sample)\n",
    "        idn = sample(1:n, n, replace = true)\n",
    "        yb = y[idn]\n",
    "        xb = x[idn, :]\n",
    "        db = d[idn]\n",
    "\n",
    "        #Estimating the ATE in each B   \n",
    "        t, b, se1, se2 = ateMatch(xb, db, yb);\n",
    "        Δb[i]= b[3]       \n",
    "    end\n",
    "    \n",
    "    #Bootstrap SE\n",
    "    σb=sqrt(mean((Δb .- Δ).^2))\n",
    "    \n",
    "    #Bootstrap CIs\n",
    "    Δbₛ= sort(Δb)\n",
    "    ci_lb= Δbₛ[Int(η/2*(B+1))]\n",
    "    ci_ub= Δbₛ[Int((1-η/2)*(B+1))]\n",
    "    \n",
    "    return σb, ci_lb, ci_ub\n",
    "    \n",
    "end"
   ]
  },
  {
   "cell_type": "markdown",
   "id": "cd3fe944-473c-4199-abb8-c6a932249a81",
   "metadata": {},
   "source": [
    "### (d)"
   ]
  },
  {
   "cell_type": "code",
   "execution_count": 6,
   "id": "53dc8f45-77a1-4ebb-8039-0499a73690bb",
   "metadata": {},
   "outputs": [
    {
     "data": {
      "text/plain": [
       "0.0"
      ]
     },
     "execution_count": 6,
     "metadata": {},
     "output_type": "execute_result"
    }
   ],
   "source": [
    "Random.seed!(42);\n",
    "\n",
    "#Defining true parameters\n",
    "n=100\n",
    "τ₀₀=-.5\n",
    "τ₀₁=2\n",
    "τ₀=[τ₀₀ τ₀₁]'\n",
    "α₀=1\n",
    "β₀=1\n",
    "γ₀=1\n",
    "δ₀=1\n",
    "μ₀=1\n",
    "\n",
    "B=999\n",
    "R=1000\n",
    "η=.1\n",
    "\n",
    "zstat= quantile(Normal(0,1), 1-(η/2))\n",
    "\n",
    "#Calculating real ATE\n",
    "ate= γ₀-α₀ + (δ₀-β₀)*(quadgk(z->Φ(τ₀₀+τ₀₁*z)*ϕ(z),-Inf,Inf,atol=1e-8)[1])"
   ]
  },
  {
   "cell_type": "code",
   "execution_count": 7,
   "id": "d4e1ce75-1c96-4b51-8d62-594053c5d9cf",
   "metadata": {},
   "outputs": [
    {
     "data": {
      "text/plain": [
       "0.878"
      ]
     },
     "execution_count": 7,
     "metadata": {},
     "output_type": "execute_result"
    }
   ],
   "source": [
    "tinci_ols = 0\n",
    "tinci_ols_2stp = 0\n",
    "tinci_ols_boots = 0\n",
    "tinci_ols_pboots = 0\n",
    "\n",
    "#Why hve to run it before to work?\n",
    "X, D, Y=genData(n, τ₀, α₀, β₀, γ₀, δ₀, μ₀);\n",
    "t, b, se1, se2 = ateMatch(X, D, Y);\n",
    "\n",
    "#Simulations\n",
    "for r=1:R\n",
    "    #GDP\n",
    "    X, D, Y=genData(n, τ₀, α₀, β₀, γ₀, δ₀, μ₀);\n",
    "    \n",
    "    #2-step estimation\n",
    "    t, b, se1, se2 = ateMatch(X, D, Y);\n",
    "    Δ= b[3]   \n",
    "    σ_ols=se1[3,3]\n",
    "    σ_ols_2stp=se2[3,3]\n",
    "    \n",
    "    #Bootstrap estimation\n",
    "    σ_boots, ci_lb, ci_ub = ateBoots(X, D, Y, Δ, B, η)\n",
    "        \n",
    "    #Calculating absolute coverages (times that real ATE is inside CIs)\n",
    "    tinci_ols += (abs(ate-Δ)<=zstat*σ_ols)\n",
    "    tinci_ols_2stp += (abs(ate-Δ)<=zstat*σ_ols_2stp)  \n",
    "    tinci_ols_boots += (abs(ate-Δ)<=zstat*σ_boots)  \n",
    "    tinci_ols_pboots += (ate>=ci_lb)*(ate<=ci_ub)\n",
    "end\n",
    "\n",
    "#Calculating mean coverages\n",
    "minci_ols= tinci_ols/R\n",
    "minci_ols_2stp= tinci_ols_2stp/R\n",
    "minci_ols_boots= tinci_ols_boots/R \n",
    "minci_ols_pboots= tinci_ols_pboots/R"
   ]
  },
  {
   "cell_type": "code",
   "execution_count": 8,
   "id": "050f15be-8b02-4f50-b66f-7ef2f11d6ec5",
   "metadata": {},
   "outputs": [
    {
     "name": "stdout",
     "output_type": "stream",
     "text": [
      "┌─────────────────────┬───────────────┬───────────────────┬──────────────┬──────────────────────┐\n",
      "│\u001b[1m           Statistic \u001b[0m│\u001b[1m No correction \u001b[0m│\u001b[1m 2 step correction \u001b[0m│\u001b[1m SE bootstrap \u001b[0m│\u001b[1m Percentile Bootstrap \u001b[0m│\n",
      "├─────────────────────┼───────────────┼───────────────────┼──────────────┼──────────────────────┤\n",
      "│      ate (estimate) │      0.017278 │          0.017278 │     0.017278 │             0.017278 │\n",
      "│ Coverage Prob of CI │         0.755 │             0.761 │        0.893 │                0.878 │\n",
      "└─────────────────────┴───────────────┴───────────────────┴──────────────┴──────────────────────┘\n"
     ]
    }
   ],
   "source": [
    "#Table report\n",
    "table_data = [\"ate (estimate)\" b[3] b[3] b[3] b[3];\n",
    "        \"Coverage Prob of CI\" minci_ols minci_ols_2stp minci_ols_boots minci_ols_pboots;]\n",
    "header=[\"Statistic\", \"No correction\", \"2 step correction\", \"SE bootstrap\", \"Percentile Bootstrap\"]\n",
    "pretty_table(table_data; header)"
   ]
  },
  {
   "cell_type": "markdown",
   "id": "1e97bb8c-e2cd-4e1d-ba43-5d933fb61421",
   "metadata": {},
   "source": [
    "### (e)"
   ]
  },
  {
   "cell_type": "markdown",
   "id": "66750cb0-db31-41ea-9225-b69e8239ac4e",
   "metadata": {},
   "source": [
    "It seems that bootstrap is most accurate to construct the confidence intervals (either the standard error or the percentile method). This since its coverages are really close to the real nominal probability of 90%.\n",
    "\n",
    "Regarding the correction of the two step stimator, it seems it helps to improve the coverage but the improvement seems marginal compared to the bootstrap method. "
   ]
  }
 ],
 "metadata": {
  "kernelspec": {
   "display_name": "Julia 1.8.1",
   "language": "julia",
   "name": "julia-1.8"
  },
  "language_info": {
   "file_extension": ".jl",
   "mimetype": "application/julia",
   "name": "julia",
   "version": "1.8.1"
  }
 },
 "nbformat": 4,
 "nbformat_minor": 5
}
